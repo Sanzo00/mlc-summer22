{
  "nbformat": 4,
  "nbformat_minor": 0,
  "metadata": {
    "colab": {
      "name": "2.4_case-study.ipynb",
      "provenance": [],
      "collapsed_sections": [],
      "authorship_tag": "ABX9TyNNa0wMAFgiH/QpJ+DEg6qy",
      "include_colab_link": true
    },
    "kernelspec": {
      "name": "python3",
      "display_name": "Python 3"
    },
    "language_info": {
      "name": "python"
    }
  },
  "cells": [
    {
      "cell_type": "markdown",
      "metadata": {
        "id": "view-in-github",
        "colab_type": "text"
      },
      "source": [
        "<a href=\"https://colab.research.google.com/github/Sanzo00/mlc-summer22/blob/master/2_4_case_study.ipynb\" target=\"_parent\"><img src=\"https://colab.research.google.com/assets/colab-badge.svg\" alt=\"Open In Colab\"/></a>"
      ]
    },
    {
      "cell_type": "code",
      "execution_count": 1,
      "metadata": {
        "colab": {
          "base_uri": "https://localhost:8080/"
        },
        "id": "9JSxckm2QNZU",
        "outputId": "42f74dd5-6ed8-4f8a-9bcc-b401acb4db3f"
      },
      "outputs": [
        {
          "output_type": "stream",
          "name": "stdout",
          "text": [
            "Looking in indexes: https://pypi.org/simple, https://us-python.pkg.dev/colab-wheels/public/simple/\n",
            "Looking in links: https://mlc.ai/wheels\n",
            "Requirement already satisfied: mlc-ai-nightly in /usr/local/lib/python3.7/dist-packages (0.9.dev1956+ge3f218d71)\n",
            "Requirement already satisfied: tornado in /usr/local/lib/python3.7/dist-packages (from mlc-ai-nightly) (5.1.1)\n",
            "Requirement already satisfied: scipy in /usr/local/lib/python3.7/dist-packages (from mlc-ai-nightly) (1.7.3)\n",
            "Requirement already satisfied: cloudpickle in /usr/local/lib/python3.7/dist-packages (from mlc-ai-nightly) (1.3.0)\n",
            "Requirement already satisfied: decorator in /usr/local/lib/python3.7/dist-packages (from mlc-ai-nightly) (4.4.2)\n",
            "Requirement already satisfied: psutil in /usr/local/lib/python3.7/dist-packages (from mlc-ai-nightly) (5.4.8)\n",
            "Requirement already satisfied: synr==0.6.0 in /usr/local/lib/python3.7/dist-packages (from mlc-ai-nightly) (0.6.0)\n",
            "Requirement already satisfied: Pygments in /usr/local/lib/python3.7/dist-packages (from mlc-ai-nightly) (2.6.1)\n",
            "Requirement already satisfied: numpy in /usr/local/lib/python3.7/dist-packages (from mlc-ai-nightly) (1.21.6)\n",
            "Requirement already satisfied: attrs in /usr/local/lib/python3.7/dist-packages (from mlc-ai-nightly) (22.1.0)\n"
          ]
        }
      ],
      "source": [
        "!python3 -m  pip install mlc-ai-nightly -f https://mlc.ai/wheels"
      ]
    },
    {
      "cell_type": "code",
      "source": [
        "import numpy as np\n",
        "import tvm\n",
        "from tvm.ir.module import IRModule\n",
        "from tvm.script import tir as T\n",
        "import time"
      ],
      "metadata": {
        "id": "XpWHI7RfRCFJ"
      },
      "execution_count": 2,
      "outputs": []
    },
    {
      "cell_type": "code",
      "source": [
        "dtype = 'float32'\n",
        "a_np = np.random.rand(128, 128).astype(dtype)\n",
        "b_np = np.random.rand(128, 128).astype(dtype)"
      ],
      "metadata": {
        "id": "GYmrkg1aRHAM"
      },
      "execution_count": 3,
      "outputs": []
    },
    {
      "cell_type": "code",
      "source": [
        "time_start = time.time()\n",
        "c_mm_relu = np.maximum(a_np @ b_np, 0)\n",
        "print(f\"mm_relu(numpy) cost {(time.time() - time_start):.3f}s\")"
      ],
      "metadata": {
        "colab": {
          "base_uri": "https://localhost:8080/"
        },
        "id": "gj_oeO5qRaOa",
        "outputId": "42359cd0-1f31-4ff2-a5ce-11c1c771b452"
      },
      "execution_count": 4,
      "outputs": [
        {
          "output_type": "stream",
          "name": "stdout",
          "text": [
            "mm_relu(numpy) cost 0.014s\n"
          ]
        }
      ]
    },
    {
      "cell_type": "code",
      "source": [
        "# implement mm_relu\n",
        "def lnumpy_mm_relu(A: np.ndarray, B: np.ndarray, C: np.ndarray):\n",
        "  Y = np.empty((128, 128), dtype=\"float32\")\n",
        "  for i in range(128):\n",
        "    for j in range(128):\n",
        "      Y[i, j] = 0\n",
        "      for k in range(128):\n",
        "        Y[i, j] += A[i, k] * B[k, j]\n",
        "      C[i, j] = max(Y[i, j], 0)\n"
      ],
      "metadata": {
        "id": "ekpqsCYrRTNq"
      },
      "execution_count": 5,
      "outputs": []
    },
    {
      "cell_type": "code",
      "source": [
        "c_np = np.zeros((128, 128), dtype=dtype)\n",
        "time_start = time.time()\n",
        "lnumpy_mm_relu(a_np, b_np, c_np)\n",
        "print(f\"lnumpy_mm_relu(handcraft) cost {(time.time() - time_start):.3f}s\")"
      ],
      "metadata": {
        "colab": {
          "base_uri": "https://localhost:8080/"
        },
        "id": "J9xIlJd6RV_R",
        "outputId": "b2a637c8-07cd-4004-ae54-fee05759a604"
      },
      "execution_count": 6,
      "outputs": [
        {
          "output_type": "stream",
          "name": "stdout",
          "text": [
            "lnumpy_mm_relu(handcraft) cost 1.476s\n"
          ]
        }
      ]
    },
    {
      "cell_type": "code",
      "source": [
        "np.testing.assert_allclose(c_mm_relu, c_np, rtol=1e-5)"
      ],
      "metadata": {
        "id": "SncSp4z1RXq1"
      },
      "execution_count": 7,
      "outputs": []
    },
    {
      "cell_type": "code",
      "source": [
        "# implement mm_reluV2\n",
        "def lnumpy_mm_relu_v2(A: np.ndarray, B: np.ndarray, C: np.ndarray):\n",
        "  Y = np.empty((128, 128), dtype=\"float32\")\n",
        "  for i in range(128):\n",
        "    for j0 in range(32):\n",
        "      for k in range(128):\n",
        "        for j1 in range(4):\n",
        "          j = j0 * 4 + j1\n",
        "          if k == 0:\n",
        "            Y[i, j] = 0\n",
        "          Y[i, j] = Y[i, j] + A[i, k] * B[k, j]\n",
        "\n",
        "  for i in range(128):\n",
        "    for j in range(128):\n",
        "      C[i, j] = max(Y[i, j], 0)"
      ],
      "metadata": {
        "id": "HhCn8ufvRgI0"
      },
      "execution_count": 8,
      "outputs": []
    },
    {
      "cell_type": "code",
      "source": [
        "c_mp = np.zeros((128, 128), dtype=dtype)\n",
        "time_start = time.time()\n",
        "lnumpy_mm_relu_v2(a_np, b_np, c_mp)\n",
        "print(f\"lnumpy_mm_relu_v2 cost {time.time() - time_start : .3f}s\")"
      ],
      "metadata": {
        "colab": {
          "base_uri": "https://localhost:8080/"
        },
        "id": "YRAEs5DHRnR1",
        "outputId": "f429c8b7-1a25-4c1a-bbcc-ad64ad232686"
      },
      "execution_count": 9,
      "outputs": [
        {
          "output_type": "stream",
          "name": "stdout",
          "text": [
            "lnumpy_mm_relu_v2 cost  2.263s\n"
          ]
        }
      ]
    },
    {
      "cell_type": "code",
      "source": [
        "np.testing.assert_allclose(c_mm_relu, c_np, rtol=1e-5)"
      ],
      "metadata": {
        "id": "v0ZiR9KgRo_w"
      },
      "execution_count": 10,
      "outputs": []
    },
    {
      "cell_type": "code",
      "source": [
        "# TensorIR\n",
        "@tvm.script.ir_module\n",
        "class MyModule:\n",
        "  @T.prim_func\n",
        "  def mm_relu(A: T.Buffer[(128, 128), \"float32\"],\n",
        "              B: T.Buffer[(128, 128), \"float32\"],\n",
        "              C: T.Buffer[(128, 128), \"float32\"]):\n",
        "    T.func_attr({\"global_symbol\": \"mm_relu\", \"tir_noalias\": True})\n",
        "    Y = T.alloc_buffer((128, 128), dtype=\"float32\")\n",
        "    for i, j, k in T.grid(128, 128, 128):\n",
        "      with T.block(\"Y\"):\n",
        "        vi, vj, vk = T.axis.remap(\"SSR\", [i, j, k])\n",
        "        with T.init():\n",
        "          Y[vi, vj] = T.float32(0)\n",
        "        Y[vi, vj] = Y[vi, vj] + A[vi, vk] * B[vk, vj]\n",
        "\n",
        "    for i, j in T.grid(128, 128):\n",
        "      with T.block(\"C\"):\n",
        "        vi, vj = T.axis.remap(\"SS\", [i, j])\n",
        "        C[vi, vj] = T.max(Y[vi, vj], T.float32(0))"
      ],
      "metadata": {
        "id": "RQ_CBOe5S0YW"
      },
      "execution_count": 11,
      "outputs": []
    },
    {
      "cell_type": "code",
      "source": [
        "import IPython\n",
        "\n",
        "def code2html(code):\n",
        "    \"\"\"Helper function to use pygments to turn the code string into highlighted html.\"\"\"\n",
        "    import pygments\n",
        "    from pygments.lexers import Python3Lexer\n",
        "    from pygments.formatters import HtmlFormatter\n",
        "    formatter = HtmlFormatter()\n",
        "    html = pygments.highlight(code, Python3Lexer(), formatter)\n",
        "    return \"<style>%s</style>%s\\n\" % (formatter.get_style_defs(\".highlight\"), html)\n",
        "\n",
        "# IPython.display.Code(MyModule.script(), language=\"python\")\n",
        "IPython.display.HTML(code2html(MyModule.script()))"
      ],
      "metadata": {
        "colab": {
          "base_uri": "https://localhost:8080/",
          "height": 454
        },
        "id": "5ESLTpVtS3fC",
        "outputId": "49696e37-0918-4686-fff5-6e38f7df9a16"
      },
      "execution_count": 12,
      "outputs": [
        {
          "output_type": "execute_result",
          "data": {
            "text/plain": [
              "<IPython.core.display.HTML object>"
            ],
            "text/html": [
              "<style>.highlight .hll { background-color: #ffffcc }\n",
              ".highlight  { background: #f8f8f8; }\n",
              ".highlight .c { color: #408080; font-style: italic } /* Comment */\n",
              ".highlight .err { border: 1px solid #FF0000 } /* Error */\n",
              ".highlight .k { color: #008000; font-weight: bold } /* Keyword */\n",
              ".highlight .o { color: #666666 } /* Operator */\n",
              ".highlight .ch { color: #408080; font-style: italic } /* Comment.Hashbang */\n",
              ".highlight .cm { color: #408080; font-style: italic } /* Comment.Multiline */\n",
              ".highlight .cp { color: #BC7A00 } /* Comment.Preproc */\n",
              ".highlight .cpf { color: #408080; font-style: italic } /* Comment.PreprocFile */\n",
              ".highlight .c1 { color: #408080; font-style: italic } /* Comment.Single */\n",
              ".highlight .cs { color: #408080; font-style: italic } /* Comment.Special */\n",
              ".highlight .gd { color: #A00000 } /* Generic.Deleted */\n",
              ".highlight .ge { font-style: italic } /* Generic.Emph */\n",
              ".highlight .gr { color: #FF0000 } /* Generic.Error */\n",
              ".highlight .gh { color: #000080; font-weight: bold } /* Generic.Heading */\n",
              ".highlight .gi { color: #00A000 } /* Generic.Inserted */\n",
              ".highlight .go { color: #888888 } /* Generic.Output */\n",
              ".highlight .gp { color: #000080; font-weight: bold } /* Generic.Prompt */\n",
              ".highlight .gs { font-weight: bold } /* Generic.Strong */\n",
              ".highlight .gu { color: #800080; font-weight: bold } /* Generic.Subheading */\n",
              ".highlight .gt { color: #0044DD } /* Generic.Traceback */\n",
              ".highlight .kc { color: #008000; font-weight: bold } /* Keyword.Constant */\n",
              ".highlight .kd { color: #008000; font-weight: bold } /* Keyword.Declaration */\n",
              ".highlight .kn { color: #008000; font-weight: bold } /* Keyword.Namespace */\n",
              ".highlight .kp { color: #008000 } /* Keyword.Pseudo */\n",
              ".highlight .kr { color: #008000; font-weight: bold } /* Keyword.Reserved */\n",
              ".highlight .kt { color: #B00040 } /* Keyword.Type */\n",
              ".highlight .m { color: #666666 } /* Literal.Number */\n",
              ".highlight .s { color: #BA2121 } /* Literal.String */\n",
              ".highlight .na { color: #7D9029 } /* Name.Attribute */\n",
              ".highlight .nb { color: #008000 } /* Name.Builtin */\n",
              ".highlight .nc { color: #0000FF; font-weight: bold } /* Name.Class */\n",
              ".highlight .no { color: #880000 } /* Name.Constant */\n",
              ".highlight .nd { color: #AA22FF } /* Name.Decorator */\n",
              ".highlight .ni { color: #999999; font-weight: bold } /* Name.Entity */\n",
              ".highlight .ne { color: #D2413A; font-weight: bold } /* Name.Exception */\n",
              ".highlight .nf { color: #0000FF } /* Name.Function */\n",
              ".highlight .nl { color: #A0A000 } /* Name.Label */\n",
              ".highlight .nn { color: #0000FF; font-weight: bold } /* Name.Namespace */\n",
              ".highlight .nt { color: #008000; font-weight: bold } /* Name.Tag */\n",
              ".highlight .nv { color: #19177C } /* Name.Variable */\n",
              ".highlight .ow { color: #AA22FF; font-weight: bold } /* Operator.Word */\n",
              ".highlight .w { color: #bbbbbb } /* Text.Whitespace */\n",
              ".highlight .mb { color: #666666 } /* Literal.Number.Bin */\n",
              ".highlight .mf { color: #666666 } /* Literal.Number.Float */\n",
              ".highlight .mh { color: #666666 } /* Literal.Number.Hex */\n",
              ".highlight .mi { color: #666666 } /* Literal.Number.Integer */\n",
              ".highlight .mo { color: #666666 } /* Literal.Number.Oct */\n",
              ".highlight .sa { color: #BA2121 } /* Literal.String.Affix */\n",
              ".highlight .sb { color: #BA2121 } /* Literal.String.Backtick */\n",
              ".highlight .sc { color: #BA2121 } /* Literal.String.Char */\n",
              ".highlight .dl { color: #BA2121 } /* Literal.String.Delimiter */\n",
              ".highlight .sd { color: #BA2121; font-style: italic } /* Literal.String.Doc */\n",
              ".highlight .s2 { color: #BA2121 } /* Literal.String.Double */\n",
              ".highlight .se { color: #BB6622; font-weight: bold } /* Literal.String.Escape */\n",
              ".highlight .sh { color: #BA2121 } /* Literal.String.Heredoc */\n",
              ".highlight .si { color: #BB6688; font-weight: bold } /* Literal.String.Interpol */\n",
              ".highlight .sx { color: #008000 } /* Literal.String.Other */\n",
              ".highlight .sr { color: #BB6688 } /* Literal.String.Regex */\n",
              ".highlight .s1 { color: #BA2121 } /* Literal.String.Single */\n",
              ".highlight .ss { color: #19177C } /* Literal.String.Symbol */\n",
              ".highlight .bp { color: #008000 } /* Name.Builtin.Pseudo */\n",
              ".highlight .fm { color: #0000FF } /* Name.Function.Magic */\n",
              ".highlight .vc { color: #19177C } /* Name.Variable.Class */\n",
              ".highlight .vg { color: #19177C } /* Name.Variable.Global */\n",
              ".highlight .vi { color: #19177C } /* Name.Variable.Instance */\n",
              ".highlight .vm { color: #19177C } /* Name.Variable.Magic */\n",
              ".highlight .il { color: #666666 } /* Literal.Number.Integer.Long */</style><div class=\"highlight\"><pre><span></span><span class=\"nd\">@tvm</span><span class=\"o\">.</span><span class=\"n\">script</span><span class=\"o\">.</span><span class=\"n\">ir_module</span>\n",
              "<span class=\"k\">class</span> <span class=\"nc\">Module</span><span class=\"p\">:</span>\n",
              "    <span class=\"nd\">@T</span><span class=\"o\">.</span><span class=\"n\">prim_func</span>\n",
              "    <span class=\"k\">def</span> <span class=\"nf\">mm_relu</span><span class=\"p\">(</span><span class=\"n\">A</span><span class=\"p\">:</span> <span class=\"n\">T</span><span class=\"o\">.</span><span class=\"n\">Buffer</span><span class=\"p\">[(</span><span class=\"mi\">128</span><span class=\"p\">,</span> <span class=\"mi\">128</span><span class=\"p\">),</span> <span class=\"s2\">&quot;float32&quot;</span><span class=\"p\">],</span> <span class=\"n\">B</span><span class=\"p\">:</span> <span class=\"n\">T</span><span class=\"o\">.</span><span class=\"n\">Buffer</span><span class=\"p\">[(</span><span class=\"mi\">128</span><span class=\"p\">,</span> <span class=\"mi\">128</span><span class=\"p\">),</span> <span class=\"s2\">&quot;float32&quot;</span><span class=\"p\">],</span> <span class=\"n\">C</span><span class=\"p\">:</span> <span class=\"n\">T</span><span class=\"o\">.</span><span class=\"n\">Buffer</span><span class=\"p\">[(</span><span class=\"mi\">128</span><span class=\"p\">,</span> <span class=\"mi\">128</span><span class=\"p\">),</span> <span class=\"s2\">&quot;float32&quot;</span><span class=\"p\">])</span> <span class=\"o\">-&gt;</span> <span class=\"kc\">None</span><span class=\"p\">:</span>\n",
              "        <span class=\"c1\"># function attr dict</span>\n",
              "        <span class=\"n\">T</span><span class=\"o\">.</span><span class=\"n\">func_attr</span><span class=\"p\">({</span><span class=\"s2\">&quot;global_symbol&quot;</span><span class=\"p\">:</span> <span class=\"s2\">&quot;mm_relu&quot;</span><span class=\"p\">,</span> <span class=\"s2\">&quot;tir_noalias&quot;</span><span class=\"p\">:</span> <span class=\"kc\">True</span><span class=\"p\">})</span>\n",
              "        <span class=\"c1\"># body</span>\n",
              "        <span class=\"c1\"># with T.block(&quot;root&quot;)</span>\n",
              "        <span class=\"n\">Y</span> <span class=\"o\">=</span> <span class=\"n\">T</span><span class=\"o\">.</span><span class=\"n\">alloc_buffer</span><span class=\"p\">([</span><span class=\"mi\">128</span><span class=\"p\">,</span> <span class=\"mi\">128</span><span class=\"p\">],</span> <span class=\"n\">dtype</span><span class=\"o\">=</span><span class=\"s2\">&quot;float32&quot;</span><span class=\"p\">)</span>\n",
              "        <span class=\"k\">for</span> <span class=\"n\">i</span><span class=\"p\">,</span> <span class=\"n\">j</span><span class=\"p\">,</span> <span class=\"n\">k</span> <span class=\"ow\">in</span> <span class=\"n\">T</span><span class=\"o\">.</span><span class=\"n\">grid</span><span class=\"p\">(</span><span class=\"mi\">128</span><span class=\"p\">,</span> <span class=\"mi\">128</span><span class=\"p\">,</span> <span class=\"mi\">128</span><span class=\"p\">):</span>\n",
              "            <span class=\"k\">with</span> <span class=\"n\">T</span><span class=\"o\">.</span><span class=\"n\">block</span><span class=\"p\">(</span><span class=\"s2\">&quot;Y&quot;</span><span class=\"p\">):</span>\n",
              "                <span class=\"n\">vi</span><span class=\"p\">,</span> <span class=\"n\">vj</span><span class=\"p\">,</span> <span class=\"n\">vk</span> <span class=\"o\">=</span> <span class=\"n\">T</span><span class=\"o\">.</span><span class=\"n\">axis</span><span class=\"o\">.</span><span class=\"n\">remap</span><span class=\"p\">(</span><span class=\"s2\">&quot;SSR&quot;</span><span class=\"p\">,</span> <span class=\"p\">[</span><span class=\"n\">i</span><span class=\"p\">,</span> <span class=\"n\">j</span><span class=\"p\">,</span> <span class=\"n\">k</span><span class=\"p\">])</span>\n",
              "                <span class=\"n\">T</span><span class=\"o\">.</span><span class=\"n\">reads</span><span class=\"p\">(</span><span class=\"n\">A</span><span class=\"p\">[</span><span class=\"n\">vi</span><span class=\"p\">,</span> <span class=\"n\">vk</span><span class=\"p\">],</span> <span class=\"n\">B</span><span class=\"p\">[</span><span class=\"n\">vk</span><span class=\"p\">,</span> <span class=\"n\">vj</span><span class=\"p\">])</span>\n",
              "                <span class=\"n\">T</span><span class=\"o\">.</span><span class=\"n\">writes</span><span class=\"p\">(</span><span class=\"n\">Y</span><span class=\"p\">[</span><span class=\"n\">vi</span><span class=\"p\">,</span> <span class=\"n\">vj</span><span class=\"p\">])</span>\n",
              "                <span class=\"k\">with</span> <span class=\"n\">T</span><span class=\"o\">.</span><span class=\"n\">init</span><span class=\"p\">():</span>\n",
              "                    <span class=\"n\">Y</span><span class=\"p\">[</span><span class=\"n\">vi</span><span class=\"p\">,</span> <span class=\"n\">vj</span><span class=\"p\">]</span> <span class=\"o\">=</span> <span class=\"n\">T</span><span class=\"o\">.</span><span class=\"n\">float32</span><span class=\"p\">(</span><span class=\"mi\">0</span><span class=\"p\">)</span>\n",
              "                <span class=\"n\">Y</span><span class=\"p\">[</span><span class=\"n\">vi</span><span class=\"p\">,</span> <span class=\"n\">vj</span><span class=\"p\">]</span> <span class=\"o\">=</span> <span class=\"n\">Y</span><span class=\"p\">[</span><span class=\"n\">vi</span><span class=\"p\">,</span> <span class=\"n\">vj</span><span class=\"p\">]</span> <span class=\"o\">+</span> <span class=\"n\">A</span><span class=\"p\">[</span><span class=\"n\">vi</span><span class=\"p\">,</span> <span class=\"n\">vk</span><span class=\"p\">]</span> <span class=\"o\">*</span> <span class=\"n\">B</span><span class=\"p\">[</span><span class=\"n\">vk</span><span class=\"p\">,</span> <span class=\"n\">vj</span><span class=\"p\">]</span>\n",
              "        <span class=\"k\">for</span> <span class=\"n\">i</span><span class=\"p\">,</span> <span class=\"n\">j</span> <span class=\"ow\">in</span> <span class=\"n\">T</span><span class=\"o\">.</span><span class=\"n\">grid</span><span class=\"p\">(</span><span class=\"mi\">128</span><span class=\"p\">,</span> <span class=\"mi\">128</span><span class=\"p\">):</span>\n",
              "            <span class=\"k\">with</span> <span class=\"n\">T</span><span class=\"o\">.</span><span class=\"n\">block</span><span class=\"p\">(</span><span class=\"s2\">&quot;C&quot;</span><span class=\"p\">):</span>\n",
              "                <span class=\"n\">vi</span><span class=\"p\">,</span> <span class=\"n\">vj</span> <span class=\"o\">=</span> <span class=\"n\">T</span><span class=\"o\">.</span><span class=\"n\">axis</span><span class=\"o\">.</span><span class=\"n\">remap</span><span class=\"p\">(</span><span class=\"s2\">&quot;SS&quot;</span><span class=\"p\">,</span> <span class=\"p\">[</span><span class=\"n\">i</span><span class=\"p\">,</span> <span class=\"n\">j</span><span class=\"p\">])</span>\n",
              "                <span class=\"n\">T</span><span class=\"o\">.</span><span class=\"n\">reads</span><span class=\"p\">(</span><span class=\"n\">Y</span><span class=\"p\">[</span><span class=\"n\">vi</span><span class=\"p\">,</span> <span class=\"n\">vj</span><span class=\"p\">])</span>\n",
              "                <span class=\"n\">T</span><span class=\"o\">.</span><span class=\"n\">writes</span><span class=\"p\">(</span><span class=\"n\">C</span><span class=\"p\">[</span><span class=\"n\">vi</span><span class=\"p\">,</span> <span class=\"n\">vj</span><span class=\"p\">])</span>\n",
              "                <span class=\"n\">C</span><span class=\"p\">[</span><span class=\"n\">vi</span><span class=\"p\">,</span> <span class=\"n\">vj</span><span class=\"p\">]</span> <span class=\"o\">=</span> <span class=\"n\">T</span><span class=\"o\">.</span><span class=\"n\">max</span><span class=\"p\">(</span><span class=\"n\">Y</span><span class=\"p\">[</span><span class=\"n\">vi</span><span class=\"p\">,</span> <span class=\"n\">vj</span><span class=\"p\">],</span> <span class=\"n\">T</span><span class=\"o\">.</span><span class=\"n\">float32</span><span class=\"p\">(</span><span class=\"mi\">0</span><span class=\"p\">))</span>\n",
              "    \n",
              "</pre></div>\n",
              "\n"
            ]
          },
          "metadata": {},
          "execution_count": 12
        }
      ]
    },
    {
      "cell_type": "code",
      "source": [
        "sch = tvm.tir.Schedule(MyModule)\n",
        "block_Y = sch.get_block(\"Y\", func_name=\"mm_relu\")\n",
        "i, j, k = sch.get_loops(block_Y)\n",
        "j0, j1 = sch.split(j, factors=(None, 4))\n",
        "print(\"\\nsplit j to [j0, j1] shc.mod:\")"
      ],
      "metadata": {
        "colab": {
          "base_uri": "https://localhost:8080/"
        },
        "id": "EMKL4gwVS6-z",
        "outputId": "989a350f-d686-45c9-ad24-8e332f562703"
      },
      "execution_count": 13,
      "outputs": [
        {
          "output_type": "stream",
          "name": "stdout",
          "text": [
            "\n",
            "split j to [j0, j1] shc.mod:\n"
          ]
        }
      ]
    },
    {
      "cell_type": "code",
      "source": [
        "IPython.display.HTML(code2html(sch.mod.script()))"
      ],
      "metadata": {
        "colab": {
          "base_uri": "https://localhost:8080/",
          "height": 488
        },
        "id": "YDd6SGMMUTDI",
        "outputId": "fbc50680-2fd0-4ace-bbe0-eae47554ad23"
      },
      "execution_count": 14,
      "outputs": [
        {
          "output_type": "execute_result",
          "data": {
            "text/plain": [
              "<IPython.core.display.HTML object>"
            ],
            "text/html": [
              "<style>.highlight .hll { background-color: #ffffcc }\n",
              ".highlight  { background: #f8f8f8; }\n",
              ".highlight .c { color: #408080; font-style: italic } /* Comment */\n",
              ".highlight .err { border: 1px solid #FF0000 } /* Error */\n",
              ".highlight .k { color: #008000; font-weight: bold } /* Keyword */\n",
              ".highlight .o { color: #666666 } /* Operator */\n",
              ".highlight .ch { color: #408080; font-style: italic } /* Comment.Hashbang */\n",
              ".highlight .cm { color: #408080; font-style: italic } /* Comment.Multiline */\n",
              ".highlight .cp { color: #BC7A00 } /* Comment.Preproc */\n",
              ".highlight .cpf { color: #408080; font-style: italic } /* Comment.PreprocFile */\n",
              ".highlight .c1 { color: #408080; font-style: italic } /* Comment.Single */\n",
              ".highlight .cs { color: #408080; font-style: italic } /* Comment.Special */\n",
              ".highlight .gd { color: #A00000 } /* Generic.Deleted */\n",
              ".highlight .ge { font-style: italic } /* Generic.Emph */\n",
              ".highlight .gr { color: #FF0000 } /* Generic.Error */\n",
              ".highlight .gh { color: #000080; font-weight: bold } /* Generic.Heading */\n",
              ".highlight .gi { color: #00A000 } /* Generic.Inserted */\n",
              ".highlight .go { color: #888888 } /* Generic.Output */\n",
              ".highlight .gp { color: #000080; font-weight: bold } /* Generic.Prompt */\n",
              ".highlight .gs { font-weight: bold } /* Generic.Strong */\n",
              ".highlight .gu { color: #800080; font-weight: bold } /* Generic.Subheading */\n",
              ".highlight .gt { color: #0044DD } /* Generic.Traceback */\n",
              ".highlight .kc { color: #008000; font-weight: bold } /* Keyword.Constant */\n",
              ".highlight .kd { color: #008000; font-weight: bold } /* Keyword.Declaration */\n",
              ".highlight .kn { color: #008000; font-weight: bold } /* Keyword.Namespace */\n",
              ".highlight .kp { color: #008000 } /* Keyword.Pseudo */\n",
              ".highlight .kr { color: #008000; font-weight: bold } /* Keyword.Reserved */\n",
              ".highlight .kt { color: #B00040 } /* Keyword.Type */\n",
              ".highlight .m { color: #666666 } /* Literal.Number */\n",
              ".highlight .s { color: #BA2121 } /* Literal.String */\n",
              ".highlight .na { color: #7D9029 } /* Name.Attribute */\n",
              ".highlight .nb { color: #008000 } /* Name.Builtin */\n",
              ".highlight .nc { color: #0000FF; font-weight: bold } /* Name.Class */\n",
              ".highlight .no { color: #880000 } /* Name.Constant */\n",
              ".highlight .nd { color: #AA22FF } /* Name.Decorator */\n",
              ".highlight .ni { color: #999999; font-weight: bold } /* Name.Entity */\n",
              ".highlight .ne { color: #D2413A; font-weight: bold } /* Name.Exception */\n",
              ".highlight .nf { color: #0000FF } /* Name.Function */\n",
              ".highlight .nl { color: #A0A000 } /* Name.Label */\n",
              ".highlight .nn { color: #0000FF; font-weight: bold } /* Name.Namespace */\n",
              ".highlight .nt { color: #008000; font-weight: bold } /* Name.Tag */\n",
              ".highlight .nv { color: #19177C } /* Name.Variable */\n",
              ".highlight .ow { color: #AA22FF; font-weight: bold } /* Operator.Word */\n",
              ".highlight .w { color: #bbbbbb } /* Text.Whitespace */\n",
              ".highlight .mb { color: #666666 } /* Literal.Number.Bin */\n",
              ".highlight .mf { color: #666666 } /* Literal.Number.Float */\n",
              ".highlight .mh { color: #666666 } /* Literal.Number.Hex */\n",
              ".highlight .mi { color: #666666 } /* Literal.Number.Integer */\n",
              ".highlight .mo { color: #666666 } /* Literal.Number.Oct */\n",
              ".highlight .sa { color: #BA2121 } /* Literal.String.Affix */\n",
              ".highlight .sb { color: #BA2121 } /* Literal.String.Backtick */\n",
              ".highlight .sc { color: #BA2121 } /* Literal.String.Char */\n",
              ".highlight .dl { color: #BA2121 } /* Literal.String.Delimiter */\n",
              ".highlight .sd { color: #BA2121; font-style: italic } /* Literal.String.Doc */\n",
              ".highlight .s2 { color: #BA2121 } /* Literal.String.Double */\n",
              ".highlight .se { color: #BB6622; font-weight: bold } /* Literal.String.Escape */\n",
              ".highlight .sh { color: #BA2121 } /* Literal.String.Heredoc */\n",
              ".highlight .si { color: #BB6688; font-weight: bold } /* Literal.String.Interpol */\n",
              ".highlight .sx { color: #008000 } /* Literal.String.Other */\n",
              ".highlight .sr { color: #BB6688 } /* Literal.String.Regex */\n",
              ".highlight .s1 { color: #BA2121 } /* Literal.String.Single */\n",
              ".highlight .ss { color: #19177C } /* Literal.String.Symbol */\n",
              ".highlight .bp { color: #008000 } /* Name.Builtin.Pseudo */\n",
              ".highlight .fm { color: #0000FF } /* Name.Function.Magic */\n",
              ".highlight .vc { color: #19177C } /* Name.Variable.Class */\n",
              ".highlight .vg { color: #19177C } /* Name.Variable.Global */\n",
              ".highlight .vi { color: #19177C } /* Name.Variable.Instance */\n",
              ".highlight .vm { color: #19177C } /* Name.Variable.Magic */\n",
              ".highlight .il { color: #666666 } /* Literal.Number.Integer.Long */</style><div class=\"highlight\"><pre><span></span><span class=\"nd\">@tvm</span><span class=\"o\">.</span><span class=\"n\">script</span><span class=\"o\">.</span><span class=\"n\">ir_module</span>\n",
              "<span class=\"k\">class</span> <span class=\"nc\">Module</span><span class=\"p\">:</span>\n",
              "    <span class=\"nd\">@T</span><span class=\"o\">.</span><span class=\"n\">prim_func</span>\n",
              "    <span class=\"k\">def</span> <span class=\"nf\">mm_relu</span><span class=\"p\">(</span><span class=\"n\">A</span><span class=\"p\">:</span> <span class=\"n\">T</span><span class=\"o\">.</span><span class=\"n\">Buffer</span><span class=\"p\">[(</span><span class=\"mi\">128</span><span class=\"p\">,</span> <span class=\"mi\">128</span><span class=\"p\">),</span> <span class=\"s2\">&quot;float32&quot;</span><span class=\"p\">],</span> <span class=\"n\">B</span><span class=\"p\">:</span> <span class=\"n\">T</span><span class=\"o\">.</span><span class=\"n\">Buffer</span><span class=\"p\">[(</span><span class=\"mi\">128</span><span class=\"p\">,</span> <span class=\"mi\">128</span><span class=\"p\">),</span> <span class=\"s2\">&quot;float32&quot;</span><span class=\"p\">],</span> <span class=\"n\">C</span><span class=\"p\">:</span> <span class=\"n\">T</span><span class=\"o\">.</span><span class=\"n\">Buffer</span><span class=\"p\">[(</span><span class=\"mi\">128</span><span class=\"p\">,</span> <span class=\"mi\">128</span><span class=\"p\">),</span> <span class=\"s2\">&quot;float32&quot;</span><span class=\"p\">])</span> <span class=\"o\">-&gt;</span> <span class=\"kc\">None</span><span class=\"p\">:</span>\n",
              "        <span class=\"c1\"># function attr dict</span>\n",
              "        <span class=\"n\">T</span><span class=\"o\">.</span><span class=\"n\">func_attr</span><span class=\"p\">({</span><span class=\"s2\">&quot;global_symbol&quot;</span><span class=\"p\">:</span> <span class=\"s2\">&quot;mm_relu&quot;</span><span class=\"p\">,</span> <span class=\"s2\">&quot;tir_noalias&quot;</span><span class=\"p\">:</span> <span class=\"kc\">True</span><span class=\"p\">})</span>\n",
              "        <span class=\"c1\"># body</span>\n",
              "        <span class=\"c1\"># with T.block(&quot;root&quot;)</span>\n",
              "        <span class=\"n\">Y</span> <span class=\"o\">=</span> <span class=\"n\">T</span><span class=\"o\">.</span><span class=\"n\">alloc_buffer</span><span class=\"p\">([</span><span class=\"mi\">128</span><span class=\"p\">,</span> <span class=\"mi\">128</span><span class=\"p\">],</span> <span class=\"n\">dtype</span><span class=\"o\">=</span><span class=\"s2\">&quot;float32&quot;</span><span class=\"p\">)</span>\n",
              "        <span class=\"k\">for</span> <span class=\"n\">i</span><span class=\"p\">,</span> <span class=\"n\">j_0</span><span class=\"p\">,</span> <span class=\"n\">j_1</span><span class=\"p\">,</span> <span class=\"n\">k</span> <span class=\"ow\">in</span> <span class=\"n\">T</span><span class=\"o\">.</span><span class=\"n\">grid</span><span class=\"p\">(</span><span class=\"mi\">128</span><span class=\"p\">,</span> <span class=\"mi\">32</span><span class=\"p\">,</span> <span class=\"mi\">4</span><span class=\"p\">,</span> <span class=\"mi\">128</span><span class=\"p\">):</span>\n",
              "            <span class=\"k\">with</span> <span class=\"n\">T</span><span class=\"o\">.</span><span class=\"n\">block</span><span class=\"p\">(</span><span class=\"s2\">&quot;Y&quot;</span><span class=\"p\">):</span>\n",
              "                <span class=\"n\">vi</span> <span class=\"o\">=</span> <span class=\"n\">T</span><span class=\"o\">.</span><span class=\"n\">axis</span><span class=\"o\">.</span><span class=\"n\">spatial</span><span class=\"p\">(</span><span class=\"mi\">128</span><span class=\"p\">,</span> <span class=\"n\">i</span><span class=\"p\">)</span>\n",
              "                <span class=\"n\">vj</span> <span class=\"o\">=</span> <span class=\"n\">T</span><span class=\"o\">.</span><span class=\"n\">axis</span><span class=\"o\">.</span><span class=\"n\">spatial</span><span class=\"p\">(</span><span class=\"mi\">128</span><span class=\"p\">,</span> <span class=\"n\">j_0</span> <span class=\"o\">*</span> <span class=\"mi\">4</span> <span class=\"o\">+</span> <span class=\"n\">j_1</span><span class=\"p\">)</span>\n",
              "                <span class=\"n\">vk</span> <span class=\"o\">=</span> <span class=\"n\">T</span><span class=\"o\">.</span><span class=\"n\">axis</span><span class=\"o\">.</span><span class=\"n\">reduce</span><span class=\"p\">(</span><span class=\"mi\">128</span><span class=\"p\">,</span> <span class=\"n\">k</span><span class=\"p\">)</span>\n",
              "                <span class=\"n\">T</span><span class=\"o\">.</span><span class=\"n\">reads</span><span class=\"p\">(</span><span class=\"n\">A</span><span class=\"p\">[</span><span class=\"n\">vi</span><span class=\"p\">,</span> <span class=\"n\">vk</span><span class=\"p\">],</span> <span class=\"n\">B</span><span class=\"p\">[</span><span class=\"n\">vk</span><span class=\"p\">,</span> <span class=\"n\">vj</span><span class=\"p\">])</span>\n",
              "                <span class=\"n\">T</span><span class=\"o\">.</span><span class=\"n\">writes</span><span class=\"p\">(</span><span class=\"n\">Y</span><span class=\"p\">[</span><span class=\"n\">vi</span><span class=\"p\">,</span> <span class=\"n\">vj</span><span class=\"p\">])</span>\n",
              "                <span class=\"k\">with</span> <span class=\"n\">T</span><span class=\"o\">.</span><span class=\"n\">init</span><span class=\"p\">():</span>\n",
              "                    <span class=\"n\">Y</span><span class=\"p\">[</span><span class=\"n\">vi</span><span class=\"p\">,</span> <span class=\"n\">vj</span><span class=\"p\">]</span> <span class=\"o\">=</span> <span class=\"n\">T</span><span class=\"o\">.</span><span class=\"n\">float32</span><span class=\"p\">(</span><span class=\"mi\">0</span><span class=\"p\">)</span>\n",
              "                <span class=\"n\">Y</span><span class=\"p\">[</span><span class=\"n\">vi</span><span class=\"p\">,</span> <span class=\"n\">vj</span><span class=\"p\">]</span> <span class=\"o\">=</span> <span class=\"n\">Y</span><span class=\"p\">[</span><span class=\"n\">vi</span><span class=\"p\">,</span> <span class=\"n\">vj</span><span class=\"p\">]</span> <span class=\"o\">+</span> <span class=\"n\">A</span><span class=\"p\">[</span><span class=\"n\">vi</span><span class=\"p\">,</span> <span class=\"n\">vk</span><span class=\"p\">]</span> <span class=\"o\">*</span> <span class=\"n\">B</span><span class=\"p\">[</span><span class=\"n\">vk</span><span class=\"p\">,</span> <span class=\"n\">vj</span><span class=\"p\">]</span>\n",
              "        <span class=\"k\">for</span> <span class=\"n\">i</span><span class=\"p\">,</span> <span class=\"n\">j</span> <span class=\"ow\">in</span> <span class=\"n\">T</span><span class=\"o\">.</span><span class=\"n\">grid</span><span class=\"p\">(</span><span class=\"mi\">128</span><span class=\"p\">,</span> <span class=\"mi\">128</span><span class=\"p\">):</span>\n",
              "            <span class=\"k\">with</span> <span class=\"n\">T</span><span class=\"o\">.</span><span class=\"n\">block</span><span class=\"p\">(</span><span class=\"s2\">&quot;C&quot;</span><span class=\"p\">):</span>\n",
              "                <span class=\"n\">vi</span><span class=\"p\">,</span> <span class=\"n\">vj</span> <span class=\"o\">=</span> <span class=\"n\">T</span><span class=\"o\">.</span><span class=\"n\">axis</span><span class=\"o\">.</span><span class=\"n\">remap</span><span class=\"p\">(</span><span class=\"s2\">&quot;SS&quot;</span><span class=\"p\">,</span> <span class=\"p\">[</span><span class=\"n\">i</span><span class=\"p\">,</span> <span class=\"n\">j</span><span class=\"p\">])</span>\n",
              "                <span class=\"n\">T</span><span class=\"o\">.</span><span class=\"n\">reads</span><span class=\"p\">(</span><span class=\"n\">Y</span><span class=\"p\">[</span><span class=\"n\">vi</span><span class=\"p\">,</span> <span class=\"n\">vj</span><span class=\"p\">])</span>\n",
              "                <span class=\"n\">T</span><span class=\"o\">.</span><span class=\"n\">writes</span><span class=\"p\">(</span><span class=\"n\">C</span><span class=\"p\">[</span><span class=\"n\">vi</span><span class=\"p\">,</span> <span class=\"n\">vj</span><span class=\"p\">])</span>\n",
              "                <span class=\"n\">C</span><span class=\"p\">[</span><span class=\"n\">vi</span><span class=\"p\">,</span> <span class=\"n\">vj</span><span class=\"p\">]</span> <span class=\"o\">=</span> <span class=\"n\">T</span><span class=\"o\">.</span><span class=\"n\">max</span><span class=\"p\">(</span><span class=\"n\">Y</span><span class=\"p\">[</span><span class=\"n\">vi</span><span class=\"p\">,</span> <span class=\"n\">vj</span><span class=\"p\">],</span> <span class=\"n\">T</span><span class=\"o\">.</span><span class=\"n\">float32</span><span class=\"p\">(</span><span class=\"mi\">0</span><span class=\"p\">))</span>\n",
              "    \n",
              "</pre></div>\n",
              "\n"
            ]
          },
          "metadata": {},
          "execution_count": 14
        }
      ]
    },
    {
      "cell_type": "code",
      "source": [
        "# reorder to [j0, k, j1]\n",
        "sch.reorder(j0, k, j1)\n",
        "print(\"\\nafter reorder[j0, k, j1]:\")"
      ],
      "metadata": {
        "colab": {
          "base_uri": "https://localhost:8080/"
        },
        "id": "G4Bb0pkSUT-D",
        "outputId": "17b8ad76-d1cc-41df-db0c-8d82d6ffb696"
      },
      "execution_count": 15,
      "outputs": [
        {
          "output_type": "stream",
          "name": "stdout",
          "text": [
            "\n",
            "after reorder[j0, k, j1]:\n"
          ]
        }
      ]
    },
    {
      "cell_type": "code",
      "source": [
        "IPython.display.HTML(code2html(sch.mod.script()))"
      ],
      "metadata": {
        "colab": {
          "base_uri": "https://localhost:8080/",
          "height": 488
        },
        "id": "yyEZH0ezUYQ_",
        "outputId": "f3d92116-5b24-4fe4-f4ad-24138bf3f46d"
      },
      "execution_count": 16,
      "outputs": [
        {
          "output_type": "execute_result",
          "data": {
            "text/plain": [
              "<IPython.core.display.HTML object>"
            ],
            "text/html": [
              "<style>.highlight .hll { background-color: #ffffcc }\n",
              ".highlight  { background: #f8f8f8; }\n",
              ".highlight .c { color: #408080; font-style: italic } /* Comment */\n",
              ".highlight .err { border: 1px solid #FF0000 } /* Error */\n",
              ".highlight .k { color: #008000; font-weight: bold } /* Keyword */\n",
              ".highlight .o { color: #666666 } /* Operator */\n",
              ".highlight .ch { color: #408080; font-style: italic } /* Comment.Hashbang */\n",
              ".highlight .cm { color: #408080; font-style: italic } /* Comment.Multiline */\n",
              ".highlight .cp { color: #BC7A00 } /* Comment.Preproc */\n",
              ".highlight .cpf { color: #408080; font-style: italic } /* Comment.PreprocFile */\n",
              ".highlight .c1 { color: #408080; font-style: italic } /* Comment.Single */\n",
              ".highlight .cs { color: #408080; font-style: italic } /* Comment.Special */\n",
              ".highlight .gd { color: #A00000 } /* Generic.Deleted */\n",
              ".highlight .ge { font-style: italic } /* Generic.Emph */\n",
              ".highlight .gr { color: #FF0000 } /* Generic.Error */\n",
              ".highlight .gh { color: #000080; font-weight: bold } /* Generic.Heading */\n",
              ".highlight .gi { color: #00A000 } /* Generic.Inserted */\n",
              ".highlight .go { color: #888888 } /* Generic.Output */\n",
              ".highlight .gp { color: #000080; font-weight: bold } /* Generic.Prompt */\n",
              ".highlight .gs { font-weight: bold } /* Generic.Strong */\n",
              ".highlight .gu { color: #800080; font-weight: bold } /* Generic.Subheading */\n",
              ".highlight .gt { color: #0044DD } /* Generic.Traceback */\n",
              ".highlight .kc { color: #008000; font-weight: bold } /* Keyword.Constant */\n",
              ".highlight .kd { color: #008000; font-weight: bold } /* Keyword.Declaration */\n",
              ".highlight .kn { color: #008000; font-weight: bold } /* Keyword.Namespace */\n",
              ".highlight .kp { color: #008000 } /* Keyword.Pseudo */\n",
              ".highlight .kr { color: #008000; font-weight: bold } /* Keyword.Reserved */\n",
              ".highlight .kt { color: #B00040 } /* Keyword.Type */\n",
              ".highlight .m { color: #666666 } /* Literal.Number */\n",
              ".highlight .s { color: #BA2121 } /* Literal.String */\n",
              ".highlight .na { color: #7D9029 } /* Name.Attribute */\n",
              ".highlight .nb { color: #008000 } /* Name.Builtin */\n",
              ".highlight .nc { color: #0000FF; font-weight: bold } /* Name.Class */\n",
              ".highlight .no { color: #880000 } /* Name.Constant */\n",
              ".highlight .nd { color: #AA22FF } /* Name.Decorator */\n",
              ".highlight .ni { color: #999999; font-weight: bold } /* Name.Entity */\n",
              ".highlight .ne { color: #D2413A; font-weight: bold } /* Name.Exception */\n",
              ".highlight .nf { color: #0000FF } /* Name.Function */\n",
              ".highlight .nl { color: #A0A000 } /* Name.Label */\n",
              ".highlight .nn { color: #0000FF; font-weight: bold } /* Name.Namespace */\n",
              ".highlight .nt { color: #008000; font-weight: bold } /* Name.Tag */\n",
              ".highlight .nv { color: #19177C } /* Name.Variable */\n",
              ".highlight .ow { color: #AA22FF; font-weight: bold } /* Operator.Word */\n",
              ".highlight .w { color: #bbbbbb } /* Text.Whitespace */\n",
              ".highlight .mb { color: #666666 } /* Literal.Number.Bin */\n",
              ".highlight .mf { color: #666666 } /* Literal.Number.Float */\n",
              ".highlight .mh { color: #666666 } /* Literal.Number.Hex */\n",
              ".highlight .mi { color: #666666 } /* Literal.Number.Integer */\n",
              ".highlight .mo { color: #666666 } /* Literal.Number.Oct */\n",
              ".highlight .sa { color: #BA2121 } /* Literal.String.Affix */\n",
              ".highlight .sb { color: #BA2121 } /* Literal.String.Backtick */\n",
              ".highlight .sc { color: #BA2121 } /* Literal.String.Char */\n",
              ".highlight .dl { color: #BA2121 } /* Literal.String.Delimiter */\n",
              ".highlight .sd { color: #BA2121; font-style: italic } /* Literal.String.Doc */\n",
              ".highlight .s2 { color: #BA2121 } /* Literal.String.Double */\n",
              ".highlight .se { color: #BB6622; font-weight: bold } /* Literal.String.Escape */\n",
              ".highlight .sh { color: #BA2121 } /* Literal.String.Heredoc */\n",
              ".highlight .si { color: #BB6688; font-weight: bold } /* Literal.String.Interpol */\n",
              ".highlight .sx { color: #008000 } /* Literal.String.Other */\n",
              ".highlight .sr { color: #BB6688 } /* Literal.String.Regex */\n",
              ".highlight .s1 { color: #BA2121 } /* Literal.String.Single */\n",
              ".highlight .ss { color: #19177C } /* Literal.String.Symbol */\n",
              ".highlight .bp { color: #008000 } /* Name.Builtin.Pseudo */\n",
              ".highlight .fm { color: #0000FF } /* Name.Function.Magic */\n",
              ".highlight .vc { color: #19177C } /* Name.Variable.Class */\n",
              ".highlight .vg { color: #19177C } /* Name.Variable.Global */\n",
              ".highlight .vi { color: #19177C } /* Name.Variable.Instance */\n",
              ".highlight .vm { color: #19177C } /* Name.Variable.Magic */\n",
              ".highlight .il { color: #666666 } /* Literal.Number.Integer.Long */</style><div class=\"highlight\"><pre><span></span><span class=\"nd\">@tvm</span><span class=\"o\">.</span><span class=\"n\">script</span><span class=\"o\">.</span><span class=\"n\">ir_module</span>\n",
              "<span class=\"k\">class</span> <span class=\"nc\">Module</span><span class=\"p\">:</span>\n",
              "    <span class=\"nd\">@T</span><span class=\"o\">.</span><span class=\"n\">prim_func</span>\n",
              "    <span class=\"k\">def</span> <span class=\"nf\">mm_relu</span><span class=\"p\">(</span><span class=\"n\">A</span><span class=\"p\">:</span> <span class=\"n\">T</span><span class=\"o\">.</span><span class=\"n\">Buffer</span><span class=\"p\">[(</span><span class=\"mi\">128</span><span class=\"p\">,</span> <span class=\"mi\">128</span><span class=\"p\">),</span> <span class=\"s2\">&quot;float32&quot;</span><span class=\"p\">],</span> <span class=\"n\">B</span><span class=\"p\">:</span> <span class=\"n\">T</span><span class=\"o\">.</span><span class=\"n\">Buffer</span><span class=\"p\">[(</span><span class=\"mi\">128</span><span class=\"p\">,</span> <span class=\"mi\">128</span><span class=\"p\">),</span> <span class=\"s2\">&quot;float32&quot;</span><span class=\"p\">],</span> <span class=\"n\">C</span><span class=\"p\">:</span> <span class=\"n\">T</span><span class=\"o\">.</span><span class=\"n\">Buffer</span><span class=\"p\">[(</span><span class=\"mi\">128</span><span class=\"p\">,</span> <span class=\"mi\">128</span><span class=\"p\">),</span> <span class=\"s2\">&quot;float32&quot;</span><span class=\"p\">])</span> <span class=\"o\">-&gt;</span> <span class=\"kc\">None</span><span class=\"p\">:</span>\n",
              "        <span class=\"c1\"># function attr dict</span>\n",
              "        <span class=\"n\">T</span><span class=\"o\">.</span><span class=\"n\">func_attr</span><span class=\"p\">({</span><span class=\"s2\">&quot;global_symbol&quot;</span><span class=\"p\">:</span> <span class=\"s2\">&quot;mm_relu&quot;</span><span class=\"p\">,</span> <span class=\"s2\">&quot;tir_noalias&quot;</span><span class=\"p\">:</span> <span class=\"kc\">True</span><span class=\"p\">})</span>\n",
              "        <span class=\"c1\"># body</span>\n",
              "        <span class=\"c1\"># with T.block(&quot;root&quot;)</span>\n",
              "        <span class=\"n\">Y</span> <span class=\"o\">=</span> <span class=\"n\">T</span><span class=\"o\">.</span><span class=\"n\">alloc_buffer</span><span class=\"p\">([</span><span class=\"mi\">128</span><span class=\"p\">,</span> <span class=\"mi\">128</span><span class=\"p\">],</span> <span class=\"n\">dtype</span><span class=\"o\">=</span><span class=\"s2\">&quot;float32&quot;</span><span class=\"p\">)</span>\n",
              "        <span class=\"k\">for</span> <span class=\"n\">i</span><span class=\"p\">,</span> <span class=\"n\">j_0</span><span class=\"p\">,</span> <span class=\"n\">k</span><span class=\"p\">,</span> <span class=\"n\">j_1</span> <span class=\"ow\">in</span> <span class=\"n\">T</span><span class=\"o\">.</span><span class=\"n\">grid</span><span class=\"p\">(</span><span class=\"mi\">128</span><span class=\"p\">,</span> <span class=\"mi\">32</span><span class=\"p\">,</span> <span class=\"mi\">128</span><span class=\"p\">,</span> <span class=\"mi\">4</span><span class=\"p\">):</span>\n",
              "            <span class=\"k\">with</span> <span class=\"n\">T</span><span class=\"o\">.</span><span class=\"n\">block</span><span class=\"p\">(</span><span class=\"s2\">&quot;Y&quot;</span><span class=\"p\">):</span>\n",
              "                <span class=\"n\">vi</span> <span class=\"o\">=</span> <span class=\"n\">T</span><span class=\"o\">.</span><span class=\"n\">axis</span><span class=\"o\">.</span><span class=\"n\">spatial</span><span class=\"p\">(</span><span class=\"mi\">128</span><span class=\"p\">,</span> <span class=\"n\">i</span><span class=\"p\">)</span>\n",
              "                <span class=\"n\">vj</span> <span class=\"o\">=</span> <span class=\"n\">T</span><span class=\"o\">.</span><span class=\"n\">axis</span><span class=\"o\">.</span><span class=\"n\">spatial</span><span class=\"p\">(</span><span class=\"mi\">128</span><span class=\"p\">,</span> <span class=\"n\">j_0</span> <span class=\"o\">*</span> <span class=\"mi\">4</span> <span class=\"o\">+</span> <span class=\"n\">j_1</span><span class=\"p\">)</span>\n",
              "                <span class=\"n\">vk</span> <span class=\"o\">=</span> <span class=\"n\">T</span><span class=\"o\">.</span><span class=\"n\">axis</span><span class=\"o\">.</span><span class=\"n\">reduce</span><span class=\"p\">(</span><span class=\"mi\">128</span><span class=\"p\">,</span> <span class=\"n\">k</span><span class=\"p\">)</span>\n",
              "                <span class=\"n\">T</span><span class=\"o\">.</span><span class=\"n\">reads</span><span class=\"p\">(</span><span class=\"n\">A</span><span class=\"p\">[</span><span class=\"n\">vi</span><span class=\"p\">,</span> <span class=\"n\">vk</span><span class=\"p\">],</span> <span class=\"n\">B</span><span class=\"p\">[</span><span class=\"n\">vk</span><span class=\"p\">,</span> <span class=\"n\">vj</span><span class=\"p\">])</span>\n",
              "                <span class=\"n\">T</span><span class=\"o\">.</span><span class=\"n\">writes</span><span class=\"p\">(</span><span class=\"n\">Y</span><span class=\"p\">[</span><span class=\"n\">vi</span><span class=\"p\">,</span> <span class=\"n\">vj</span><span class=\"p\">])</span>\n",
              "                <span class=\"k\">with</span> <span class=\"n\">T</span><span class=\"o\">.</span><span class=\"n\">init</span><span class=\"p\">():</span>\n",
              "                    <span class=\"n\">Y</span><span class=\"p\">[</span><span class=\"n\">vi</span><span class=\"p\">,</span> <span class=\"n\">vj</span><span class=\"p\">]</span> <span class=\"o\">=</span> <span class=\"n\">T</span><span class=\"o\">.</span><span class=\"n\">float32</span><span class=\"p\">(</span><span class=\"mi\">0</span><span class=\"p\">)</span>\n",
              "                <span class=\"n\">Y</span><span class=\"p\">[</span><span class=\"n\">vi</span><span class=\"p\">,</span> <span class=\"n\">vj</span><span class=\"p\">]</span> <span class=\"o\">=</span> <span class=\"n\">Y</span><span class=\"p\">[</span><span class=\"n\">vi</span><span class=\"p\">,</span> <span class=\"n\">vj</span><span class=\"p\">]</span> <span class=\"o\">+</span> <span class=\"n\">A</span><span class=\"p\">[</span><span class=\"n\">vi</span><span class=\"p\">,</span> <span class=\"n\">vk</span><span class=\"p\">]</span> <span class=\"o\">*</span> <span class=\"n\">B</span><span class=\"p\">[</span><span class=\"n\">vk</span><span class=\"p\">,</span> <span class=\"n\">vj</span><span class=\"p\">]</span>\n",
              "        <span class=\"k\">for</span> <span class=\"n\">i</span><span class=\"p\">,</span> <span class=\"n\">j</span> <span class=\"ow\">in</span> <span class=\"n\">T</span><span class=\"o\">.</span><span class=\"n\">grid</span><span class=\"p\">(</span><span class=\"mi\">128</span><span class=\"p\">,</span> <span class=\"mi\">128</span><span class=\"p\">):</span>\n",
              "            <span class=\"k\">with</span> <span class=\"n\">T</span><span class=\"o\">.</span><span class=\"n\">block</span><span class=\"p\">(</span><span class=\"s2\">&quot;C&quot;</span><span class=\"p\">):</span>\n",
              "                <span class=\"n\">vi</span><span class=\"p\">,</span> <span class=\"n\">vj</span> <span class=\"o\">=</span> <span class=\"n\">T</span><span class=\"o\">.</span><span class=\"n\">axis</span><span class=\"o\">.</span><span class=\"n\">remap</span><span class=\"p\">(</span><span class=\"s2\">&quot;SS&quot;</span><span class=\"p\">,</span> <span class=\"p\">[</span><span class=\"n\">i</span><span class=\"p\">,</span> <span class=\"n\">j</span><span class=\"p\">])</span>\n",
              "                <span class=\"n\">T</span><span class=\"o\">.</span><span class=\"n\">reads</span><span class=\"p\">(</span><span class=\"n\">Y</span><span class=\"p\">[</span><span class=\"n\">vi</span><span class=\"p\">,</span> <span class=\"n\">vj</span><span class=\"p\">])</span>\n",
              "                <span class=\"n\">T</span><span class=\"o\">.</span><span class=\"n\">writes</span><span class=\"p\">(</span><span class=\"n\">C</span><span class=\"p\">[</span><span class=\"n\">vi</span><span class=\"p\">,</span> <span class=\"n\">vj</span><span class=\"p\">])</span>\n",
              "                <span class=\"n\">C</span><span class=\"p\">[</span><span class=\"n\">vi</span><span class=\"p\">,</span> <span class=\"n\">vj</span><span class=\"p\">]</span> <span class=\"o\">=</span> <span class=\"n\">T</span><span class=\"o\">.</span><span class=\"n\">max</span><span class=\"p\">(</span><span class=\"n\">Y</span><span class=\"p\">[</span><span class=\"n\">vi</span><span class=\"p\">,</span> <span class=\"n\">vj</span><span class=\"p\">],</span> <span class=\"n\">T</span><span class=\"o\">.</span><span class=\"n\">float32</span><span class=\"p\">(</span><span class=\"mi\">0</span><span class=\"p\">))</span>\n",
              "    \n",
              "</pre></div>\n",
              "\n"
            ]
          },
          "metadata": {},
          "execution_count": 16
        }
      ]
    },
    {
      "cell_type": "code",
      "source": [
        "# move block C to block Y\n",
        "block_C = sch.get_block(\"C\", \"mm_relu\")\n",
        "sch.reverse_compute_at(block_C, j0)\n",
        "print(\"\\nmove block C to block Y\")"
      ],
      "metadata": {
        "colab": {
          "base_uri": "https://localhost:8080/"
        },
        "id": "gRR7NZb5UZ6S",
        "outputId": "0b086632-153f-40b9-d959-7ecf23e680b7"
      },
      "execution_count": 17,
      "outputs": [
        {
          "output_type": "stream",
          "name": "stdout",
          "text": [
            "\n",
            "move block C to block Y\n"
          ]
        }
      ]
    },
    {
      "cell_type": "code",
      "source": [
        "IPython.display.HTML(code2html(sch.mod.script()))"
      ],
      "metadata": {
        "colab": {
          "base_uri": "https://localhost:8080/",
          "height": 523
        },
        "id": "n1M59aObUe2Z",
        "outputId": "77c89306-f86e-41fe-95ee-b8702acca5b4"
      },
      "execution_count": 18,
      "outputs": [
        {
          "output_type": "execute_result",
          "data": {
            "text/plain": [
              "<IPython.core.display.HTML object>"
            ],
            "text/html": [
              "<style>.highlight .hll { background-color: #ffffcc }\n",
              ".highlight  { background: #f8f8f8; }\n",
              ".highlight .c { color: #408080; font-style: italic } /* Comment */\n",
              ".highlight .err { border: 1px solid #FF0000 } /* Error */\n",
              ".highlight .k { color: #008000; font-weight: bold } /* Keyword */\n",
              ".highlight .o { color: #666666 } /* Operator */\n",
              ".highlight .ch { color: #408080; font-style: italic } /* Comment.Hashbang */\n",
              ".highlight .cm { color: #408080; font-style: italic } /* Comment.Multiline */\n",
              ".highlight .cp { color: #BC7A00 } /* Comment.Preproc */\n",
              ".highlight .cpf { color: #408080; font-style: italic } /* Comment.PreprocFile */\n",
              ".highlight .c1 { color: #408080; font-style: italic } /* Comment.Single */\n",
              ".highlight .cs { color: #408080; font-style: italic } /* Comment.Special */\n",
              ".highlight .gd { color: #A00000 } /* Generic.Deleted */\n",
              ".highlight .ge { font-style: italic } /* Generic.Emph */\n",
              ".highlight .gr { color: #FF0000 } /* Generic.Error */\n",
              ".highlight .gh { color: #000080; font-weight: bold } /* Generic.Heading */\n",
              ".highlight .gi { color: #00A000 } /* Generic.Inserted */\n",
              ".highlight .go { color: #888888 } /* Generic.Output */\n",
              ".highlight .gp { color: #000080; font-weight: bold } /* Generic.Prompt */\n",
              ".highlight .gs { font-weight: bold } /* Generic.Strong */\n",
              ".highlight .gu { color: #800080; font-weight: bold } /* Generic.Subheading */\n",
              ".highlight .gt { color: #0044DD } /* Generic.Traceback */\n",
              ".highlight .kc { color: #008000; font-weight: bold } /* Keyword.Constant */\n",
              ".highlight .kd { color: #008000; font-weight: bold } /* Keyword.Declaration */\n",
              ".highlight .kn { color: #008000; font-weight: bold } /* Keyword.Namespace */\n",
              ".highlight .kp { color: #008000 } /* Keyword.Pseudo */\n",
              ".highlight .kr { color: #008000; font-weight: bold } /* Keyword.Reserved */\n",
              ".highlight .kt { color: #B00040 } /* Keyword.Type */\n",
              ".highlight .m { color: #666666 } /* Literal.Number */\n",
              ".highlight .s { color: #BA2121 } /* Literal.String */\n",
              ".highlight .na { color: #7D9029 } /* Name.Attribute */\n",
              ".highlight .nb { color: #008000 } /* Name.Builtin */\n",
              ".highlight .nc { color: #0000FF; font-weight: bold } /* Name.Class */\n",
              ".highlight .no { color: #880000 } /* Name.Constant */\n",
              ".highlight .nd { color: #AA22FF } /* Name.Decorator */\n",
              ".highlight .ni { color: #999999; font-weight: bold } /* Name.Entity */\n",
              ".highlight .ne { color: #D2413A; font-weight: bold } /* Name.Exception */\n",
              ".highlight .nf { color: #0000FF } /* Name.Function */\n",
              ".highlight .nl { color: #A0A000 } /* Name.Label */\n",
              ".highlight .nn { color: #0000FF; font-weight: bold } /* Name.Namespace */\n",
              ".highlight .nt { color: #008000; font-weight: bold } /* Name.Tag */\n",
              ".highlight .nv { color: #19177C } /* Name.Variable */\n",
              ".highlight .ow { color: #AA22FF; font-weight: bold } /* Operator.Word */\n",
              ".highlight .w { color: #bbbbbb } /* Text.Whitespace */\n",
              ".highlight .mb { color: #666666 } /* Literal.Number.Bin */\n",
              ".highlight .mf { color: #666666 } /* Literal.Number.Float */\n",
              ".highlight .mh { color: #666666 } /* Literal.Number.Hex */\n",
              ".highlight .mi { color: #666666 } /* Literal.Number.Integer */\n",
              ".highlight .mo { color: #666666 } /* Literal.Number.Oct */\n",
              ".highlight .sa { color: #BA2121 } /* Literal.String.Affix */\n",
              ".highlight .sb { color: #BA2121 } /* Literal.String.Backtick */\n",
              ".highlight .sc { color: #BA2121 } /* Literal.String.Char */\n",
              ".highlight .dl { color: #BA2121 } /* Literal.String.Delimiter */\n",
              ".highlight .sd { color: #BA2121; font-style: italic } /* Literal.String.Doc */\n",
              ".highlight .s2 { color: #BA2121 } /* Literal.String.Double */\n",
              ".highlight .se { color: #BB6622; font-weight: bold } /* Literal.String.Escape */\n",
              ".highlight .sh { color: #BA2121 } /* Literal.String.Heredoc */\n",
              ".highlight .si { color: #BB6688; font-weight: bold } /* Literal.String.Interpol */\n",
              ".highlight .sx { color: #008000 } /* Literal.String.Other */\n",
              ".highlight .sr { color: #BB6688 } /* Literal.String.Regex */\n",
              ".highlight .s1 { color: #BA2121 } /* Literal.String.Single */\n",
              ".highlight .ss { color: #19177C } /* Literal.String.Symbol */\n",
              ".highlight .bp { color: #008000 } /* Name.Builtin.Pseudo */\n",
              ".highlight .fm { color: #0000FF } /* Name.Function.Magic */\n",
              ".highlight .vc { color: #19177C } /* Name.Variable.Class */\n",
              ".highlight .vg { color: #19177C } /* Name.Variable.Global */\n",
              ".highlight .vi { color: #19177C } /* Name.Variable.Instance */\n",
              ".highlight .vm { color: #19177C } /* Name.Variable.Magic */\n",
              ".highlight .il { color: #666666 } /* Literal.Number.Integer.Long */</style><div class=\"highlight\"><pre><span></span><span class=\"nd\">@tvm</span><span class=\"o\">.</span><span class=\"n\">script</span><span class=\"o\">.</span><span class=\"n\">ir_module</span>\n",
              "<span class=\"k\">class</span> <span class=\"nc\">Module</span><span class=\"p\">:</span>\n",
              "    <span class=\"nd\">@T</span><span class=\"o\">.</span><span class=\"n\">prim_func</span>\n",
              "    <span class=\"k\">def</span> <span class=\"nf\">mm_relu</span><span class=\"p\">(</span><span class=\"n\">A</span><span class=\"p\">:</span> <span class=\"n\">T</span><span class=\"o\">.</span><span class=\"n\">Buffer</span><span class=\"p\">[(</span><span class=\"mi\">128</span><span class=\"p\">,</span> <span class=\"mi\">128</span><span class=\"p\">),</span> <span class=\"s2\">&quot;float32&quot;</span><span class=\"p\">],</span> <span class=\"n\">B</span><span class=\"p\">:</span> <span class=\"n\">T</span><span class=\"o\">.</span><span class=\"n\">Buffer</span><span class=\"p\">[(</span><span class=\"mi\">128</span><span class=\"p\">,</span> <span class=\"mi\">128</span><span class=\"p\">),</span> <span class=\"s2\">&quot;float32&quot;</span><span class=\"p\">],</span> <span class=\"n\">C</span><span class=\"p\">:</span> <span class=\"n\">T</span><span class=\"o\">.</span><span class=\"n\">Buffer</span><span class=\"p\">[(</span><span class=\"mi\">128</span><span class=\"p\">,</span> <span class=\"mi\">128</span><span class=\"p\">),</span> <span class=\"s2\">&quot;float32&quot;</span><span class=\"p\">])</span> <span class=\"o\">-&gt;</span> <span class=\"kc\">None</span><span class=\"p\">:</span>\n",
              "        <span class=\"c1\"># function attr dict</span>\n",
              "        <span class=\"n\">T</span><span class=\"o\">.</span><span class=\"n\">func_attr</span><span class=\"p\">({</span><span class=\"s2\">&quot;global_symbol&quot;</span><span class=\"p\">:</span> <span class=\"s2\">&quot;mm_relu&quot;</span><span class=\"p\">,</span> <span class=\"s2\">&quot;tir_noalias&quot;</span><span class=\"p\">:</span> <span class=\"kc\">True</span><span class=\"p\">})</span>\n",
              "        <span class=\"c1\"># body</span>\n",
              "        <span class=\"c1\"># with T.block(&quot;root&quot;)</span>\n",
              "        <span class=\"n\">Y</span> <span class=\"o\">=</span> <span class=\"n\">T</span><span class=\"o\">.</span><span class=\"n\">alloc_buffer</span><span class=\"p\">([</span><span class=\"mi\">128</span><span class=\"p\">,</span> <span class=\"mi\">128</span><span class=\"p\">],</span> <span class=\"n\">dtype</span><span class=\"o\">=</span><span class=\"s2\">&quot;float32&quot;</span><span class=\"p\">)</span>\n",
              "        <span class=\"k\">for</span> <span class=\"n\">i</span><span class=\"p\">,</span> <span class=\"n\">j_0</span> <span class=\"ow\">in</span> <span class=\"n\">T</span><span class=\"o\">.</span><span class=\"n\">grid</span><span class=\"p\">(</span><span class=\"mi\">128</span><span class=\"p\">,</span> <span class=\"mi\">32</span><span class=\"p\">):</span>\n",
              "            <span class=\"k\">for</span> <span class=\"n\">k</span><span class=\"p\">,</span> <span class=\"n\">j_1</span> <span class=\"ow\">in</span> <span class=\"n\">T</span><span class=\"o\">.</span><span class=\"n\">grid</span><span class=\"p\">(</span><span class=\"mi\">128</span><span class=\"p\">,</span> <span class=\"mi\">4</span><span class=\"p\">):</span>\n",
              "                <span class=\"k\">with</span> <span class=\"n\">T</span><span class=\"o\">.</span><span class=\"n\">block</span><span class=\"p\">(</span><span class=\"s2\">&quot;Y&quot;</span><span class=\"p\">):</span>\n",
              "                    <span class=\"n\">vi</span> <span class=\"o\">=</span> <span class=\"n\">T</span><span class=\"o\">.</span><span class=\"n\">axis</span><span class=\"o\">.</span><span class=\"n\">spatial</span><span class=\"p\">(</span><span class=\"mi\">128</span><span class=\"p\">,</span> <span class=\"n\">i</span><span class=\"p\">)</span>\n",
              "                    <span class=\"n\">vj</span> <span class=\"o\">=</span> <span class=\"n\">T</span><span class=\"o\">.</span><span class=\"n\">axis</span><span class=\"o\">.</span><span class=\"n\">spatial</span><span class=\"p\">(</span><span class=\"mi\">128</span><span class=\"p\">,</span> <span class=\"n\">j_0</span> <span class=\"o\">*</span> <span class=\"mi\">4</span> <span class=\"o\">+</span> <span class=\"n\">j_1</span><span class=\"p\">)</span>\n",
              "                    <span class=\"n\">vk</span> <span class=\"o\">=</span> <span class=\"n\">T</span><span class=\"o\">.</span><span class=\"n\">axis</span><span class=\"o\">.</span><span class=\"n\">reduce</span><span class=\"p\">(</span><span class=\"mi\">128</span><span class=\"p\">,</span> <span class=\"n\">k</span><span class=\"p\">)</span>\n",
              "                    <span class=\"n\">T</span><span class=\"o\">.</span><span class=\"n\">reads</span><span class=\"p\">(</span><span class=\"n\">A</span><span class=\"p\">[</span><span class=\"n\">vi</span><span class=\"p\">,</span> <span class=\"n\">vk</span><span class=\"p\">],</span> <span class=\"n\">B</span><span class=\"p\">[</span><span class=\"n\">vk</span><span class=\"p\">,</span> <span class=\"n\">vj</span><span class=\"p\">])</span>\n",
              "                    <span class=\"n\">T</span><span class=\"o\">.</span><span class=\"n\">writes</span><span class=\"p\">(</span><span class=\"n\">Y</span><span class=\"p\">[</span><span class=\"n\">vi</span><span class=\"p\">,</span> <span class=\"n\">vj</span><span class=\"p\">])</span>\n",
              "                    <span class=\"k\">with</span> <span class=\"n\">T</span><span class=\"o\">.</span><span class=\"n\">init</span><span class=\"p\">():</span>\n",
              "                        <span class=\"n\">Y</span><span class=\"p\">[</span><span class=\"n\">vi</span><span class=\"p\">,</span> <span class=\"n\">vj</span><span class=\"p\">]</span> <span class=\"o\">=</span> <span class=\"n\">T</span><span class=\"o\">.</span><span class=\"n\">float32</span><span class=\"p\">(</span><span class=\"mi\">0</span><span class=\"p\">)</span>\n",
              "                    <span class=\"n\">Y</span><span class=\"p\">[</span><span class=\"n\">vi</span><span class=\"p\">,</span> <span class=\"n\">vj</span><span class=\"p\">]</span> <span class=\"o\">=</span> <span class=\"n\">Y</span><span class=\"p\">[</span><span class=\"n\">vi</span><span class=\"p\">,</span> <span class=\"n\">vj</span><span class=\"p\">]</span> <span class=\"o\">+</span> <span class=\"n\">A</span><span class=\"p\">[</span><span class=\"n\">vi</span><span class=\"p\">,</span> <span class=\"n\">vk</span><span class=\"p\">]</span> <span class=\"o\">*</span> <span class=\"n\">B</span><span class=\"p\">[</span><span class=\"n\">vk</span><span class=\"p\">,</span> <span class=\"n\">vj</span><span class=\"p\">]</span>\n",
              "            <span class=\"k\">for</span> <span class=\"n\">ax0</span> <span class=\"ow\">in</span> <span class=\"n\">T</span><span class=\"o\">.</span><span class=\"n\">serial</span><span class=\"p\">(</span><span class=\"mi\">4</span><span class=\"p\">):</span>\n",
              "                <span class=\"k\">with</span> <span class=\"n\">T</span><span class=\"o\">.</span><span class=\"n\">block</span><span class=\"p\">(</span><span class=\"s2\">&quot;C&quot;</span><span class=\"p\">):</span>\n",
              "                    <span class=\"n\">vi</span> <span class=\"o\">=</span> <span class=\"n\">T</span><span class=\"o\">.</span><span class=\"n\">axis</span><span class=\"o\">.</span><span class=\"n\">spatial</span><span class=\"p\">(</span><span class=\"mi\">128</span><span class=\"p\">,</span> <span class=\"n\">i</span><span class=\"p\">)</span>\n",
              "                    <span class=\"n\">vj</span> <span class=\"o\">=</span> <span class=\"n\">T</span><span class=\"o\">.</span><span class=\"n\">axis</span><span class=\"o\">.</span><span class=\"n\">spatial</span><span class=\"p\">(</span><span class=\"mi\">128</span><span class=\"p\">,</span> <span class=\"n\">j_0</span> <span class=\"o\">*</span> <span class=\"mi\">4</span> <span class=\"o\">+</span> <span class=\"n\">ax0</span><span class=\"p\">)</span>\n",
              "                    <span class=\"n\">T</span><span class=\"o\">.</span><span class=\"n\">reads</span><span class=\"p\">(</span><span class=\"n\">Y</span><span class=\"p\">[</span><span class=\"n\">vi</span><span class=\"p\">,</span> <span class=\"n\">vj</span><span class=\"p\">])</span>\n",
              "                    <span class=\"n\">T</span><span class=\"o\">.</span><span class=\"n\">writes</span><span class=\"p\">(</span><span class=\"n\">C</span><span class=\"p\">[</span><span class=\"n\">vi</span><span class=\"p\">,</span> <span class=\"n\">vj</span><span class=\"p\">])</span>\n",
              "                    <span class=\"n\">C</span><span class=\"p\">[</span><span class=\"n\">vi</span><span class=\"p\">,</span> <span class=\"n\">vj</span><span class=\"p\">]</span> <span class=\"o\">=</span> <span class=\"n\">T</span><span class=\"o\">.</span><span class=\"n\">max</span><span class=\"p\">(</span><span class=\"n\">Y</span><span class=\"p\">[</span><span class=\"n\">vi</span><span class=\"p\">,</span> <span class=\"n\">vj</span><span class=\"p\">],</span> <span class=\"n\">T</span><span class=\"o\">.</span><span class=\"n\">float32</span><span class=\"p\">(</span><span class=\"mi\">0</span><span class=\"p\">))</span>\n",
              "    \n",
              "</pre></div>\n",
              "\n"
            ]
          },
          "metadata": {},
          "execution_count": 18
        }
      ]
    },
    {
      "cell_type": "code",
      "source": [
        "# decompose reduction\n",
        "sch.decompose_reduction(block_Y, k)\n",
        "print(\"\\ndecompose k of block_Y\")"
      ],
      "metadata": {
        "colab": {
          "base_uri": "https://localhost:8080/"
        },
        "id": "I9I7iub0UgPO",
        "outputId": "388f8b7d-bde7-4580-c3e7-3d01bb6cd5a0"
      },
      "execution_count": 19,
      "outputs": [
        {
          "output_type": "stream",
          "name": "stdout",
          "text": [
            "\n",
            "decompose k of block_Y\n"
          ]
        }
      ]
    },
    {
      "cell_type": "code",
      "source": [
        "IPython.display.HTML(code2html(sch.mod.script()))"
      ],
      "metadata": {
        "colab": {
          "base_uri": "https://localhost:8080/",
          "height": 610
        },
        "id": "0A3EF8L6UiIM",
        "outputId": "14a12cdb-f022-42e9-c705-66b94890a63d"
      },
      "execution_count": 20,
      "outputs": [
        {
          "output_type": "execute_result",
          "data": {
            "text/plain": [
              "<IPython.core.display.HTML object>"
            ],
            "text/html": [
              "<style>.highlight .hll { background-color: #ffffcc }\n",
              ".highlight  { background: #f8f8f8; }\n",
              ".highlight .c { color: #408080; font-style: italic } /* Comment */\n",
              ".highlight .err { border: 1px solid #FF0000 } /* Error */\n",
              ".highlight .k { color: #008000; font-weight: bold } /* Keyword */\n",
              ".highlight .o { color: #666666 } /* Operator */\n",
              ".highlight .ch { color: #408080; font-style: italic } /* Comment.Hashbang */\n",
              ".highlight .cm { color: #408080; font-style: italic } /* Comment.Multiline */\n",
              ".highlight .cp { color: #BC7A00 } /* Comment.Preproc */\n",
              ".highlight .cpf { color: #408080; font-style: italic } /* Comment.PreprocFile */\n",
              ".highlight .c1 { color: #408080; font-style: italic } /* Comment.Single */\n",
              ".highlight .cs { color: #408080; font-style: italic } /* Comment.Special */\n",
              ".highlight .gd { color: #A00000 } /* Generic.Deleted */\n",
              ".highlight .ge { font-style: italic } /* Generic.Emph */\n",
              ".highlight .gr { color: #FF0000 } /* Generic.Error */\n",
              ".highlight .gh { color: #000080; font-weight: bold } /* Generic.Heading */\n",
              ".highlight .gi { color: #00A000 } /* Generic.Inserted */\n",
              ".highlight .go { color: #888888 } /* Generic.Output */\n",
              ".highlight .gp { color: #000080; font-weight: bold } /* Generic.Prompt */\n",
              ".highlight .gs { font-weight: bold } /* Generic.Strong */\n",
              ".highlight .gu { color: #800080; font-weight: bold } /* Generic.Subheading */\n",
              ".highlight .gt { color: #0044DD } /* Generic.Traceback */\n",
              ".highlight .kc { color: #008000; font-weight: bold } /* Keyword.Constant */\n",
              ".highlight .kd { color: #008000; font-weight: bold } /* Keyword.Declaration */\n",
              ".highlight .kn { color: #008000; font-weight: bold } /* Keyword.Namespace */\n",
              ".highlight .kp { color: #008000 } /* Keyword.Pseudo */\n",
              ".highlight .kr { color: #008000; font-weight: bold } /* Keyword.Reserved */\n",
              ".highlight .kt { color: #B00040 } /* Keyword.Type */\n",
              ".highlight .m { color: #666666 } /* Literal.Number */\n",
              ".highlight .s { color: #BA2121 } /* Literal.String */\n",
              ".highlight .na { color: #7D9029 } /* Name.Attribute */\n",
              ".highlight .nb { color: #008000 } /* Name.Builtin */\n",
              ".highlight .nc { color: #0000FF; font-weight: bold } /* Name.Class */\n",
              ".highlight .no { color: #880000 } /* Name.Constant */\n",
              ".highlight .nd { color: #AA22FF } /* Name.Decorator */\n",
              ".highlight .ni { color: #999999; font-weight: bold } /* Name.Entity */\n",
              ".highlight .ne { color: #D2413A; font-weight: bold } /* Name.Exception */\n",
              ".highlight .nf { color: #0000FF } /* Name.Function */\n",
              ".highlight .nl { color: #A0A000 } /* Name.Label */\n",
              ".highlight .nn { color: #0000FF; font-weight: bold } /* Name.Namespace */\n",
              ".highlight .nt { color: #008000; font-weight: bold } /* Name.Tag */\n",
              ".highlight .nv { color: #19177C } /* Name.Variable */\n",
              ".highlight .ow { color: #AA22FF; font-weight: bold } /* Operator.Word */\n",
              ".highlight .w { color: #bbbbbb } /* Text.Whitespace */\n",
              ".highlight .mb { color: #666666 } /* Literal.Number.Bin */\n",
              ".highlight .mf { color: #666666 } /* Literal.Number.Float */\n",
              ".highlight .mh { color: #666666 } /* Literal.Number.Hex */\n",
              ".highlight .mi { color: #666666 } /* Literal.Number.Integer */\n",
              ".highlight .mo { color: #666666 } /* Literal.Number.Oct */\n",
              ".highlight .sa { color: #BA2121 } /* Literal.String.Affix */\n",
              ".highlight .sb { color: #BA2121 } /* Literal.String.Backtick */\n",
              ".highlight .sc { color: #BA2121 } /* Literal.String.Char */\n",
              ".highlight .dl { color: #BA2121 } /* Literal.String.Delimiter */\n",
              ".highlight .sd { color: #BA2121; font-style: italic } /* Literal.String.Doc */\n",
              ".highlight .s2 { color: #BA2121 } /* Literal.String.Double */\n",
              ".highlight .se { color: #BB6622; font-weight: bold } /* Literal.String.Escape */\n",
              ".highlight .sh { color: #BA2121 } /* Literal.String.Heredoc */\n",
              ".highlight .si { color: #BB6688; font-weight: bold } /* Literal.String.Interpol */\n",
              ".highlight .sx { color: #008000 } /* Literal.String.Other */\n",
              ".highlight .sr { color: #BB6688 } /* Literal.String.Regex */\n",
              ".highlight .s1 { color: #BA2121 } /* Literal.String.Single */\n",
              ".highlight .ss { color: #19177C } /* Literal.String.Symbol */\n",
              ".highlight .bp { color: #008000 } /* Name.Builtin.Pseudo */\n",
              ".highlight .fm { color: #0000FF } /* Name.Function.Magic */\n",
              ".highlight .vc { color: #19177C } /* Name.Variable.Class */\n",
              ".highlight .vg { color: #19177C } /* Name.Variable.Global */\n",
              ".highlight .vi { color: #19177C } /* Name.Variable.Instance */\n",
              ".highlight .vm { color: #19177C } /* Name.Variable.Magic */\n",
              ".highlight .il { color: #666666 } /* Literal.Number.Integer.Long */</style><div class=\"highlight\"><pre><span></span><span class=\"nd\">@tvm</span><span class=\"o\">.</span><span class=\"n\">script</span><span class=\"o\">.</span><span class=\"n\">ir_module</span>\n",
              "<span class=\"k\">class</span> <span class=\"nc\">Module</span><span class=\"p\">:</span>\n",
              "    <span class=\"nd\">@T</span><span class=\"o\">.</span><span class=\"n\">prim_func</span>\n",
              "    <span class=\"k\">def</span> <span class=\"nf\">mm_relu</span><span class=\"p\">(</span><span class=\"n\">A</span><span class=\"p\">:</span> <span class=\"n\">T</span><span class=\"o\">.</span><span class=\"n\">Buffer</span><span class=\"p\">[(</span><span class=\"mi\">128</span><span class=\"p\">,</span> <span class=\"mi\">128</span><span class=\"p\">),</span> <span class=\"s2\">&quot;float32&quot;</span><span class=\"p\">],</span> <span class=\"n\">B</span><span class=\"p\">:</span> <span class=\"n\">T</span><span class=\"o\">.</span><span class=\"n\">Buffer</span><span class=\"p\">[(</span><span class=\"mi\">128</span><span class=\"p\">,</span> <span class=\"mi\">128</span><span class=\"p\">),</span> <span class=\"s2\">&quot;float32&quot;</span><span class=\"p\">],</span> <span class=\"n\">C</span><span class=\"p\">:</span> <span class=\"n\">T</span><span class=\"o\">.</span><span class=\"n\">Buffer</span><span class=\"p\">[(</span><span class=\"mi\">128</span><span class=\"p\">,</span> <span class=\"mi\">128</span><span class=\"p\">),</span> <span class=\"s2\">&quot;float32&quot;</span><span class=\"p\">])</span> <span class=\"o\">-&gt;</span> <span class=\"kc\">None</span><span class=\"p\">:</span>\n",
              "        <span class=\"c1\"># function attr dict</span>\n",
              "        <span class=\"n\">T</span><span class=\"o\">.</span><span class=\"n\">func_attr</span><span class=\"p\">({</span><span class=\"s2\">&quot;global_symbol&quot;</span><span class=\"p\">:</span> <span class=\"s2\">&quot;mm_relu&quot;</span><span class=\"p\">,</span> <span class=\"s2\">&quot;tir_noalias&quot;</span><span class=\"p\">:</span> <span class=\"kc\">True</span><span class=\"p\">})</span>\n",
              "        <span class=\"c1\"># body</span>\n",
              "        <span class=\"c1\"># with T.block(&quot;root&quot;)</span>\n",
              "        <span class=\"n\">Y</span> <span class=\"o\">=</span> <span class=\"n\">T</span><span class=\"o\">.</span><span class=\"n\">alloc_buffer</span><span class=\"p\">([</span><span class=\"mi\">128</span><span class=\"p\">,</span> <span class=\"mi\">128</span><span class=\"p\">],</span> <span class=\"n\">dtype</span><span class=\"o\">=</span><span class=\"s2\">&quot;float32&quot;</span><span class=\"p\">)</span>\n",
              "        <span class=\"k\">for</span> <span class=\"n\">i</span><span class=\"p\">,</span> <span class=\"n\">j_0</span> <span class=\"ow\">in</span> <span class=\"n\">T</span><span class=\"o\">.</span><span class=\"n\">grid</span><span class=\"p\">(</span><span class=\"mi\">128</span><span class=\"p\">,</span> <span class=\"mi\">32</span><span class=\"p\">):</span>\n",
              "            <span class=\"k\">for</span> <span class=\"n\">j_1_init</span> <span class=\"ow\">in</span> <span class=\"n\">T</span><span class=\"o\">.</span><span class=\"n\">serial</span><span class=\"p\">(</span><span class=\"mi\">4</span><span class=\"p\">):</span>\n",
              "                <span class=\"k\">with</span> <span class=\"n\">T</span><span class=\"o\">.</span><span class=\"n\">block</span><span class=\"p\">(</span><span class=\"s2\">&quot;Y_init&quot;</span><span class=\"p\">):</span>\n",
              "                    <span class=\"n\">vi</span> <span class=\"o\">=</span> <span class=\"n\">T</span><span class=\"o\">.</span><span class=\"n\">axis</span><span class=\"o\">.</span><span class=\"n\">spatial</span><span class=\"p\">(</span><span class=\"mi\">128</span><span class=\"p\">,</span> <span class=\"n\">i</span><span class=\"p\">)</span>\n",
              "                    <span class=\"n\">vj</span> <span class=\"o\">=</span> <span class=\"n\">T</span><span class=\"o\">.</span><span class=\"n\">axis</span><span class=\"o\">.</span><span class=\"n\">spatial</span><span class=\"p\">(</span><span class=\"mi\">128</span><span class=\"p\">,</span> <span class=\"n\">j_0</span> <span class=\"o\">*</span> <span class=\"mi\">4</span> <span class=\"o\">+</span> <span class=\"n\">j_1_init</span><span class=\"p\">)</span>\n",
              "                    <span class=\"n\">T</span><span class=\"o\">.</span><span class=\"n\">reads</span><span class=\"p\">()</span>\n",
              "                    <span class=\"n\">T</span><span class=\"o\">.</span><span class=\"n\">writes</span><span class=\"p\">(</span><span class=\"n\">Y</span><span class=\"p\">[</span><span class=\"n\">vi</span><span class=\"p\">,</span> <span class=\"n\">vj</span><span class=\"p\">])</span>\n",
              "                    <span class=\"n\">Y</span><span class=\"p\">[</span><span class=\"n\">vi</span><span class=\"p\">,</span> <span class=\"n\">vj</span><span class=\"p\">]</span> <span class=\"o\">=</span> <span class=\"n\">T</span><span class=\"o\">.</span><span class=\"n\">float32</span><span class=\"p\">(</span><span class=\"mi\">0</span><span class=\"p\">)</span>\n",
              "            <span class=\"k\">for</span> <span class=\"n\">k</span><span class=\"p\">,</span> <span class=\"n\">j_1</span> <span class=\"ow\">in</span> <span class=\"n\">T</span><span class=\"o\">.</span><span class=\"n\">grid</span><span class=\"p\">(</span><span class=\"mi\">128</span><span class=\"p\">,</span> <span class=\"mi\">4</span><span class=\"p\">):</span>\n",
              "                <span class=\"k\">with</span> <span class=\"n\">T</span><span class=\"o\">.</span><span class=\"n\">block</span><span class=\"p\">(</span><span class=\"s2\">&quot;Y_update&quot;</span><span class=\"p\">):</span>\n",
              "                    <span class=\"n\">vi</span> <span class=\"o\">=</span> <span class=\"n\">T</span><span class=\"o\">.</span><span class=\"n\">axis</span><span class=\"o\">.</span><span class=\"n\">spatial</span><span class=\"p\">(</span><span class=\"mi\">128</span><span class=\"p\">,</span> <span class=\"n\">i</span><span class=\"p\">)</span>\n",
              "                    <span class=\"n\">vj</span> <span class=\"o\">=</span> <span class=\"n\">T</span><span class=\"o\">.</span><span class=\"n\">axis</span><span class=\"o\">.</span><span class=\"n\">spatial</span><span class=\"p\">(</span><span class=\"mi\">128</span><span class=\"p\">,</span> <span class=\"n\">j_0</span> <span class=\"o\">*</span> <span class=\"mi\">4</span> <span class=\"o\">+</span> <span class=\"n\">j_1</span><span class=\"p\">)</span>\n",
              "                    <span class=\"n\">vk</span> <span class=\"o\">=</span> <span class=\"n\">T</span><span class=\"o\">.</span><span class=\"n\">axis</span><span class=\"o\">.</span><span class=\"n\">reduce</span><span class=\"p\">(</span><span class=\"mi\">128</span><span class=\"p\">,</span> <span class=\"n\">k</span><span class=\"p\">)</span>\n",
              "                    <span class=\"n\">T</span><span class=\"o\">.</span><span class=\"n\">reads</span><span class=\"p\">(</span><span class=\"n\">Y</span><span class=\"p\">[</span><span class=\"n\">vi</span><span class=\"p\">,</span> <span class=\"n\">vj</span><span class=\"p\">],</span> <span class=\"n\">A</span><span class=\"p\">[</span><span class=\"n\">vi</span><span class=\"p\">,</span> <span class=\"n\">vk</span><span class=\"p\">],</span> <span class=\"n\">B</span><span class=\"p\">[</span><span class=\"n\">vk</span><span class=\"p\">,</span> <span class=\"n\">vj</span><span class=\"p\">])</span>\n",
              "                    <span class=\"n\">T</span><span class=\"o\">.</span><span class=\"n\">writes</span><span class=\"p\">(</span><span class=\"n\">Y</span><span class=\"p\">[</span><span class=\"n\">vi</span><span class=\"p\">,</span> <span class=\"n\">vj</span><span class=\"p\">])</span>\n",
              "                    <span class=\"n\">Y</span><span class=\"p\">[</span><span class=\"n\">vi</span><span class=\"p\">,</span> <span class=\"n\">vj</span><span class=\"p\">]</span> <span class=\"o\">=</span> <span class=\"n\">Y</span><span class=\"p\">[</span><span class=\"n\">vi</span><span class=\"p\">,</span> <span class=\"n\">vj</span><span class=\"p\">]</span> <span class=\"o\">+</span> <span class=\"n\">A</span><span class=\"p\">[</span><span class=\"n\">vi</span><span class=\"p\">,</span> <span class=\"n\">vk</span><span class=\"p\">]</span> <span class=\"o\">*</span> <span class=\"n\">B</span><span class=\"p\">[</span><span class=\"n\">vk</span><span class=\"p\">,</span> <span class=\"n\">vj</span><span class=\"p\">]</span>\n",
              "            <span class=\"k\">for</span> <span class=\"n\">ax0</span> <span class=\"ow\">in</span> <span class=\"n\">T</span><span class=\"o\">.</span><span class=\"n\">serial</span><span class=\"p\">(</span><span class=\"mi\">4</span><span class=\"p\">):</span>\n",
              "                <span class=\"k\">with</span> <span class=\"n\">T</span><span class=\"o\">.</span><span class=\"n\">block</span><span class=\"p\">(</span><span class=\"s2\">&quot;C&quot;</span><span class=\"p\">):</span>\n",
              "                    <span class=\"n\">vi</span> <span class=\"o\">=</span> <span class=\"n\">T</span><span class=\"o\">.</span><span class=\"n\">axis</span><span class=\"o\">.</span><span class=\"n\">spatial</span><span class=\"p\">(</span><span class=\"mi\">128</span><span class=\"p\">,</span> <span class=\"n\">i</span><span class=\"p\">)</span>\n",
              "                    <span class=\"n\">vj</span> <span class=\"o\">=</span> <span class=\"n\">T</span><span class=\"o\">.</span><span class=\"n\">axis</span><span class=\"o\">.</span><span class=\"n\">spatial</span><span class=\"p\">(</span><span class=\"mi\">128</span><span class=\"p\">,</span> <span class=\"n\">j_0</span> <span class=\"o\">*</span> <span class=\"mi\">4</span> <span class=\"o\">+</span> <span class=\"n\">ax0</span><span class=\"p\">)</span>\n",
              "                    <span class=\"n\">T</span><span class=\"o\">.</span><span class=\"n\">reads</span><span class=\"p\">(</span><span class=\"n\">Y</span><span class=\"p\">[</span><span class=\"n\">vi</span><span class=\"p\">,</span> <span class=\"n\">vj</span><span class=\"p\">])</span>\n",
              "                    <span class=\"n\">T</span><span class=\"o\">.</span><span class=\"n\">writes</span><span class=\"p\">(</span><span class=\"n\">C</span><span class=\"p\">[</span><span class=\"n\">vi</span><span class=\"p\">,</span> <span class=\"n\">vj</span><span class=\"p\">])</span>\n",
              "                    <span class=\"n\">C</span><span class=\"p\">[</span><span class=\"n\">vi</span><span class=\"p\">,</span> <span class=\"n\">vj</span><span class=\"p\">]</span> <span class=\"o\">=</span> <span class=\"n\">T</span><span class=\"o\">.</span><span class=\"n\">max</span><span class=\"p\">(</span><span class=\"n\">Y</span><span class=\"p\">[</span><span class=\"n\">vi</span><span class=\"p\">,</span> <span class=\"n\">vj</span><span class=\"p\">],</span> <span class=\"n\">T</span><span class=\"o\">.</span><span class=\"n\">float32</span><span class=\"p\">(</span><span class=\"mi\">0</span><span class=\"p\">))</span>\n",
              "    \n",
              "</pre></div>\n",
              "\n"
            ]
          },
          "metadata": {},
          "execution_count": 20
        }
      ]
    },
    {
      "cell_type": "code",
      "source": [
        "# build and run old MyModule\n",
        "rt_lib = tvm.build(MyModule, target=\"llvm\")\n",
        "a_nd = tvm.nd.array(a_np)\n",
        "b_nd = tvm.nd.array(b_np)\n",
        "c_nd = tvm.nd.empty((128, 128), dtype=\"float32\")\n",
        "\n",
        "# get runtime func\n",
        "func_mm_relu = rt_lib['mm_relu']\n",
        "time_start = time.time()\n",
        "func_mm_relu(a_nd, b_nd, c_nd)\n",
        "print(f\"func_mm_relu(tvm) cost {time.time() - time_start:.3f}s\")"
      ],
      "metadata": {
        "colab": {
          "base_uri": "https://localhost:8080/"
        },
        "id": "1WVIyYxhUjOs",
        "outputId": "603301b8-bd1a-4f7b-d377-31ce7d61ba7f"
      },
      "execution_count": 21,
      "outputs": [
        {
          "output_type": "stream",
          "name": "stdout",
          "text": [
            "func_mm_relu(tvm) cost 0.007s\n"
          ]
        }
      ]
    },
    {
      "cell_type": "code",
      "source": [
        "np.testing.assert_allclose(c_mm_relu, c_nd.numpy(), rtol=1e-5)"
      ],
      "metadata": {
        "id": "Ng-Egsm9Un6h"
      },
      "execution_count": 22,
      "outputs": []
    },
    {
      "cell_type": "code",
      "source": [
        "# transform version\n",
        "rt_lib_after = tvm.build(sch.mod, target=\"llvm\")\n",
        "rt_lib_after[\"mm_relu\"](a_nd, b_nd, c_nd)\n",
        "np.testing.assert_allclose(c_mm_relu, c_nd.numpy(), rtol=1e-5)"
      ],
      "metadata": {
        "id": "ibZWyZtOUqIE"
      },
      "execution_count": 23,
      "outputs": []
    },
    {
      "cell_type": "code",
      "source": [
        "# eval time cost\n",
        "f_timer_before = rt_lib.time_evaluator(\"mm_relu\", tvm.cpu())\n",
        "print(\"Time cost of MyModule %g sec\" % f_timer_before(a_nd, b_nd, c_nd).mean)\n",
        "f_timer_after = rt_lib_after.time_evaluator(\"mm_relu\", tvm.cpu())\n",
        "print(\"Time cost of transformed sch.mod %g sec\" % f_timer_after(a_nd, b_nd, c_nd).mean)"
      ],
      "metadata": {
        "colab": {
          "base_uri": "https://localhost:8080/"
        },
        "id": "FSYKGFCCUvsz",
        "outputId": "9f7ed2b8-59fc-4199-e1f2-cd83a4d207a8"
      },
      "execution_count": 24,
      "outputs": [
        {
          "output_type": "stream",
          "name": "stdout",
          "text": [
            "Time cost of MyModule 0.00650727 sec\n",
            "Time cost of transformed sch.mod 0.000623011 sec\n"
          ]
        }
      ]
    },
    {
      "cell_type": "code",
      "source": [
        "# try differenct jfactor\n",
        "def transform(mod, jfactor):\n",
        "  sch = tvm.tir.Schedule(mod)\n",
        "  block_Y = sch.get_block(\"Y\", func_name=\"mm_relu\")\n",
        "  i, j, k = sch.get_loops(block_Y)\n",
        "  j0, j1 = sch.split(j, factors=[None, jfactor])\n",
        "  sch.reorder(j0, k, j1)\n",
        "  block_C = sch.get_block(\"C\", func_name=\"mm_relu\")\n",
        "  sch.reverse_compute_at(block_C, j0)\n",
        "  return sch.mod"
      ],
      "metadata": {
        "id": "I6MIWeCGU0Mq"
      },
      "execution_count": 25,
      "outputs": []
    },
    {
      "cell_type": "code",
      "source": [
        "jfactors = [4, 8, 16, 32, 64, 128, 256, 512]\n",
        "for jfactor in jfactors:\n",
        "  mod_transformed = transform(MyModule, jfactor=jfactor)\n",
        "  rt_lib_transformed = tvm.build(mod_transformed, \"llvm\")\n",
        "  f_timer_transformed = rt_lib_transformed.time_evaluator(\"mm_relu\", tvm.cpu())\n",
        "  print(\"Time cost of transformed mod_transformed(%d) %g sec\" % (jfactor, f_timer_transformed(a_nd, b_nd, c_nd).mean))"
      ],
      "metadata": {
        "colab": {
          "base_uri": "https://localhost:8080/"
        },
        "id": "28Uz7Wx7U6UZ",
        "outputId": "60baf816-b404-4e18-87a6-4297f6993904"
      },
      "execution_count": 26,
      "outputs": [
        {
          "output_type": "stream",
          "name": "stdout",
          "text": [
            "Time cost of transformed mod_transformed(4) 0.000535393 sec\n",
            "Time cost of transformed mod_transformed(8) 0.000339976 sec\n",
            "Time cost of transformed mod_transformed(16) 0.000426697 sec\n",
            "Time cost of transformed mod_transformed(32) 0.000229999 sec\n",
            "Time cost of transformed mod_transformed(64) 0.000331745 sec\n",
            "Time cost of transformed mod_transformed(128) 0.000303201 sec\n",
            "Time cost of transformed mod_transformed(256) 0.00393341 sec\n",
            "Time cost of transformed mod_transformed(512) 0.00697011 sec\n"
          ]
        }
      ]
    },
    {
      "cell_type": "code",
      "source": [
        "# tensor expression\n",
        "from tvm import te\n",
        "A = te.placeholder((128, 128), \"float32\", name=\"A\")\n",
        "B = te.placeholder((128, 128), \"float32\", name=\"B\")\n",
        "k = te.reduce_axis((0, 128), \"k\")\n",
        "Y = te.compute((128, 128), lambda i, j: te.sum(A[i, k] * B[k, j], axis=k))\n",
        "C = te.compute((128, 128), lambda i, j: te.max(Y[i, j], 0), name=\"C\")\n",
        "te_func = te.create_prim_func([A, B, C]).with_attr({\"global_symbol\": \"mm_relu\"})\n",
        "MyModuleFromTE = tvm.IRModule({\"mm_relu\": te_func})"
      ],
      "metadata": {
        "id": "V5A9PHuLU66t"
      },
      "execution_count": 27,
      "outputs": []
    },
    {
      "cell_type": "code",
      "source": [
        "IPython.display.HTML(code2html(sch.mod.script()))"
      ],
      "metadata": {
        "colab": {
          "base_uri": "https://localhost:8080/",
          "height": 610
        },
        "id": "ehFM-sCpU_3n",
        "outputId": "9cc6c367-6f2e-4df3-95ab-18f8e1d92c7d"
      },
      "execution_count": 28,
      "outputs": [
        {
          "output_type": "execute_result",
          "data": {
            "text/plain": [
              "<IPython.core.display.HTML object>"
            ],
            "text/html": [
              "<style>.highlight .hll { background-color: #ffffcc }\n",
              ".highlight  { background: #f8f8f8; }\n",
              ".highlight .c { color: #408080; font-style: italic } /* Comment */\n",
              ".highlight .err { border: 1px solid #FF0000 } /* Error */\n",
              ".highlight .k { color: #008000; font-weight: bold } /* Keyword */\n",
              ".highlight .o { color: #666666 } /* Operator */\n",
              ".highlight .ch { color: #408080; font-style: italic } /* Comment.Hashbang */\n",
              ".highlight .cm { color: #408080; font-style: italic } /* Comment.Multiline */\n",
              ".highlight .cp { color: #BC7A00 } /* Comment.Preproc */\n",
              ".highlight .cpf { color: #408080; font-style: italic } /* Comment.PreprocFile */\n",
              ".highlight .c1 { color: #408080; font-style: italic } /* Comment.Single */\n",
              ".highlight .cs { color: #408080; font-style: italic } /* Comment.Special */\n",
              ".highlight .gd { color: #A00000 } /* Generic.Deleted */\n",
              ".highlight .ge { font-style: italic } /* Generic.Emph */\n",
              ".highlight .gr { color: #FF0000 } /* Generic.Error */\n",
              ".highlight .gh { color: #000080; font-weight: bold } /* Generic.Heading */\n",
              ".highlight .gi { color: #00A000 } /* Generic.Inserted */\n",
              ".highlight .go { color: #888888 } /* Generic.Output */\n",
              ".highlight .gp { color: #000080; font-weight: bold } /* Generic.Prompt */\n",
              ".highlight .gs { font-weight: bold } /* Generic.Strong */\n",
              ".highlight .gu { color: #800080; font-weight: bold } /* Generic.Subheading */\n",
              ".highlight .gt { color: #0044DD } /* Generic.Traceback */\n",
              ".highlight .kc { color: #008000; font-weight: bold } /* Keyword.Constant */\n",
              ".highlight .kd { color: #008000; font-weight: bold } /* Keyword.Declaration */\n",
              ".highlight .kn { color: #008000; font-weight: bold } /* Keyword.Namespace */\n",
              ".highlight .kp { color: #008000 } /* Keyword.Pseudo */\n",
              ".highlight .kr { color: #008000; font-weight: bold } /* Keyword.Reserved */\n",
              ".highlight .kt { color: #B00040 } /* Keyword.Type */\n",
              ".highlight .m { color: #666666 } /* Literal.Number */\n",
              ".highlight .s { color: #BA2121 } /* Literal.String */\n",
              ".highlight .na { color: #7D9029 } /* Name.Attribute */\n",
              ".highlight .nb { color: #008000 } /* Name.Builtin */\n",
              ".highlight .nc { color: #0000FF; font-weight: bold } /* Name.Class */\n",
              ".highlight .no { color: #880000 } /* Name.Constant */\n",
              ".highlight .nd { color: #AA22FF } /* Name.Decorator */\n",
              ".highlight .ni { color: #999999; font-weight: bold } /* Name.Entity */\n",
              ".highlight .ne { color: #D2413A; font-weight: bold } /* Name.Exception */\n",
              ".highlight .nf { color: #0000FF } /* Name.Function */\n",
              ".highlight .nl { color: #A0A000 } /* Name.Label */\n",
              ".highlight .nn { color: #0000FF; font-weight: bold } /* Name.Namespace */\n",
              ".highlight .nt { color: #008000; font-weight: bold } /* Name.Tag */\n",
              ".highlight .nv { color: #19177C } /* Name.Variable */\n",
              ".highlight .ow { color: #AA22FF; font-weight: bold } /* Operator.Word */\n",
              ".highlight .w { color: #bbbbbb } /* Text.Whitespace */\n",
              ".highlight .mb { color: #666666 } /* Literal.Number.Bin */\n",
              ".highlight .mf { color: #666666 } /* Literal.Number.Float */\n",
              ".highlight .mh { color: #666666 } /* Literal.Number.Hex */\n",
              ".highlight .mi { color: #666666 } /* Literal.Number.Integer */\n",
              ".highlight .mo { color: #666666 } /* Literal.Number.Oct */\n",
              ".highlight .sa { color: #BA2121 } /* Literal.String.Affix */\n",
              ".highlight .sb { color: #BA2121 } /* Literal.String.Backtick */\n",
              ".highlight .sc { color: #BA2121 } /* Literal.String.Char */\n",
              ".highlight .dl { color: #BA2121 } /* Literal.String.Delimiter */\n",
              ".highlight .sd { color: #BA2121; font-style: italic } /* Literal.String.Doc */\n",
              ".highlight .s2 { color: #BA2121 } /* Literal.String.Double */\n",
              ".highlight .se { color: #BB6622; font-weight: bold } /* Literal.String.Escape */\n",
              ".highlight .sh { color: #BA2121 } /* Literal.String.Heredoc */\n",
              ".highlight .si { color: #BB6688; font-weight: bold } /* Literal.String.Interpol */\n",
              ".highlight .sx { color: #008000 } /* Literal.String.Other */\n",
              ".highlight .sr { color: #BB6688 } /* Literal.String.Regex */\n",
              ".highlight .s1 { color: #BA2121 } /* Literal.String.Single */\n",
              ".highlight .ss { color: #19177C } /* Literal.String.Symbol */\n",
              ".highlight .bp { color: #008000 } /* Name.Builtin.Pseudo */\n",
              ".highlight .fm { color: #0000FF } /* Name.Function.Magic */\n",
              ".highlight .vc { color: #19177C } /* Name.Variable.Class */\n",
              ".highlight .vg { color: #19177C } /* Name.Variable.Global */\n",
              ".highlight .vi { color: #19177C } /* Name.Variable.Instance */\n",
              ".highlight .vm { color: #19177C } /* Name.Variable.Magic */\n",
              ".highlight .il { color: #666666 } /* Literal.Number.Integer.Long */</style><div class=\"highlight\"><pre><span></span><span class=\"nd\">@tvm</span><span class=\"o\">.</span><span class=\"n\">script</span><span class=\"o\">.</span><span class=\"n\">ir_module</span>\n",
              "<span class=\"k\">class</span> <span class=\"nc\">Module</span><span class=\"p\">:</span>\n",
              "    <span class=\"nd\">@T</span><span class=\"o\">.</span><span class=\"n\">prim_func</span>\n",
              "    <span class=\"k\">def</span> <span class=\"nf\">mm_relu</span><span class=\"p\">(</span><span class=\"n\">A</span><span class=\"p\">:</span> <span class=\"n\">T</span><span class=\"o\">.</span><span class=\"n\">Buffer</span><span class=\"p\">[(</span><span class=\"mi\">128</span><span class=\"p\">,</span> <span class=\"mi\">128</span><span class=\"p\">),</span> <span class=\"s2\">&quot;float32&quot;</span><span class=\"p\">],</span> <span class=\"n\">B</span><span class=\"p\">:</span> <span class=\"n\">T</span><span class=\"o\">.</span><span class=\"n\">Buffer</span><span class=\"p\">[(</span><span class=\"mi\">128</span><span class=\"p\">,</span> <span class=\"mi\">128</span><span class=\"p\">),</span> <span class=\"s2\">&quot;float32&quot;</span><span class=\"p\">],</span> <span class=\"n\">C</span><span class=\"p\">:</span> <span class=\"n\">T</span><span class=\"o\">.</span><span class=\"n\">Buffer</span><span class=\"p\">[(</span><span class=\"mi\">128</span><span class=\"p\">,</span> <span class=\"mi\">128</span><span class=\"p\">),</span> <span class=\"s2\">&quot;float32&quot;</span><span class=\"p\">])</span> <span class=\"o\">-&gt;</span> <span class=\"kc\">None</span><span class=\"p\">:</span>\n",
              "        <span class=\"c1\"># function attr dict</span>\n",
              "        <span class=\"n\">T</span><span class=\"o\">.</span><span class=\"n\">func_attr</span><span class=\"p\">({</span><span class=\"s2\">&quot;global_symbol&quot;</span><span class=\"p\">:</span> <span class=\"s2\">&quot;mm_relu&quot;</span><span class=\"p\">,</span> <span class=\"s2\">&quot;tir_noalias&quot;</span><span class=\"p\">:</span> <span class=\"kc\">True</span><span class=\"p\">})</span>\n",
              "        <span class=\"c1\"># body</span>\n",
              "        <span class=\"c1\"># with T.block(&quot;root&quot;)</span>\n",
              "        <span class=\"n\">Y</span> <span class=\"o\">=</span> <span class=\"n\">T</span><span class=\"o\">.</span><span class=\"n\">alloc_buffer</span><span class=\"p\">([</span><span class=\"mi\">128</span><span class=\"p\">,</span> <span class=\"mi\">128</span><span class=\"p\">],</span> <span class=\"n\">dtype</span><span class=\"o\">=</span><span class=\"s2\">&quot;float32&quot;</span><span class=\"p\">)</span>\n",
              "        <span class=\"k\">for</span> <span class=\"n\">i</span><span class=\"p\">,</span> <span class=\"n\">j_0</span> <span class=\"ow\">in</span> <span class=\"n\">T</span><span class=\"o\">.</span><span class=\"n\">grid</span><span class=\"p\">(</span><span class=\"mi\">128</span><span class=\"p\">,</span> <span class=\"mi\">32</span><span class=\"p\">):</span>\n",
              "            <span class=\"k\">for</span> <span class=\"n\">j_1_init</span> <span class=\"ow\">in</span> <span class=\"n\">T</span><span class=\"o\">.</span><span class=\"n\">serial</span><span class=\"p\">(</span><span class=\"mi\">4</span><span class=\"p\">):</span>\n",
              "                <span class=\"k\">with</span> <span class=\"n\">T</span><span class=\"o\">.</span><span class=\"n\">block</span><span class=\"p\">(</span><span class=\"s2\">&quot;Y_init&quot;</span><span class=\"p\">):</span>\n",
              "                    <span class=\"n\">vi</span> <span class=\"o\">=</span> <span class=\"n\">T</span><span class=\"o\">.</span><span class=\"n\">axis</span><span class=\"o\">.</span><span class=\"n\">spatial</span><span class=\"p\">(</span><span class=\"mi\">128</span><span class=\"p\">,</span> <span class=\"n\">i</span><span class=\"p\">)</span>\n",
              "                    <span class=\"n\">vj</span> <span class=\"o\">=</span> <span class=\"n\">T</span><span class=\"o\">.</span><span class=\"n\">axis</span><span class=\"o\">.</span><span class=\"n\">spatial</span><span class=\"p\">(</span><span class=\"mi\">128</span><span class=\"p\">,</span> <span class=\"n\">j_0</span> <span class=\"o\">*</span> <span class=\"mi\">4</span> <span class=\"o\">+</span> <span class=\"n\">j_1_init</span><span class=\"p\">)</span>\n",
              "                    <span class=\"n\">T</span><span class=\"o\">.</span><span class=\"n\">reads</span><span class=\"p\">()</span>\n",
              "                    <span class=\"n\">T</span><span class=\"o\">.</span><span class=\"n\">writes</span><span class=\"p\">(</span><span class=\"n\">Y</span><span class=\"p\">[</span><span class=\"n\">vi</span><span class=\"p\">,</span> <span class=\"n\">vj</span><span class=\"p\">])</span>\n",
              "                    <span class=\"n\">Y</span><span class=\"p\">[</span><span class=\"n\">vi</span><span class=\"p\">,</span> <span class=\"n\">vj</span><span class=\"p\">]</span> <span class=\"o\">=</span> <span class=\"n\">T</span><span class=\"o\">.</span><span class=\"n\">float32</span><span class=\"p\">(</span><span class=\"mi\">0</span><span class=\"p\">)</span>\n",
              "            <span class=\"k\">for</span> <span class=\"n\">k</span><span class=\"p\">,</span> <span class=\"n\">j_1</span> <span class=\"ow\">in</span> <span class=\"n\">T</span><span class=\"o\">.</span><span class=\"n\">grid</span><span class=\"p\">(</span><span class=\"mi\">128</span><span class=\"p\">,</span> <span class=\"mi\">4</span><span class=\"p\">):</span>\n",
              "                <span class=\"k\">with</span> <span class=\"n\">T</span><span class=\"o\">.</span><span class=\"n\">block</span><span class=\"p\">(</span><span class=\"s2\">&quot;Y_update&quot;</span><span class=\"p\">):</span>\n",
              "                    <span class=\"n\">vi</span> <span class=\"o\">=</span> <span class=\"n\">T</span><span class=\"o\">.</span><span class=\"n\">axis</span><span class=\"o\">.</span><span class=\"n\">spatial</span><span class=\"p\">(</span><span class=\"mi\">128</span><span class=\"p\">,</span> <span class=\"n\">i</span><span class=\"p\">)</span>\n",
              "                    <span class=\"n\">vj</span> <span class=\"o\">=</span> <span class=\"n\">T</span><span class=\"o\">.</span><span class=\"n\">axis</span><span class=\"o\">.</span><span class=\"n\">spatial</span><span class=\"p\">(</span><span class=\"mi\">128</span><span class=\"p\">,</span> <span class=\"n\">j_0</span> <span class=\"o\">*</span> <span class=\"mi\">4</span> <span class=\"o\">+</span> <span class=\"n\">j_1</span><span class=\"p\">)</span>\n",
              "                    <span class=\"n\">vk</span> <span class=\"o\">=</span> <span class=\"n\">T</span><span class=\"o\">.</span><span class=\"n\">axis</span><span class=\"o\">.</span><span class=\"n\">reduce</span><span class=\"p\">(</span><span class=\"mi\">128</span><span class=\"p\">,</span> <span class=\"n\">k</span><span class=\"p\">)</span>\n",
              "                    <span class=\"n\">T</span><span class=\"o\">.</span><span class=\"n\">reads</span><span class=\"p\">(</span><span class=\"n\">Y</span><span class=\"p\">[</span><span class=\"n\">vi</span><span class=\"p\">,</span> <span class=\"n\">vj</span><span class=\"p\">],</span> <span class=\"n\">A</span><span class=\"p\">[</span><span class=\"n\">vi</span><span class=\"p\">,</span> <span class=\"n\">vk</span><span class=\"p\">],</span> <span class=\"n\">B</span><span class=\"p\">[</span><span class=\"n\">vk</span><span class=\"p\">,</span> <span class=\"n\">vj</span><span class=\"p\">])</span>\n",
              "                    <span class=\"n\">T</span><span class=\"o\">.</span><span class=\"n\">writes</span><span class=\"p\">(</span><span class=\"n\">Y</span><span class=\"p\">[</span><span class=\"n\">vi</span><span class=\"p\">,</span> <span class=\"n\">vj</span><span class=\"p\">])</span>\n",
              "                    <span class=\"n\">Y</span><span class=\"p\">[</span><span class=\"n\">vi</span><span class=\"p\">,</span> <span class=\"n\">vj</span><span class=\"p\">]</span> <span class=\"o\">=</span> <span class=\"n\">Y</span><span class=\"p\">[</span><span class=\"n\">vi</span><span class=\"p\">,</span> <span class=\"n\">vj</span><span class=\"p\">]</span> <span class=\"o\">+</span> <span class=\"n\">A</span><span class=\"p\">[</span><span class=\"n\">vi</span><span class=\"p\">,</span> <span class=\"n\">vk</span><span class=\"p\">]</span> <span class=\"o\">*</span> <span class=\"n\">B</span><span class=\"p\">[</span><span class=\"n\">vk</span><span class=\"p\">,</span> <span class=\"n\">vj</span><span class=\"p\">]</span>\n",
              "            <span class=\"k\">for</span> <span class=\"n\">ax0</span> <span class=\"ow\">in</span> <span class=\"n\">T</span><span class=\"o\">.</span><span class=\"n\">serial</span><span class=\"p\">(</span><span class=\"mi\">4</span><span class=\"p\">):</span>\n",
              "                <span class=\"k\">with</span> <span class=\"n\">T</span><span class=\"o\">.</span><span class=\"n\">block</span><span class=\"p\">(</span><span class=\"s2\">&quot;C&quot;</span><span class=\"p\">):</span>\n",
              "                    <span class=\"n\">vi</span> <span class=\"o\">=</span> <span class=\"n\">T</span><span class=\"o\">.</span><span class=\"n\">axis</span><span class=\"o\">.</span><span class=\"n\">spatial</span><span class=\"p\">(</span><span class=\"mi\">128</span><span class=\"p\">,</span> <span class=\"n\">i</span><span class=\"p\">)</span>\n",
              "                    <span class=\"n\">vj</span> <span class=\"o\">=</span> <span class=\"n\">T</span><span class=\"o\">.</span><span class=\"n\">axis</span><span class=\"o\">.</span><span class=\"n\">spatial</span><span class=\"p\">(</span><span class=\"mi\">128</span><span class=\"p\">,</span> <span class=\"n\">j_0</span> <span class=\"o\">*</span> <span class=\"mi\">4</span> <span class=\"o\">+</span> <span class=\"n\">ax0</span><span class=\"p\">)</span>\n",
              "                    <span class=\"n\">T</span><span class=\"o\">.</span><span class=\"n\">reads</span><span class=\"p\">(</span><span class=\"n\">Y</span><span class=\"p\">[</span><span class=\"n\">vi</span><span class=\"p\">,</span> <span class=\"n\">vj</span><span class=\"p\">])</span>\n",
              "                    <span class=\"n\">T</span><span class=\"o\">.</span><span class=\"n\">writes</span><span class=\"p\">(</span><span class=\"n\">C</span><span class=\"p\">[</span><span class=\"n\">vi</span><span class=\"p\">,</span> <span class=\"n\">vj</span><span class=\"p\">])</span>\n",
              "                    <span class=\"n\">C</span><span class=\"p\">[</span><span class=\"n\">vi</span><span class=\"p\">,</span> <span class=\"n\">vj</span><span class=\"p\">]</span> <span class=\"o\">=</span> <span class=\"n\">T</span><span class=\"o\">.</span><span class=\"n\">max</span><span class=\"p\">(</span><span class=\"n\">Y</span><span class=\"p\">[</span><span class=\"n\">vi</span><span class=\"p\">,</span> <span class=\"n\">vj</span><span class=\"p\">],</span> <span class=\"n\">T</span><span class=\"o\">.</span><span class=\"n\">float32</span><span class=\"p\">(</span><span class=\"mi\">0</span><span class=\"p\">))</span>\n",
              "    \n",
              "</pre></div>\n",
              "\n"
            ]
          },
          "metadata": {},
          "execution_count": 28
        }
      ]
    },
    {
      "cell_type": "code",
      "source": [
        ""
      ],
      "metadata": {
        "id": "-h1W38xbVEfL"
      },
      "execution_count": 28,
      "outputs": []
    }
  ]
}