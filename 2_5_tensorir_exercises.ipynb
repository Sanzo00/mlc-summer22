{
  "nbformat": 4,
  "nbformat_minor": 0,
  "metadata": {
    "colab": {
      "name": "2.5-tensorir_exercises.ipynb",
      "provenance": [],
      "collapsed_sections": [],
      "authorship_tag": "ABX9TyNCCe4RPHFFVxS97Qtuaweq",
      "include_colab_link": true
    },
    "kernelspec": {
      "name": "python3",
      "display_name": "Python 3"
    },
    "language_info": {
      "name": "python"
    }
  },
  "cells": [
    {
      "cell_type": "markdown",
      "metadata": {
        "id": "view-in-github",
        "colab_type": "text"
      },
      "source": [
        "<a href=\"https://colab.research.google.com/github/Sanzo00/mlc-summer22/blob/master/2_5_tensorir_exercises.ipynb\" target=\"_parent\"><img src=\"https://colab.research.google.com/assets/colab-badge.svg\" alt=\"Open In Colab\"/></a>"
      ]
    },
    {
      "cell_type": "code",
      "execution_count": 1,
      "metadata": {
        "colab": {
          "base_uri": "https://localhost:8080/"
        },
        "id": "wswM0vZTWWWR",
        "outputId": "6407c29b-5698-42e1-a939-e19620f29dd9"
      },
      "outputs": [
        {
          "output_type": "stream",
          "name": "stdout",
          "text": [
            "Looking in indexes: https://pypi.org/simple, https://us-python.pkg.dev/colab-wheels/public/simple/\n",
            "Looking in links: https://mlc.ai/wheels\n",
            "Requirement already satisfied: mlc-ai-nightly in /usr/local/lib/python3.7/dist-packages (0.9.dev1956+ge3f218d71)\n",
            "Requirement already satisfied: attrs in /usr/local/lib/python3.7/dist-packages (from mlc-ai-nightly) (22.1.0)\n",
            "Requirement already satisfied: numpy in /usr/local/lib/python3.7/dist-packages (from mlc-ai-nightly) (1.21.6)\n",
            "Requirement already satisfied: tornado in /usr/local/lib/python3.7/dist-packages (from mlc-ai-nightly) (5.1.1)\n",
            "Requirement already satisfied: psutil in /usr/local/lib/python3.7/dist-packages (from mlc-ai-nightly) (5.4.8)\n",
            "Requirement already satisfied: scipy in /usr/local/lib/python3.7/dist-packages (from mlc-ai-nightly) (1.7.3)\n",
            "Requirement already satisfied: cloudpickle in /usr/local/lib/python3.7/dist-packages (from mlc-ai-nightly) (1.3.0)\n",
            "Requirement already satisfied: Pygments in /usr/local/lib/python3.7/dist-packages (from mlc-ai-nightly) (2.6.1)\n",
            "Requirement already satisfied: synr==0.6.0 in /usr/local/lib/python3.7/dist-packages (from mlc-ai-nightly) (0.6.0)\n",
            "Requirement already satisfied: decorator in /usr/local/lib/python3.7/dist-packages (from mlc-ai-nightly) (4.4.2)\n"
          ]
        }
      ],
      "source": [
        "!python3 -m  pip install mlc-ai-nightly -f https://mlc.ai/wheels"
      ]
    },
    {
      "cell_type": "code",
      "source": [
        "import numpy as np\n",
        "import tvm\n",
        "from tvm.ir.module import IRModule\n",
        "from tvm.script import tir as T\n",
        "import time"
      ],
      "metadata": {
        "id": "zq_Vn3piWguP"
      },
      "execution_count": 2,
      "outputs": []
    },
    {
      "cell_type": "code",
      "source": [
        "import IPython\n",
        "\n",
        "def code2html(code):\n",
        "    \"\"\"Helper function to use pygments to turn the code string into highlighted html.\"\"\"\n",
        "    import pygments\n",
        "    from pygments.lexers import Python3Lexer\n",
        "    from pygments.formatters import HtmlFormatter\n",
        "    formatter = HtmlFormatter()\n",
        "    html = pygments.highlight(code, Python3Lexer(), formatter)\n",
        "    return \"<style>%s</style>%s\\n\" % (formatter.get_style_defs(\".highlight\"), html)\n",
        "\n",
        "# IPython.display.Code(MyModule.script(), language=\"python\")\n",
        "# IPython.display.HTML(code2html(MyModule.script()))"
      ],
      "metadata": {
        "id": "HTqTncFIWdG1"
      },
      "execution_count": 3,
      "outputs": []
    },
    {
      "cell_type": "code",
      "source": [
        "# high level sum\n",
        "a = np.arange(16).reshape(4, 4)\n",
        "b = np.arange(16, 0, -1).reshape(4, 4)\n",
        "c_np = a + b\n",
        "print(c_np)"
      ],
      "metadata": {
        "colab": {
          "base_uri": "https://localhost:8080/"
        },
        "id": "AjNBzWJuWuHf",
        "outputId": "e63c5974-d058-417a-d08f-95f2a46c156f"
      },
      "execution_count": 4,
      "outputs": [
        {
          "output_type": "stream",
          "name": "stdout",
          "text": [
            "[[16 16 16 16]\n",
            " [16 16 16 16]\n",
            " [16 16 16 16]\n",
            " [16 16 16 16]]\n"
          ]
        }
      ]
    },
    {
      "cell_type": "code",
      "source": [
        "# low level sum\n",
        "def lnumpy_add(a: np.ndarray, b: np.ndarray, c: np.ndarray):\n",
        "  for i in range(4):\n",
        "    for j in range(4):\n",
        "      c[i, j] = a[i, j] + b[i, j]"
      ],
      "metadata": {
        "id": "olLwOmYHWv9b"
      },
      "execution_count": 5,
      "outputs": []
    },
    {
      "cell_type": "code",
      "source": [
        "c_lnumpy = np.empty([4, 4], dtype=np.int64)\n",
        "lnumpy_add(a, b, c_lnumpy)\n",
        "print(c_lnumpy)"
      ],
      "metadata": {
        "colab": {
          "base_uri": "https://localhost:8080/"
        },
        "id": "LP5-xI3PWxv7",
        "outputId": "cbbd3f3e-f161-420d-bb54-a8852f48a69d"
      },
      "execution_count": 6,
      "outputs": [
        {
          "output_type": "stream",
          "name": "stdout",
          "text": [
            "[[16 16 16 16]\n",
            " [16 16 16 16]\n",
            " [16 16 16 16]\n",
            " [16 16 16 16]]\n"
          ]
        }
      ]
    },
    {
      "cell_type": "code",
      "source": [
        "# tensorIR sum\n",
        "@tvm.script.ir_module\n",
        "class MyAdd:\n",
        "  @T.prim_func\n",
        "  def add(A: T.Buffer[(4, 4), \"int64\"],\n",
        "          B: T.Buffer[(4, 4), \"int64\"],\n",
        "          C: T.Buffer[(4, 4), \"int64\"]):\n",
        "    T.func_attr({\"global_symbol\": \"add\"})\n",
        "    for i, j in T.grid(4, 4):\n",
        "      with T.block(\"C\"):\n",
        "        vi = T.axis.spatial(4, i)\n",
        "        vj = T.axis.spatial(4, j)\n",
        "        C[vi, vj] = A[vi, vj] + B[vi, vj]\n"
      ],
      "metadata": {
        "id": "vBJxt3oHWzR4"
      },
      "execution_count": 7,
      "outputs": []
    },
    {
      "cell_type": "code",
      "source": [
        "rt_lib = tvm.build(MyAdd, target=\"llvm\")\n",
        "a_tvm = tvm.nd.array(a)\n",
        "b_tvm = tvm.nd.array(b)\n",
        "c_tvm = tvm.nd.array(np.empty([4, 4], dtype=np.int64))\n",
        "rt_lib[\"add\"](a_tvm, b_tvm, c_tvm)\n",
        "np.testing.assert_allclose(c_tvm.numpy(), c_np, rtol=1e-5)\n",
        "print(\"test sum is good!\")"
      ],
      "metadata": {
        "colab": {
          "base_uri": "https://localhost:8080/"
        },
        "id": "v_8l2OQQW0vy",
        "outputId": "e1f4195d-012e-437d-f749-e34163d96df2"
      },
      "execution_count": 8,
      "outputs": [
        {
          "output_type": "stream",
          "name": "stdout",
          "text": [
            "test sum is good!\n"
          ]
        }
      ]
    },
    {
      "cell_type": "code",
      "source": [
        "# 1.2 broadcast\n",
        "a = np.arange(16).reshape(4, 4)\n",
        "b = np.arange(4, 0, -1).reshape(4)\n",
        "c_np = a + b\n",
        "print(c_np)"
      ],
      "metadata": {
        "colab": {
          "base_uri": "https://localhost:8080/"
        },
        "id": "LVWPMXXjW2pf",
        "outputId": "81632e9f-cb60-4dee-bda0-86b8e3d3b7c5"
      },
      "execution_count": 9,
      "outputs": [
        {
          "output_type": "stream",
          "name": "stdout",
          "text": [
            "[[ 4  4  4  4]\n",
            " [ 8  8  8  8]\n",
            " [12 12 12 12]\n",
            " [16 16 16 16]]\n"
          ]
        }
      ]
    },
    {
      "cell_type": "code",
      "source": [
        "@tvm.script.ir_module\n",
        "class MyAdd:\n",
        "  @T.prim_func\n",
        "  def add(A: T.Buffer[(4, 4), \"int64\"],\n",
        "          B: T.Buffer[(4), \"int64\"],\n",
        "          C: T.Buffer[(4, 4), \"int64\"]):\n",
        "    T.func_attr({\"global_symbol\": \"add\", \"tir.noalias\": True})\n",
        "    for i, j in T.grid(4, 4):\n",
        "      with T.block(\"C\"):\n",
        "        vi = T.axis.spatial(4, i)\n",
        "        vj = T.axis.spatial(4, j)\n",
        "        C[vi, vj] = A[vi, vj] + B[vj]\n"
      ],
      "metadata": {
        "id": "_WBCm17KW463"
      },
      "execution_count": 10,
      "outputs": []
    },
    {
      "cell_type": "code",
      "source": [
        "rt_lib = tvm.build(MyAdd, target=\"llvm\")    \n",
        "a_tvm = tvm.nd.array(a)\n",
        "b_tvm = tvm.nd.array(b)\n",
        "c_tvm = tvm.nd.array(np.empty((4, 4), dtype=np.int64))\n",
        "rt_lib[\"add\"](a_tvm, b_tvm, c_tvm)\n",
        "np.testing.assert_allclose(c_np, c_tvm.numpy(), rtol=1e-5)\n",
        "print(\"test broadcast sum is good!\")"
      ],
      "metadata": {
        "colab": {
          "base_uri": "https://localhost:8080/"
        },
        "id": "c7Fv3QoGXaq-",
        "outputId": "b295e3fd-acf3-42bc-ee81-b7c0695116ec"
      },
      "execution_count": 11,
      "outputs": [
        {
          "output_type": "stream",
          "name": "stdout",
          "text": [
            "test broadcast sum is good!\n"
          ]
        }
      ]
    },
    {
      "cell_type": "code",
      "source": [
        "# 2-d convolution\n",
        "N, CI, H, W, CO, K = 1, 1, 8, 8, 2, 3\n",
        "OUT_H, OUT_W = H - K + 1, W - K + 1\n",
        "data = np.arange(N*CI*H*W).reshape(N, CI, H, W)\n",
        "weight = np.arange(CO*CI*K*K).reshape(CO, CI, K, K)"
      ],
      "metadata": {
        "id": "RjVB6nZpXd1_"
      },
      "execution_count": 12,
      "outputs": []
    },
    {
      "cell_type": "code",
      "source": [
        "import torch\n",
        "data_torch = torch.Tensor(data)\n",
        "weight_torch =torch.Tensor(weight)\n",
        "conv_torch = torch.nn.functional.conv2d(data_torch, weight_torch)\n",
        "conv_torch = conv_torch.numpy().astype(np.int64)\n",
        "print(conv_torch)"
      ],
      "metadata": {
        "colab": {
          "base_uri": "https://localhost:8080/"
        },
        "id": "2GTeWGfgXjYo",
        "outputId": "f7840c85-cc3d-4577-c0a6-12d4d560b972"
      },
      "execution_count": 13,
      "outputs": [
        {
          "output_type": "stream",
          "name": "stdout",
          "text": [
            "[[[[ 474  510  546  582  618  654]\n",
            "   [ 762  798  834  870  906  942]\n",
            "   [1050 1086 1122 1158 1194 1230]\n",
            "   [1338 1374 1410 1446 1482 1518]\n",
            "   [1626 1662 1698 1734 1770 1806]\n",
            "   [1914 1950 1986 2022 2058 2094]]\n",
            "\n",
            "  [[1203 1320 1437 1554 1671 1788]\n",
            "   [2139 2256 2373 2490 2607 2724]\n",
            "   [3075 3192 3309 3426 3543 3660]\n",
            "   [4011 4128 4245 4362 4479 4596]\n",
            "   [4947 5064 5181 5298 5415 5532]\n",
            "   [5883 6000 6117 6234 6351 6468]]]]\n"
          ]
        }
      ]
    },
    {
      "cell_type": "code",
      "source": [
        "# 2-d convolution (python)\n",
        "c_np = np.empty(conv_torch.shape, dtype=np.int64)\n",
        "\n",
        "for i in range(N):\n",
        "  for j in range(CO):\n",
        "    for h in range(OUT_H):\n",
        "      for w in range(OUT_W):\n",
        "        c_np[i, j, h, w] = 0\n",
        "        for ci in range(CI):\n",
        "          for k1 in range(K):\n",
        "            for k2 in range(K):\n",
        "              c_np[i, j, h, w] += data[i, ci, h+k1, w+k2] * weight[j, ci, k1, k2]"
      ],
      "metadata": {
        "id": "NWbvSTVDXk0z"
      },
      "execution_count": 14,
      "outputs": []
    },
    {
      "cell_type": "code",
      "source": [
        "np.testing.assert_allclose(c_np, conv_torch, rtol=1e-5)\n",
        "print(\"test 2d-conv(python) is good!\")"
      ],
      "metadata": {
        "colab": {
          "base_uri": "https://localhost:8080/"
        },
        "id": "CG5i795SXsrF",
        "outputId": "1ed29218-7091-4d73-8a86-23adaa4f3422"
      },
      "execution_count": 15,
      "outputs": [
        {
          "output_type": "stream",
          "name": "stdout",
          "text": [
            "test 2d-conv(python) is good!\n"
          ]
        }
      ]
    },
    {
      "cell_type": "code",
      "source": [
        "# 2-d convolution (TensorIR)\n",
        "@tvm.script.ir_module\n",
        "class MyConv:\n",
        "  @T.prim_func\n",
        "  # def conv(A: T.Buffer[(N, CI, H, W), \"int64\"],\n",
        "  #          B: T.Buffer[(CO, CI, K, K), \"int64\"],\n",
        "  #          C: T.Buffer[(N, CO, OUT_H, OUT_W), \"int64\"]):\n",
        "  def conv(A: T.Buffer[(N, CI, 8, 8), \"int64\"],\n",
        "           B: T.Buffer[(CO, CI, K, K), \"int64\"],\n",
        "           C: T.Buffer[(N, CO, OUT_H, OUT_W), \"int64\"]):           \n",
        "    T.func_attr({\"global_symbol\": \"conv\", \"tir.noalias\": True})\n",
        "    for i, j, h, w, ci, k1, k2, in T.grid(N, CO, OUT_H, OUT_W, CI, K, K):\n",
        "      with T.block(\"C\"):\n",
        "        vi, vj, vh, vw = T.axis.remap(\"SSSS\", [i, j, h, w])\n",
        "        vci, vk1, vk2 = T.axis.remap(\"SRR\", [ci, k1, k2])\n",
        "        with T.init():\n",
        "          C[vi, vj, vh, vw] = T.int64(0)\n",
        "        C[vi, vj, vh, vw] += A[vi, vci, vh+vk1, vw+vk2] * B[vj, vci, vk1, vk2]"
      ],
      "metadata": {
        "id": "DE9ho1UZX1fr"
      },
      "execution_count": 16,
      "outputs": []
    },
    {
      "cell_type": "code",
      "source": [
        "rt_lib = tvm.build(MyConv, target=\"llvm\")\n",
        "data_tvm = tvm.nd.array(data)\n",
        "weight_tvm = tvm.nd.array(weight)\n",
        "conv_tvm = tvm.nd.array(np.empty((N, CO, OUT_H, OUT_W), dtype=np.int64))\n",
        "rt_lib[\"conv\"](data_tvm, weight_tvm, conv_tvm)\n",
        "np.testing.assert_allclose(conv_tvm.numpy(), conv_torch, rtol=1e-5)\n",
        "print('test 2d-conv(tensorIR) is good!')"
      ],
      "metadata": {
        "colab": {
          "base_uri": "https://localhost:8080/"
        },
        "id": "WSNISceeX5t2",
        "outputId": "5e1ed7e9-8694-4ff1-be1e-4672628d394a"
      },
      "execution_count": 17,
      "outputs": [
        {
          "output_type": "stream",
          "name": "stdout",
          "text": [
            "test 2d-conv(tensorIR) is good!\n"
          ]
        }
      ]
    },
    {
      "cell_type": "code",
      "source": [
        "# 2.1 parallel, unroll, vectorize\n",
        "@tvm.script.ir_module\n",
        "class MyAdd:\n",
        "  @T.prim_func\n",
        "  def add(A: T.Buffer[(4, 4), \"int64\"],\n",
        "          B: T.Buffer[(4, 4), \"int64\"],\n",
        "          C: T.Buffer[(4, 4), \"int64\"]):\n",
        "    T.func_attr({\"global_symbol\": \"add\"})\n",
        "    for i, j in T.grid(4, 4):\n",
        "      with T.block(\"C\"):\n",
        "        vi = T.axis.spatial(4, i)\n",
        "        vj = T.axis.spatial(4, j)\n",
        "        C[vi, vj] = A[vi, vj] + B[vi, vj]"
      ],
      "metadata": {
        "id": "lsaaP81AX8jO"
      },
      "execution_count": 18,
      "outputs": []
    },
    {
      "cell_type": "code",
      "source": [
        "sch = tvm.tir.Schedule(MyAdd)\n",
        "block = sch.get_block(\"C\", func_name=\"add\")\n",
        "i, j = sch.get_loops(block)\n",
        "i0, i1 = sch.split(i, factors=[2, 2])\n",
        "sch.parallel(i0)\n",
        "sch.unroll(i1)\n",
        "sch.vectorize(j)\n",
        "IPython.display.HTML(code2html(sch.mod.script()))"
      ],
      "metadata": {
        "colab": {
          "base_uri": "https://localhost:8080/",
          "height": 349
        },
        "id": "3Ng7bFIBX_5x",
        "outputId": "70b3048c-25d2-41dc-80b2-adae8079cab0"
      },
      "execution_count": 19,
      "outputs": [
        {
          "output_type": "execute_result",
          "data": {
            "text/plain": [
              "<IPython.core.display.HTML object>"
            ],
            "text/html": [
              "<style>.highlight .hll { background-color: #ffffcc }\n",
              ".highlight  { background: #f8f8f8; }\n",
              ".highlight .c { color: #408080; font-style: italic } /* Comment */\n",
              ".highlight .err { border: 1px solid #FF0000 } /* Error */\n",
              ".highlight .k { color: #008000; font-weight: bold } /* Keyword */\n",
              ".highlight .o { color: #666666 } /* Operator */\n",
              ".highlight .ch { color: #408080; font-style: italic } /* Comment.Hashbang */\n",
              ".highlight .cm { color: #408080; font-style: italic } /* Comment.Multiline */\n",
              ".highlight .cp { color: #BC7A00 } /* Comment.Preproc */\n",
              ".highlight .cpf { color: #408080; font-style: italic } /* Comment.PreprocFile */\n",
              ".highlight .c1 { color: #408080; font-style: italic } /* Comment.Single */\n",
              ".highlight .cs { color: #408080; font-style: italic } /* Comment.Special */\n",
              ".highlight .gd { color: #A00000 } /* Generic.Deleted */\n",
              ".highlight .ge { font-style: italic } /* Generic.Emph */\n",
              ".highlight .gr { color: #FF0000 } /* Generic.Error */\n",
              ".highlight .gh { color: #000080; font-weight: bold } /* Generic.Heading */\n",
              ".highlight .gi { color: #00A000 } /* Generic.Inserted */\n",
              ".highlight .go { color: #888888 } /* Generic.Output */\n",
              ".highlight .gp { color: #000080; font-weight: bold } /* Generic.Prompt */\n",
              ".highlight .gs { font-weight: bold } /* Generic.Strong */\n",
              ".highlight .gu { color: #800080; font-weight: bold } /* Generic.Subheading */\n",
              ".highlight .gt { color: #0044DD } /* Generic.Traceback */\n",
              ".highlight .kc { color: #008000; font-weight: bold } /* Keyword.Constant */\n",
              ".highlight .kd { color: #008000; font-weight: bold } /* Keyword.Declaration */\n",
              ".highlight .kn { color: #008000; font-weight: bold } /* Keyword.Namespace */\n",
              ".highlight .kp { color: #008000 } /* Keyword.Pseudo */\n",
              ".highlight .kr { color: #008000; font-weight: bold } /* Keyword.Reserved */\n",
              ".highlight .kt { color: #B00040 } /* Keyword.Type */\n",
              ".highlight .m { color: #666666 } /* Literal.Number */\n",
              ".highlight .s { color: #BA2121 } /* Literal.String */\n",
              ".highlight .na { color: #7D9029 } /* Name.Attribute */\n",
              ".highlight .nb { color: #008000 } /* Name.Builtin */\n",
              ".highlight .nc { color: #0000FF; font-weight: bold } /* Name.Class */\n",
              ".highlight .no { color: #880000 } /* Name.Constant */\n",
              ".highlight .nd { color: #AA22FF } /* Name.Decorator */\n",
              ".highlight .ni { color: #999999; font-weight: bold } /* Name.Entity */\n",
              ".highlight .ne { color: #D2413A; font-weight: bold } /* Name.Exception */\n",
              ".highlight .nf { color: #0000FF } /* Name.Function */\n",
              ".highlight .nl { color: #A0A000 } /* Name.Label */\n",
              ".highlight .nn { color: #0000FF; font-weight: bold } /* Name.Namespace */\n",
              ".highlight .nt { color: #008000; font-weight: bold } /* Name.Tag */\n",
              ".highlight .nv { color: #19177C } /* Name.Variable */\n",
              ".highlight .ow { color: #AA22FF; font-weight: bold } /* Operator.Word */\n",
              ".highlight .w { color: #bbbbbb } /* Text.Whitespace */\n",
              ".highlight .mb { color: #666666 } /* Literal.Number.Bin */\n",
              ".highlight .mf { color: #666666 } /* Literal.Number.Float */\n",
              ".highlight .mh { color: #666666 } /* Literal.Number.Hex */\n",
              ".highlight .mi { color: #666666 } /* Literal.Number.Integer */\n",
              ".highlight .mo { color: #666666 } /* Literal.Number.Oct */\n",
              ".highlight .sa { color: #BA2121 } /* Literal.String.Affix */\n",
              ".highlight .sb { color: #BA2121 } /* Literal.String.Backtick */\n",
              ".highlight .sc { color: #BA2121 } /* Literal.String.Char */\n",
              ".highlight .dl { color: #BA2121 } /* Literal.String.Delimiter */\n",
              ".highlight .sd { color: #BA2121; font-style: italic } /* Literal.String.Doc */\n",
              ".highlight .s2 { color: #BA2121 } /* Literal.String.Double */\n",
              ".highlight .se { color: #BB6622; font-weight: bold } /* Literal.String.Escape */\n",
              ".highlight .sh { color: #BA2121 } /* Literal.String.Heredoc */\n",
              ".highlight .si { color: #BB6688; font-weight: bold } /* Literal.String.Interpol */\n",
              ".highlight .sx { color: #008000 } /* Literal.String.Other */\n",
              ".highlight .sr { color: #BB6688 } /* Literal.String.Regex */\n",
              ".highlight .s1 { color: #BA2121 } /* Literal.String.Single */\n",
              ".highlight .ss { color: #19177C } /* Literal.String.Symbol */\n",
              ".highlight .bp { color: #008000 } /* Name.Builtin.Pseudo */\n",
              ".highlight .fm { color: #0000FF } /* Name.Function.Magic */\n",
              ".highlight .vc { color: #19177C } /* Name.Variable.Class */\n",
              ".highlight .vg { color: #19177C } /* Name.Variable.Global */\n",
              ".highlight .vi { color: #19177C } /* Name.Variable.Instance */\n",
              ".highlight .vm { color: #19177C } /* Name.Variable.Magic */\n",
              ".highlight .il { color: #666666 } /* Literal.Number.Integer.Long */</style><div class=\"highlight\"><pre><span></span><span class=\"nd\">@tvm</span><span class=\"o\">.</span><span class=\"n\">script</span><span class=\"o\">.</span><span class=\"n\">ir_module</span>\n",
              "<span class=\"k\">class</span> <span class=\"nc\">Module</span><span class=\"p\">:</span>\n",
              "    <span class=\"nd\">@T</span><span class=\"o\">.</span><span class=\"n\">prim_func</span>\n",
              "    <span class=\"k\">def</span> <span class=\"nf\">add</span><span class=\"p\">(</span><span class=\"n\">A</span><span class=\"p\">:</span> <span class=\"n\">T</span><span class=\"o\">.</span><span class=\"n\">Buffer</span><span class=\"p\">[(</span><span class=\"mi\">4</span><span class=\"p\">,</span> <span class=\"mi\">4</span><span class=\"p\">),</span> <span class=\"s2\">&quot;int64&quot;</span><span class=\"p\">],</span> <span class=\"n\">B</span><span class=\"p\">:</span> <span class=\"n\">T</span><span class=\"o\">.</span><span class=\"n\">Buffer</span><span class=\"p\">[(</span><span class=\"mi\">4</span><span class=\"p\">,</span> <span class=\"mi\">4</span><span class=\"p\">),</span> <span class=\"s2\">&quot;int64&quot;</span><span class=\"p\">],</span> <span class=\"n\">C</span><span class=\"p\">:</span> <span class=\"n\">T</span><span class=\"o\">.</span><span class=\"n\">Buffer</span><span class=\"p\">[(</span><span class=\"mi\">4</span><span class=\"p\">,</span> <span class=\"mi\">4</span><span class=\"p\">),</span> <span class=\"s2\">&quot;int64&quot;</span><span class=\"p\">])</span> <span class=\"o\">-&gt;</span> <span class=\"kc\">None</span><span class=\"p\">:</span>\n",
              "        <span class=\"c1\"># function attr dict</span>\n",
              "        <span class=\"n\">T</span><span class=\"o\">.</span><span class=\"n\">func_attr</span><span class=\"p\">({</span><span class=\"s2\">&quot;global_symbol&quot;</span><span class=\"p\">:</span> <span class=\"s2\">&quot;add&quot;</span><span class=\"p\">})</span>\n",
              "        <span class=\"c1\"># body</span>\n",
              "        <span class=\"c1\"># with T.block(&quot;root&quot;)</span>\n",
              "        <span class=\"k\">for</span> <span class=\"n\">i_0</span> <span class=\"ow\">in</span> <span class=\"n\">T</span><span class=\"o\">.</span><span class=\"n\">parallel</span><span class=\"p\">(</span><span class=\"mi\">2</span><span class=\"p\">):</span>\n",
              "            <span class=\"k\">for</span> <span class=\"n\">i_1</span> <span class=\"ow\">in</span> <span class=\"n\">T</span><span class=\"o\">.</span><span class=\"n\">unroll</span><span class=\"p\">(</span><span class=\"mi\">2</span><span class=\"p\">):</span>\n",
              "                <span class=\"k\">for</span> <span class=\"n\">j</span> <span class=\"ow\">in</span> <span class=\"n\">T</span><span class=\"o\">.</span><span class=\"n\">vectorized</span><span class=\"p\">(</span><span class=\"mi\">4</span><span class=\"p\">):</span>\n",
              "                    <span class=\"k\">with</span> <span class=\"n\">T</span><span class=\"o\">.</span><span class=\"n\">block</span><span class=\"p\">(</span><span class=\"s2\">&quot;C&quot;</span><span class=\"p\">):</span>\n",
              "                        <span class=\"n\">vi</span> <span class=\"o\">=</span> <span class=\"n\">T</span><span class=\"o\">.</span><span class=\"n\">axis</span><span class=\"o\">.</span><span class=\"n\">spatial</span><span class=\"p\">(</span><span class=\"mi\">4</span><span class=\"p\">,</span> <span class=\"n\">i_0</span> <span class=\"o\">*</span> <span class=\"mi\">2</span> <span class=\"o\">+</span> <span class=\"n\">i_1</span><span class=\"p\">)</span>\n",
              "                        <span class=\"n\">vj</span> <span class=\"o\">=</span> <span class=\"n\">T</span><span class=\"o\">.</span><span class=\"n\">axis</span><span class=\"o\">.</span><span class=\"n\">spatial</span><span class=\"p\">(</span><span class=\"mi\">4</span><span class=\"p\">,</span> <span class=\"n\">j</span><span class=\"p\">)</span>\n",
              "                        <span class=\"n\">T</span><span class=\"o\">.</span><span class=\"n\">reads</span><span class=\"p\">(</span><span class=\"n\">A</span><span class=\"p\">[</span><span class=\"n\">vi</span><span class=\"p\">,</span> <span class=\"n\">vj</span><span class=\"p\">],</span> <span class=\"n\">B</span><span class=\"p\">[</span><span class=\"n\">vi</span><span class=\"p\">,</span> <span class=\"n\">vj</span><span class=\"p\">])</span>\n",
              "                        <span class=\"n\">T</span><span class=\"o\">.</span><span class=\"n\">writes</span><span class=\"p\">(</span><span class=\"n\">C</span><span class=\"p\">[</span><span class=\"n\">vi</span><span class=\"p\">,</span> <span class=\"n\">vj</span><span class=\"p\">])</span>\n",
              "                        <span class=\"n\">C</span><span class=\"p\">[</span><span class=\"n\">vi</span><span class=\"p\">,</span> <span class=\"n\">vj</span><span class=\"p\">]</span> <span class=\"o\">=</span> <span class=\"n\">A</span><span class=\"p\">[</span><span class=\"n\">vi</span><span class=\"p\">,</span> <span class=\"n\">vj</span><span class=\"p\">]</span> <span class=\"o\">+</span> <span class=\"n\">B</span><span class=\"p\">[</span><span class=\"n\">vi</span><span class=\"p\">,</span> <span class=\"n\">vj</span><span class=\"p\">]</span>\n",
              "    \n",
              "</pre></div>\n",
              "\n"
            ]
          },
          "metadata": {},
          "execution_count": 19
        }
      ]
    },
    {
      "cell_type": "code",
      "source": [
        "# 2.2 transform matmul\n",
        "def lnumpy_mm_relu_v2(A: np.ndarray, B: np.ndarray, C: np.ndarray):\n",
        "  Y = np.empty((16, 128, 128), dtype=\"float32\")\n",
        "  for n in range(16):\n",
        "    for i in range(128):\n",
        "      for j in range(128):\n",
        "        for k in range(128):\n",
        "          if k == 0:\n",
        "              Y[n, i, j] = 0\n",
        "          Y[n, i, j] = Y[n, i, j] + A[n, i, k] * B[n, k, j]\n",
        "  \n",
        "  for n in range(16):\n",
        "    for i in range(128):\n",
        "      for j in range(128):\n",
        "        C[n, i, j] = max(Y[n, i, j], 0)"
      ],
      "metadata": {
        "id": "GIq7-TYUYBuu"
      },
      "execution_count": 20,
      "outputs": []
    },
    {
      "cell_type": "code",
      "source": [
        "@tvm.script.ir_module\n",
        "class MyBmmRelu:\n",
        "  @T.prim_func\n",
        "  def bmm_relu(A: T.Buffer[(16, 128, 128), \"float32\"],\n",
        "               B: T.Buffer[(16, 128, 128), \"float32\"],\n",
        "               C: T.Buffer[(16, 128, 128), \"float32\"]):\n",
        "    T.func_attr({\"global_symbol\": \"bmm_relu\", \"tir.noalias\": True})\n",
        "    Y = T.alloc_buffer((16, 128, 128), dtype=\"float32\")\n",
        "    # for n, i, j, k in T.grid(16, 128, 128, 128):\n",
        "    for i0, i1, i2, i3 in T.grid(16, 128, 128, 128):\n",
        "      with T.block(\"Y\"):\n",
        "        # vn, vi, vj, vk = T.axis.remap(\"SSSR\", [n, i, j, k])\n",
        "        n, i, j, k = T.axis.remap(\"SSSR\", [i0, i1, i2, i3])\n",
        "        with T.init():\n",
        "          Y[n, i, j] = T.float32(0)\n",
        "        Y[n, i, j] += A[n, i, k] * B[n, k, j]\n",
        "\n",
        "    for i0, i1, i2 in T.grid(16, 128, 128):\n",
        "      with T.block(\"C\"):\n",
        "        n, i, j = T.axis.remap(\"SSS\", [i0, i1, i2])\n",
        "        C[n, i, j] = T.max(Y[n, i, j], T.float32(0))"
      ],
      "metadata": {
        "id": "cy8AAQJCYDrX"
      },
      "execution_count": 21,
      "outputs": []
    },
    {
      "cell_type": "code",
      "source": [
        "sch = tvm.tir.Schedule(MyBmmRelu)\n",
        "IPython.display.HTML(code2html(sch.mod.script()))"
      ],
      "metadata": {
        "colab": {
          "base_uri": "https://localhost:8080/",
          "height": 454
        },
        "id": "ZVwO3d3wYder",
        "outputId": "8ea1276a-0a52-435f-e1f9-7de75f38ee31"
      },
      "execution_count": 22,
      "outputs": [
        {
          "output_type": "execute_result",
          "data": {
            "text/plain": [
              "<IPython.core.display.HTML object>"
            ],
            "text/html": [
              "<style>.highlight .hll { background-color: #ffffcc }\n",
              ".highlight  { background: #f8f8f8; }\n",
              ".highlight .c { color: #408080; font-style: italic } /* Comment */\n",
              ".highlight .err { border: 1px solid #FF0000 } /* Error */\n",
              ".highlight .k { color: #008000; font-weight: bold } /* Keyword */\n",
              ".highlight .o { color: #666666 } /* Operator */\n",
              ".highlight .ch { color: #408080; font-style: italic } /* Comment.Hashbang */\n",
              ".highlight .cm { color: #408080; font-style: italic } /* Comment.Multiline */\n",
              ".highlight .cp { color: #BC7A00 } /* Comment.Preproc */\n",
              ".highlight .cpf { color: #408080; font-style: italic } /* Comment.PreprocFile */\n",
              ".highlight .c1 { color: #408080; font-style: italic } /* Comment.Single */\n",
              ".highlight .cs { color: #408080; font-style: italic } /* Comment.Special */\n",
              ".highlight .gd { color: #A00000 } /* Generic.Deleted */\n",
              ".highlight .ge { font-style: italic } /* Generic.Emph */\n",
              ".highlight .gr { color: #FF0000 } /* Generic.Error */\n",
              ".highlight .gh { color: #000080; font-weight: bold } /* Generic.Heading */\n",
              ".highlight .gi { color: #00A000 } /* Generic.Inserted */\n",
              ".highlight .go { color: #888888 } /* Generic.Output */\n",
              ".highlight .gp { color: #000080; font-weight: bold } /* Generic.Prompt */\n",
              ".highlight .gs { font-weight: bold } /* Generic.Strong */\n",
              ".highlight .gu { color: #800080; font-weight: bold } /* Generic.Subheading */\n",
              ".highlight .gt { color: #0044DD } /* Generic.Traceback */\n",
              ".highlight .kc { color: #008000; font-weight: bold } /* Keyword.Constant */\n",
              ".highlight .kd { color: #008000; font-weight: bold } /* Keyword.Declaration */\n",
              ".highlight .kn { color: #008000; font-weight: bold } /* Keyword.Namespace */\n",
              ".highlight .kp { color: #008000 } /* Keyword.Pseudo */\n",
              ".highlight .kr { color: #008000; font-weight: bold } /* Keyword.Reserved */\n",
              ".highlight .kt { color: #B00040 } /* Keyword.Type */\n",
              ".highlight .m { color: #666666 } /* Literal.Number */\n",
              ".highlight .s { color: #BA2121 } /* Literal.String */\n",
              ".highlight .na { color: #7D9029 } /* Name.Attribute */\n",
              ".highlight .nb { color: #008000 } /* Name.Builtin */\n",
              ".highlight .nc { color: #0000FF; font-weight: bold } /* Name.Class */\n",
              ".highlight .no { color: #880000 } /* Name.Constant */\n",
              ".highlight .nd { color: #AA22FF } /* Name.Decorator */\n",
              ".highlight .ni { color: #999999; font-weight: bold } /* Name.Entity */\n",
              ".highlight .ne { color: #D2413A; font-weight: bold } /* Name.Exception */\n",
              ".highlight .nf { color: #0000FF } /* Name.Function */\n",
              ".highlight .nl { color: #A0A000 } /* Name.Label */\n",
              ".highlight .nn { color: #0000FF; font-weight: bold } /* Name.Namespace */\n",
              ".highlight .nt { color: #008000; font-weight: bold } /* Name.Tag */\n",
              ".highlight .nv { color: #19177C } /* Name.Variable */\n",
              ".highlight .ow { color: #AA22FF; font-weight: bold } /* Operator.Word */\n",
              ".highlight .w { color: #bbbbbb } /* Text.Whitespace */\n",
              ".highlight .mb { color: #666666 } /* Literal.Number.Bin */\n",
              ".highlight .mf { color: #666666 } /* Literal.Number.Float */\n",
              ".highlight .mh { color: #666666 } /* Literal.Number.Hex */\n",
              ".highlight .mi { color: #666666 } /* Literal.Number.Integer */\n",
              ".highlight .mo { color: #666666 } /* Literal.Number.Oct */\n",
              ".highlight .sa { color: #BA2121 } /* Literal.String.Affix */\n",
              ".highlight .sb { color: #BA2121 } /* Literal.String.Backtick */\n",
              ".highlight .sc { color: #BA2121 } /* Literal.String.Char */\n",
              ".highlight .dl { color: #BA2121 } /* Literal.String.Delimiter */\n",
              ".highlight .sd { color: #BA2121; font-style: italic } /* Literal.String.Doc */\n",
              ".highlight .s2 { color: #BA2121 } /* Literal.String.Double */\n",
              ".highlight .se { color: #BB6622; font-weight: bold } /* Literal.String.Escape */\n",
              ".highlight .sh { color: #BA2121 } /* Literal.String.Heredoc */\n",
              ".highlight .si { color: #BB6688; font-weight: bold } /* Literal.String.Interpol */\n",
              ".highlight .sx { color: #008000 } /* Literal.String.Other */\n",
              ".highlight .sr { color: #BB6688 } /* Literal.String.Regex */\n",
              ".highlight .s1 { color: #BA2121 } /* Literal.String.Single */\n",
              ".highlight .ss { color: #19177C } /* Literal.String.Symbol */\n",
              ".highlight .bp { color: #008000 } /* Name.Builtin.Pseudo */\n",
              ".highlight .fm { color: #0000FF } /* Name.Function.Magic */\n",
              ".highlight .vc { color: #19177C } /* Name.Variable.Class */\n",
              ".highlight .vg { color: #19177C } /* Name.Variable.Global */\n",
              ".highlight .vi { color: #19177C } /* Name.Variable.Instance */\n",
              ".highlight .vm { color: #19177C } /* Name.Variable.Magic */\n",
              ".highlight .il { color: #666666 } /* Literal.Number.Integer.Long */</style><div class=\"highlight\"><pre><span></span><span class=\"nd\">@tvm</span><span class=\"o\">.</span><span class=\"n\">script</span><span class=\"o\">.</span><span class=\"n\">ir_module</span>\n",
              "<span class=\"k\">class</span> <span class=\"nc\">Module</span><span class=\"p\">:</span>\n",
              "    <span class=\"nd\">@T</span><span class=\"o\">.</span><span class=\"n\">prim_func</span>\n",
              "    <span class=\"k\">def</span> <span class=\"nf\">bmm_relu</span><span class=\"p\">(</span><span class=\"n\">A</span><span class=\"p\">:</span> <span class=\"n\">T</span><span class=\"o\">.</span><span class=\"n\">Buffer</span><span class=\"p\">[(</span><span class=\"mi\">16</span><span class=\"p\">,</span> <span class=\"mi\">128</span><span class=\"p\">,</span> <span class=\"mi\">128</span><span class=\"p\">),</span> <span class=\"s2\">&quot;float32&quot;</span><span class=\"p\">],</span> <span class=\"n\">B</span><span class=\"p\">:</span> <span class=\"n\">T</span><span class=\"o\">.</span><span class=\"n\">Buffer</span><span class=\"p\">[(</span><span class=\"mi\">16</span><span class=\"p\">,</span> <span class=\"mi\">128</span><span class=\"p\">,</span> <span class=\"mi\">128</span><span class=\"p\">),</span> <span class=\"s2\">&quot;float32&quot;</span><span class=\"p\">],</span> <span class=\"n\">C</span><span class=\"p\">:</span> <span class=\"n\">T</span><span class=\"o\">.</span><span class=\"n\">Buffer</span><span class=\"p\">[(</span><span class=\"mi\">16</span><span class=\"p\">,</span> <span class=\"mi\">128</span><span class=\"p\">,</span> <span class=\"mi\">128</span><span class=\"p\">),</span> <span class=\"s2\">&quot;float32&quot;</span><span class=\"p\">])</span> <span class=\"o\">-&gt;</span> <span class=\"kc\">None</span><span class=\"p\">:</span>\n",
              "        <span class=\"c1\"># function attr dict</span>\n",
              "        <span class=\"n\">T</span><span class=\"o\">.</span><span class=\"n\">func_attr</span><span class=\"p\">({</span><span class=\"s2\">&quot;global_symbol&quot;</span><span class=\"p\">:</span> <span class=\"s2\">&quot;bmm_relu&quot;</span><span class=\"p\">,</span> <span class=\"s2\">&quot;tir.noalias&quot;</span><span class=\"p\">:</span> <span class=\"kc\">True</span><span class=\"p\">})</span>\n",
              "        <span class=\"c1\"># body</span>\n",
              "        <span class=\"c1\"># with T.block(&quot;root&quot;)</span>\n",
              "        <span class=\"n\">Y</span> <span class=\"o\">=</span> <span class=\"n\">T</span><span class=\"o\">.</span><span class=\"n\">alloc_buffer</span><span class=\"p\">([</span><span class=\"mi\">16</span><span class=\"p\">,</span> <span class=\"mi\">128</span><span class=\"p\">,</span> <span class=\"mi\">128</span><span class=\"p\">],</span> <span class=\"n\">dtype</span><span class=\"o\">=</span><span class=\"s2\">&quot;float32&quot;</span><span class=\"p\">)</span>\n",
              "        <span class=\"k\">for</span> <span class=\"n\">i0</span><span class=\"p\">,</span> <span class=\"n\">i1</span><span class=\"p\">,</span> <span class=\"n\">i2</span><span class=\"p\">,</span> <span class=\"n\">i3</span> <span class=\"ow\">in</span> <span class=\"n\">T</span><span class=\"o\">.</span><span class=\"n\">grid</span><span class=\"p\">(</span><span class=\"mi\">16</span><span class=\"p\">,</span> <span class=\"mi\">128</span><span class=\"p\">,</span> <span class=\"mi\">128</span><span class=\"p\">,</span> <span class=\"mi\">128</span><span class=\"p\">):</span>\n",
              "            <span class=\"k\">with</span> <span class=\"n\">T</span><span class=\"o\">.</span><span class=\"n\">block</span><span class=\"p\">(</span><span class=\"s2\">&quot;Y&quot;</span><span class=\"p\">):</span>\n",
              "                <span class=\"n\">n</span><span class=\"p\">,</span> <span class=\"n\">i</span><span class=\"p\">,</span> <span class=\"n\">j</span><span class=\"p\">,</span> <span class=\"n\">k</span> <span class=\"o\">=</span> <span class=\"n\">T</span><span class=\"o\">.</span><span class=\"n\">axis</span><span class=\"o\">.</span><span class=\"n\">remap</span><span class=\"p\">(</span><span class=\"s2\">&quot;SSSR&quot;</span><span class=\"p\">,</span> <span class=\"p\">[</span><span class=\"n\">i0</span><span class=\"p\">,</span> <span class=\"n\">i1</span><span class=\"p\">,</span> <span class=\"n\">i2</span><span class=\"p\">,</span> <span class=\"n\">i3</span><span class=\"p\">])</span>\n",
              "                <span class=\"n\">T</span><span class=\"o\">.</span><span class=\"n\">reads</span><span class=\"p\">(</span><span class=\"n\">A</span><span class=\"p\">[</span><span class=\"n\">n</span><span class=\"p\">,</span> <span class=\"n\">i</span><span class=\"p\">,</span> <span class=\"n\">k</span><span class=\"p\">],</span> <span class=\"n\">B</span><span class=\"p\">[</span><span class=\"n\">n</span><span class=\"p\">,</span> <span class=\"n\">k</span><span class=\"p\">,</span> <span class=\"n\">j</span><span class=\"p\">])</span>\n",
              "                <span class=\"n\">T</span><span class=\"o\">.</span><span class=\"n\">writes</span><span class=\"p\">(</span><span class=\"n\">Y</span><span class=\"p\">[</span><span class=\"n\">n</span><span class=\"p\">,</span> <span class=\"n\">i</span><span class=\"p\">,</span> <span class=\"n\">j</span><span class=\"p\">])</span>\n",
              "                <span class=\"k\">with</span> <span class=\"n\">T</span><span class=\"o\">.</span><span class=\"n\">init</span><span class=\"p\">():</span>\n",
              "                    <span class=\"n\">Y</span><span class=\"p\">[</span><span class=\"n\">n</span><span class=\"p\">,</span> <span class=\"n\">i</span><span class=\"p\">,</span> <span class=\"n\">j</span><span class=\"p\">]</span> <span class=\"o\">=</span> <span class=\"n\">T</span><span class=\"o\">.</span><span class=\"n\">float32</span><span class=\"p\">(</span><span class=\"mi\">0</span><span class=\"p\">)</span>\n",
              "                <span class=\"n\">Y</span><span class=\"p\">[</span><span class=\"n\">n</span><span class=\"p\">,</span> <span class=\"n\">i</span><span class=\"p\">,</span> <span class=\"n\">j</span><span class=\"p\">]</span> <span class=\"o\">=</span> <span class=\"n\">Y</span><span class=\"p\">[</span><span class=\"n\">n</span><span class=\"p\">,</span> <span class=\"n\">i</span><span class=\"p\">,</span> <span class=\"n\">j</span><span class=\"p\">]</span> <span class=\"o\">+</span> <span class=\"n\">A</span><span class=\"p\">[</span><span class=\"n\">n</span><span class=\"p\">,</span> <span class=\"n\">i</span><span class=\"p\">,</span> <span class=\"n\">k</span><span class=\"p\">]</span> <span class=\"o\">*</span> <span class=\"n\">B</span><span class=\"p\">[</span><span class=\"n\">n</span><span class=\"p\">,</span> <span class=\"n\">k</span><span class=\"p\">,</span> <span class=\"n\">j</span><span class=\"p\">]</span>\n",
              "        <span class=\"k\">for</span> <span class=\"n\">i0</span><span class=\"p\">,</span> <span class=\"n\">i1</span><span class=\"p\">,</span> <span class=\"n\">i2</span> <span class=\"ow\">in</span> <span class=\"n\">T</span><span class=\"o\">.</span><span class=\"n\">grid</span><span class=\"p\">(</span><span class=\"mi\">16</span><span class=\"p\">,</span> <span class=\"mi\">128</span><span class=\"p\">,</span> <span class=\"mi\">128</span><span class=\"p\">):</span>\n",
              "            <span class=\"k\">with</span> <span class=\"n\">T</span><span class=\"o\">.</span><span class=\"n\">block</span><span class=\"p\">(</span><span class=\"s2\">&quot;C&quot;</span><span class=\"p\">):</span>\n",
              "                <span class=\"n\">n</span><span class=\"p\">,</span> <span class=\"n\">i</span><span class=\"p\">,</span> <span class=\"n\">j</span> <span class=\"o\">=</span> <span class=\"n\">T</span><span class=\"o\">.</span><span class=\"n\">axis</span><span class=\"o\">.</span><span class=\"n\">remap</span><span class=\"p\">(</span><span class=\"s2\">&quot;SSS&quot;</span><span class=\"p\">,</span> <span class=\"p\">[</span><span class=\"n\">i0</span><span class=\"p\">,</span> <span class=\"n\">i1</span><span class=\"p\">,</span> <span class=\"n\">i2</span><span class=\"p\">])</span>\n",
              "                <span class=\"n\">T</span><span class=\"o\">.</span><span class=\"n\">reads</span><span class=\"p\">(</span><span class=\"n\">Y</span><span class=\"p\">[</span><span class=\"n\">n</span><span class=\"p\">,</span> <span class=\"n\">i</span><span class=\"p\">,</span> <span class=\"n\">j</span><span class=\"p\">])</span>\n",
              "                <span class=\"n\">T</span><span class=\"o\">.</span><span class=\"n\">writes</span><span class=\"p\">(</span><span class=\"n\">C</span><span class=\"p\">[</span><span class=\"n\">n</span><span class=\"p\">,</span> <span class=\"n\">i</span><span class=\"p\">,</span> <span class=\"n\">j</span><span class=\"p\">])</span>\n",
              "                <span class=\"n\">C</span><span class=\"p\">[</span><span class=\"n\">n</span><span class=\"p\">,</span> <span class=\"n\">i</span><span class=\"p\">,</span> <span class=\"n\">j</span><span class=\"p\">]</span> <span class=\"o\">=</span> <span class=\"n\">T</span><span class=\"o\">.</span><span class=\"n\">max</span><span class=\"p\">(</span><span class=\"n\">Y</span><span class=\"p\">[</span><span class=\"n\">n</span><span class=\"p\">,</span> <span class=\"n\">i</span><span class=\"p\">,</span> <span class=\"n\">j</span><span class=\"p\">],</span> <span class=\"n\">T</span><span class=\"o\">.</span><span class=\"n\">float32</span><span class=\"p\">(</span><span class=\"mi\">0</span><span class=\"p\">))</span>\n",
              "    \n",
              "</pre></div>\n",
              "\n"
            ]
          },
          "metadata": {},
          "execution_count": 22
        }
      ]
    },
    {
      "cell_type": "code",
      "source": [
        "# target tensorIR\n",
        "@tvm.script.ir_module\n",
        "class TargetModule:\n",
        "    @T.prim_func\n",
        "    def bmm_relu(A: T.Buffer[(16, 128, 128), \"float32\"], B: T.Buffer[(16, 128, 128), \"float32\"], C: T.Buffer[(16, 128, 128), \"float32\"]) -> None:\n",
        "        T.func_attr({\"global_symbol\": \"bmm_relu\", \"tir.noalias\": True})\n",
        "        Y = T.alloc_buffer([16, 128, 128], dtype=\"float32\")\n",
        "        for i0 in T.parallel(16):\n",
        "            for i1, i2_0 in T.grid(128, 16):\n",
        "                for ax0_init in T.vectorized(8):\n",
        "                    with T.block(\"Y_init\"):\n",
        "                        n, i = T.axis.remap(\"SS\", [i0, i1])\n",
        "                        j = T.axis.spatial(128, i2_0 * 8 + ax0_init)\n",
        "                        Y[n, i, j] = T.float32(0)\n",
        "                for ax1_0 in T.serial(32):\n",
        "                    for ax1_1 in T.unroll(4):\n",
        "                        for ax0 in T.serial(8):\n",
        "                            with T.block(\"Y_update\"):\n",
        "                                n, i = T.axis.remap(\"SS\", [i0, i1])\n",
        "                                j = T.axis.spatial(128, i2_0 * 8 + ax0)\n",
        "                                k = T.axis.reduce(128, ax1_0 * 4 + ax1_1)\n",
        "                                Y[n, i, j] = Y[n, i, j] + A[n, i, k] * B[n, k, j]\n",
        "                for i2_1 in T.vectorized(8):\n",
        "                    with T.block(\"C\"):\n",
        "                        n, i = T.axis.remap(\"SS\", [i0, i1])\n",
        "                        j = T.axis.spatial(128, i2_0 * 8 + i2_1)\n",
        "                        C[n, i, j] = T.max(Y[n, i, j], T.float32(0))"
      ],
      "metadata": {
        "id": "LoaVTKuoYju1"
      },
      "execution_count": 23,
      "outputs": []
    },
    {
      "cell_type": "code",
      "source": [
        "sch = tvm.tir.Schedule(MyBmmRelu)\n",
        "# TODO: transformations\n",
        "# Hints: you can use\n",
        "# `IPython.display.Code(sch.mod.script(), language=\"python\")`\n",
        "# or `print(sch.mod.script())`\n",
        "# to show the current program at any time during the transformation.\n",
        "\n",
        "# Step 1. Get blocks\n",
        "Y = sch.get_block(\"Y\", func_name=\"bmm_relu\")\n",
        "\n",
        "# Step 2. Get loops\n",
        "b, i, j, k = sch.get_loops(Y)"
      ],
      "metadata": {
        "id": "Qv01uQ86Yslx"
      },
      "execution_count": 24,
      "outputs": []
    },
    {
      "cell_type": "code",
      "source": [
        "# Step 3. Organize the loops\n",
        "k0, k1 = sch.split(k, [32, 4])\n",
        "j0, j1 = sch.split(j, [16, 8])\n",
        "sch.reorder(j0, k0, k1, j1)\n",
        "IPython.display.HTML(code2html(sch.mod.script()))"
      ],
      "metadata": {
        "colab": {
          "base_uri": "https://localhost:8080/",
          "height": 488
        },
        "id": "nU51g_hXY4qG",
        "outputId": "e5ca8f76-5552-4011-cbf1-6573414f318e"
      },
      "execution_count": 25,
      "outputs": [
        {
          "output_type": "execute_result",
          "data": {
            "text/plain": [
              "<IPython.core.display.HTML object>"
            ],
            "text/html": [
              "<style>.highlight .hll { background-color: #ffffcc }\n",
              ".highlight  { background: #f8f8f8; }\n",
              ".highlight .c { color: #408080; font-style: italic } /* Comment */\n",
              ".highlight .err { border: 1px solid #FF0000 } /* Error */\n",
              ".highlight .k { color: #008000; font-weight: bold } /* Keyword */\n",
              ".highlight .o { color: #666666 } /* Operator */\n",
              ".highlight .ch { color: #408080; font-style: italic } /* Comment.Hashbang */\n",
              ".highlight .cm { color: #408080; font-style: italic } /* Comment.Multiline */\n",
              ".highlight .cp { color: #BC7A00 } /* Comment.Preproc */\n",
              ".highlight .cpf { color: #408080; font-style: italic } /* Comment.PreprocFile */\n",
              ".highlight .c1 { color: #408080; font-style: italic } /* Comment.Single */\n",
              ".highlight .cs { color: #408080; font-style: italic } /* Comment.Special */\n",
              ".highlight .gd { color: #A00000 } /* Generic.Deleted */\n",
              ".highlight .ge { font-style: italic } /* Generic.Emph */\n",
              ".highlight .gr { color: #FF0000 } /* Generic.Error */\n",
              ".highlight .gh { color: #000080; font-weight: bold } /* Generic.Heading */\n",
              ".highlight .gi { color: #00A000 } /* Generic.Inserted */\n",
              ".highlight .go { color: #888888 } /* Generic.Output */\n",
              ".highlight .gp { color: #000080; font-weight: bold } /* Generic.Prompt */\n",
              ".highlight .gs { font-weight: bold } /* Generic.Strong */\n",
              ".highlight .gu { color: #800080; font-weight: bold } /* Generic.Subheading */\n",
              ".highlight .gt { color: #0044DD } /* Generic.Traceback */\n",
              ".highlight .kc { color: #008000; font-weight: bold } /* Keyword.Constant */\n",
              ".highlight .kd { color: #008000; font-weight: bold } /* Keyword.Declaration */\n",
              ".highlight .kn { color: #008000; font-weight: bold } /* Keyword.Namespace */\n",
              ".highlight .kp { color: #008000 } /* Keyword.Pseudo */\n",
              ".highlight .kr { color: #008000; font-weight: bold } /* Keyword.Reserved */\n",
              ".highlight .kt { color: #B00040 } /* Keyword.Type */\n",
              ".highlight .m { color: #666666 } /* Literal.Number */\n",
              ".highlight .s { color: #BA2121 } /* Literal.String */\n",
              ".highlight .na { color: #7D9029 } /* Name.Attribute */\n",
              ".highlight .nb { color: #008000 } /* Name.Builtin */\n",
              ".highlight .nc { color: #0000FF; font-weight: bold } /* Name.Class */\n",
              ".highlight .no { color: #880000 } /* Name.Constant */\n",
              ".highlight .nd { color: #AA22FF } /* Name.Decorator */\n",
              ".highlight .ni { color: #999999; font-weight: bold } /* Name.Entity */\n",
              ".highlight .ne { color: #D2413A; font-weight: bold } /* Name.Exception */\n",
              ".highlight .nf { color: #0000FF } /* Name.Function */\n",
              ".highlight .nl { color: #A0A000 } /* Name.Label */\n",
              ".highlight .nn { color: #0000FF; font-weight: bold } /* Name.Namespace */\n",
              ".highlight .nt { color: #008000; font-weight: bold } /* Name.Tag */\n",
              ".highlight .nv { color: #19177C } /* Name.Variable */\n",
              ".highlight .ow { color: #AA22FF; font-weight: bold } /* Operator.Word */\n",
              ".highlight .w { color: #bbbbbb } /* Text.Whitespace */\n",
              ".highlight .mb { color: #666666 } /* Literal.Number.Bin */\n",
              ".highlight .mf { color: #666666 } /* Literal.Number.Float */\n",
              ".highlight .mh { color: #666666 } /* Literal.Number.Hex */\n",
              ".highlight .mi { color: #666666 } /* Literal.Number.Integer */\n",
              ".highlight .mo { color: #666666 } /* Literal.Number.Oct */\n",
              ".highlight .sa { color: #BA2121 } /* Literal.String.Affix */\n",
              ".highlight .sb { color: #BA2121 } /* Literal.String.Backtick */\n",
              ".highlight .sc { color: #BA2121 } /* Literal.String.Char */\n",
              ".highlight .dl { color: #BA2121 } /* Literal.String.Delimiter */\n",
              ".highlight .sd { color: #BA2121; font-style: italic } /* Literal.String.Doc */\n",
              ".highlight .s2 { color: #BA2121 } /* Literal.String.Double */\n",
              ".highlight .se { color: #BB6622; font-weight: bold } /* Literal.String.Escape */\n",
              ".highlight .sh { color: #BA2121 } /* Literal.String.Heredoc */\n",
              ".highlight .si { color: #BB6688; font-weight: bold } /* Literal.String.Interpol */\n",
              ".highlight .sx { color: #008000 } /* Literal.String.Other */\n",
              ".highlight .sr { color: #BB6688 } /* Literal.String.Regex */\n",
              ".highlight .s1 { color: #BA2121 } /* Literal.String.Single */\n",
              ".highlight .ss { color: #19177C } /* Literal.String.Symbol */\n",
              ".highlight .bp { color: #008000 } /* Name.Builtin.Pseudo */\n",
              ".highlight .fm { color: #0000FF } /* Name.Function.Magic */\n",
              ".highlight .vc { color: #19177C } /* Name.Variable.Class */\n",
              ".highlight .vg { color: #19177C } /* Name.Variable.Global */\n",
              ".highlight .vi { color: #19177C } /* Name.Variable.Instance */\n",
              ".highlight .vm { color: #19177C } /* Name.Variable.Magic */\n",
              ".highlight .il { color: #666666 } /* Literal.Number.Integer.Long */</style><div class=\"highlight\"><pre><span></span><span class=\"nd\">@tvm</span><span class=\"o\">.</span><span class=\"n\">script</span><span class=\"o\">.</span><span class=\"n\">ir_module</span>\n",
              "<span class=\"k\">class</span> <span class=\"nc\">Module</span><span class=\"p\">:</span>\n",
              "    <span class=\"nd\">@T</span><span class=\"o\">.</span><span class=\"n\">prim_func</span>\n",
              "    <span class=\"k\">def</span> <span class=\"nf\">bmm_relu</span><span class=\"p\">(</span><span class=\"n\">A</span><span class=\"p\">:</span> <span class=\"n\">T</span><span class=\"o\">.</span><span class=\"n\">Buffer</span><span class=\"p\">[(</span><span class=\"mi\">16</span><span class=\"p\">,</span> <span class=\"mi\">128</span><span class=\"p\">,</span> <span class=\"mi\">128</span><span class=\"p\">),</span> <span class=\"s2\">&quot;float32&quot;</span><span class=\"p\">],</span> <span class=\"n\">B</span><span class=\"p\">:</span> <span class=\"n\">T</span><span class=\"o\">.</span><span class=\"n\">Buffer</span><span class=\"p\">[(</span><span class=\"mi\">16</span><span class=\"p\">,</span> <span class=\"mi\">128</span><span class=\"p\">,</span> <span class=\"mi\">128</span><span class=\"p\">),</span> <span class=\"s2\">&quot;float32&quot;</span><span class=\"p\">],</span> <span class=\"n\">C</span><span class=\"p\">:</span> <span class=\"n\">T</span><span class=\"o\">.</span><span class=\"n\">Buffer</span><span class=\"p\">[(</span><span class=\"mi\">16</span><span class=\"p\">,</span> <span class=\"mi\">128</span><span class=\"p\">,</span> <span class=\"mi\">128</span><span class=\"p\">),</span> <span class=\"s2\">&quot;float32&quot;</span><span class=\"p\">])</span> <span class=\"o\">-&gt;</span> <span class=\"kc\">None</span><span class=\"p\">:</span>\n",
              "        <span class=\"c1\"># function attr dict</span>\n",
              "        <span class=\"n\">T</span><span class=\"o\">.</span><span class=\"n\">func_attr</span><span class=\"p\">({</span><span class=\"s2\">&quot;global_symbol&quot;</span><span class=\"p\">:</span> <span class=\"s2\">&quot;bmm_relu&quot;</span><span class=\"p\">,</span> <span class=\"s2\">&quot;tir.noalias&quot;</span><span class=\"p\">:</span> <span class=\"kc\">True</span><span class=\"p\">})</span>\n",
              "        <span class=\"c1\"># body</span>\n",
              "        <span class=\"c1\"># with T.block(&quot;root&quot;)</span>\n",
              "        <span class=\"n\">Y</span> <span class=\"o\">=</span> <span class=\"n\">T</span><span class=\"o\">.</span><span class=\"n\">alloc_buffer</span><span class=\"p\">([</span><span class=\"mi\">16</span><span class=\"p\">,</span> <span class=\"mi\">128</span><span class=\"p\">,</span> <span class=\"mi\">128</span><span class=\"p\">],</span> <span class=\"n\">dtype</span><span class=\"o\">=</span><span class=\"s2\">&quot;float32&quot;</span><span class=\"p\">)</span>\n",
              "        <span class=\"k\">for</span> <span class=\"n\">i0</span><span class=\"p\">,</span> <span class=\"n\">i1</span><span class=\"p\">,</span> <span class=\"n\">i2_0</span><span class=\"p\">,</span> <span class=\"n\">i3_0</span><span class=\"p\">,</span> <span class=\"n\">i3_1</span><span class=\"p\">,</span> <span class=\"n\">i2_1</span> <span class=\"ow\">in</span> <span class=\"n\">T</span><span class=\"o\">.</span><span class=\"n\">grid</span><span class=\"p\">(</span><span class=\"mi\">16</span><span class=\"p\">,</span> <span class=\"mi\">128</span><span class=\"p\">,</span> <span class=\"mi\">16</span><span class=\"p\">,</span> <span class=\"mi\">32</span><span class=\"p\">,</span> <span class=\"mi\">4</span><span class=\"p\">,</span> <span class=\"mi\">8</span><span class=\"p\">):</span>\n",
              "            <span class=\"k\">with</span> <span class=\"n\">T</span><span class=\"o\">.</span><span class=\"n\">block</span><span class=\"p\">(</span><span class=\"s2\">&quot;Y&quot;</span><span class=\"p\">):</span>\n",
              "                <span class=\"n\">n</span><span class=\"p\">,</span> <span class=\"n\">i</span> <span class=\"o\">=</span> <span class=\"n\">T</span><span class=\"o\">.</span><span class=\"n\">axis</span><span class=\"o\">.</span><span class=\"n\">remap</span><span class=\"p\">(</span><span class=\"s2\">&quot;SS&quot;</span><span class=\"p\">,</span> <span class=\"p\">[</span><span class=\"n\">i0</span><span class=\"p\">,</span> <span class=\"n\">i1</span><span class=\"p\">])</span>\n",
              "                <span class=\"n\">j</span> <span class=\"o\">=</span> <span class=\"n\">T</span><span class=\"o\">.</span><span class=\"n\">axis</span><span class=\"o\">.</span><span class=\"n\">spatial</span><span class=\"p\">(</span><span class=\"mi\">128</span><span class=\"p\">,</span> <span class=\"n\">i2_0</span> <span class=\"o\">*</span> <span class=\"mi\">8</span> <span class=\"o\">+</span> <span class=\"n\">i2_1</span><span class=\"p\">)</span>\n",
              "                <span class=\"n\">k</span> <span class=\"o\">=</span> <span class=\"n\">T</span><span class=\"o\">.</span><span class=\"n\">axis</span><span class=\"o\">.</span><span class=\"n\">reduce</span><span class=\"p\">(</span><span class=\"mi\">128</span><span class=\"p\">,</span> <span class=\"n\">i3_0</span> <span class=\"o\">*</span> <span class=\"mi\">4</span> <span class=\"o\">+</span> <span class=\"n\">i3_1</span><span class=\"p\">)</span>\n",
              "                <span class=\"n\">T</span><span class=\"o\">.</span><span class=\"n\">reads</span><span class=\"p\">(</span><span class=\"n\">A</span><span class=\"p\">[</span><span class=\"n\">n</span><span class=\"p\">,</span> <span class=\"n\">i</span><span class=\"p\">,</span> <span class=\"n\">k</span><span class=\"p\">],</span> <span class=\"n\">B</span><span class=\"p\">[</span><span class=\"n\">n</span><span class=\"p\">,</span> <span class=\"n\">k</span><span class=\"p\">,</span> <span class=\"n\">j</span><span class=\"p\">])</span>\n",
              "                <span class=\"n\">T</span><span class=\"o\">.</span><span class=\"n\">writes</span><span class=\"p\">(</span><span class=\"n\">Y</span><span class=\"p\">[</span><span class=\"n\">n</span><span class=\"p\">,</span> <span class=\"n\">i</span><span class=\"p\">,</span> <span class=\"n\">j</span><span class=\"p\">])</span>\n",
              "                <span class=\"k\">with</span> <span class=\"n\">T</span><span class=\"o\">.</span><span class=\"n\">init</span><span class=\"p\">():</span>\n",
              "                    <span class=\"n\">Y</span><span class=\"p\">[</span><span class=\"n\">n</span><span class=\"p\">,</span> <span class=\"n\">i</span><span class=\"p\">,</span> <span class=\"n\">j</span><span class=\"p\">]</span> <span class=\"o\">=</span> <span class=\"n\">T</span><span class=\"o\">.</span><span class=\"n\">float32</span><span class=\"p\">(</span><span class=\"mi\">0</span><span class=\"p\">)</span>\n",
              "                <span class=\"n\">Y</span><span class=\"p\">[</span><span class=\"n\">n</span><span class=\"p\">,</span> <span class=\"n\">i</span><span class=\"p\">,</span> <span class=\"n\">j</span><span class=\"p\">]</span> <span class=\"o\">=</span> <span class=\"n\">Y</span><span class=\"p\">[</span><span class=\"n\">n</span><span class=\"p\">,</span> <span class=\"n\">i</span><span class=\"p\">,</span> <span class=\"n\">j</span><span class=\"p\">]</span> <span class=\"o\">+</span> <span class=\"n\">A</span><span class=\"p\">[</span><span class=\"n\">n</span><span class=\"p\">,</span> <span class=\"n\">i</span><span class=\"p\">,</span> <span class=\"n\">k</span><span class=\"p\">]</span> <span class=\"o\">*</span> <span class=\"n\">B</span><span class=\"p\">[</span><span class=\"n\">n</span><span class=\"p\">,</span> <span class=\"n\">k</span><span class=\"p\">,</span> <span class=\"n\">j</span><span class=\"p\">]</span>\n",
              "        <span class=\"k\">for</span> <span class=\"n\">i0</span><span class=\"p\">,</span> <span class=\"n\">i1</span><span class=\"p\">,</span> <span class=\"n\">i2</span> <span class=\"ow\">in</span> <span class=\"n\">T</span><span class=\"o\">.</span><span class=\"n\">grid</span><span class=\"p\">(</span><span class=\"mi\">16</span><span class=\"p\">,</span> <span class=\"mi\">128</span><span class=\"p\">,</span> <span class=\"mi\">128</span><span class=\"p\">):</span>\n",
              "            <span class=\"k\">with</span> <span class=\"n\">T</span><span class=\"o\">.</span><span class=\"n\">block</span><span class=\"p\">(</span><span class=\"s2\">&quot;C&quot;</span><span class=\"p\">):</span>\n",
              "                <span class=\"n\">n</span><span class=\"p\">,</span> <span class=\"n\">i</span><span class=\"p\">,</span> <span class=\"n\">j</span> <span class=\"o\">=</span> <span class=\"n\">T</span><span class=\"o\">.</span><span class=\"n\">axis</span><span class=\"o\">.</span><span class=\"n\">remap</span><span class=\"p\">(</span><span class=\"s2\">&quot;SSS&quot;</span><span class=\"p\">,</span> <span class=\"p\">[</span><span class=\"n\">i0</span><span class=\"p\">,</span> <span class=\"n\">i1</span><span class=\"p\">,</span> <span class=\"n\">i2</span><span class=\"p\">])</span>\n",
              "                <span class=\"n\">T</span><span class=\"o\">.</span><span class=\"n\">reads</span><span class=\"p\">(</span><span class=\"n\">Y</span><span class=\"p\">[</span><span class=\"n\">n</span><span class=\"p\">,</span> <span class=\"n\">i</span><span class=\"p\">,</span> <span class=\"n\">j</span><span class=\"p\">])</span>\n",
              "                <span class=\"n\">T</span><span class=\"o\">.</span><span class=\"n\">writes</span><span class=\"p\">(</span><span class=\"n\">C</span><span class=\"p\">[</span><span class=\"n\">n</span><span class=\"p\">,</span> <span class=\"n\">i</span><span class=\"p\">,</span> <span class=\"n\">j</span><span class=\"p\">])</span>\n",
              "                <span class=\"n\">C</span><span class=\"p\">[</span><span class=\"n\">n</span><span class=\"p\">,</span> <span class=\"n\">i</span><span class=\"p\">,</span> <span class=\"n\">j</span><span class=\"p\">]</span> <span class=\"o\">=</span> <span class=\"n\">T</span><span class=\"o\">.</span><span class=\"n\">max</span><span class=\"p\">(</span><span class=\"n\">Y</span><span class=\"p\">[</span><span class=\"n\">n</span><span class=\"p\">,</span> <span class=\"n\">i</span><span class=\"p\">,</span> <span class=\"n\">j</span><span class=\"p\">],</span> <span class=\"n\">T</span><span class=\"o\">.</span><span class=\"n\">float32</span><span class=\"p\">(</span><span class=\"mi\">0</span><span class=\"p\">))</span>\n",
              "    \n",
              "</pre></div>\n",
              "\n"
            ]
          },
          "metadata": {},
          "execution_count": 25
        }
      ]
    },
    {
      "cell_type": "code",
      "source": [
        "# sch.compute_at/reverse_compute_at(...)\n",
        "C = sch.get_block(\"C\", func_name=\"bmm_relu\")\n",
        "sch.reverse_compute_at(C, j0)\n",
        "IPython.display.HTML(code2html(sch.mod.script()))"
      ],
      "metadata": {
        "colab": {
          "base_uri": "https://localhost:8080/",
          "height": 523
        },
        "id": "KEmqRRqvY8Zz",
        "outputId": "30a0e69e-b5fb-4bc1-a100-339c704fec2d"
      },
      "execution_count": 26,
      "outputs": [
        {
          "output_type": "execute_result",
          "data": {
            "text/plain": [
              "<IPython.core.display.HTML object>"
            ],
            "text/html": [
              "<style>.highlight .hll { background-color: #ffffcc }\n",
              ".highlight  { background: #f8f8f8; }\n",
              ".highlight .c { color: #408080; font-style: italic } /* Comment */\n",
              ".highlight .err { border: 1px solid #FF0000 } /* Error */\n",
              ".highlight .k { color: #008000; font-weight: bold } /* Keyword */\n",
              ".highlight .o { color: #666666 } /* Operator */\n",
              ".highlight .ch { color: #408080; font-style: italic } /* Comment.Hashbang */\n",
              ".highlight .cm { color: #408080; font-style: italic } /* Comment.Multiline */\n",
              ".highlight .cp { color: #BC7A00 } /* Comment.Preproc */\n",
              ".highlight .cpf { color: #408080; font-style: italic } /* Comment.PreprocFile */\n",
              ".highlight .c1 { color: #408080; font-style: italic } /* Comment.Single */\n",
              ".highlight .cs { color: #408080; font-style: italic } /* Comment.Special */\n",
              ".highlight .gd { color: #A00000 } /* Generic.Deleted */\n",
              ".highlight .ge { font-style: italic } /* Generic.Emph */\n",
              ".highlight .gr { color: #FF0000 } /* Generic.Error */\n",
              ".highlight .gh { color: #000080; font-weight: bold } /* Generic.Heading */\n",
              ".highlight .gi { color: #00A000 } /* Generic.Inserted */\n",
              ".highlight .go { color: #888888 } /* Generic.Output */\n",
              ".highlight .gp { color: #000080; font-weight: bold } /* Generic.Prompt */\n",
              ".highlight .gs { font-weight: bold } /* Generic.Strong */\n",
              ".highlight .gu { color: #800080; font-weight: bold } /* Generic.Subheading */\n",
              ".highlight .gt { color: #0044DD } /* Generic.Traceback */\n",
              ".highlight .kc { color: #008000; font-weight: bold } /* Keyword.Constant */\n",
              ".highlight .kd { color: #008000; font-weight: bold } /* Keyword.Declaration */\n",
              ".highlight .kn { color: #008000; font-weight: bold } /* Keyword.Namespace */\n",
              ".highlight .kp { color: #008000 } /* Keyword.Pseudo */\n",
              ".highlight .kr { color: #008000; font-weight: bold } /* Keyword.Reserved */\n",
              ".highlight .kt { color: #B00040 } /* Keyword.Type */\n",
              ".highlight .m { color: #666666 } /* Literal.Number */\n",
              ".highlight .s { color: #BA2121 } /* Literal.String */\n",
              ".highlight .na { color: #7D9029 } /* Name.Attribute */\n",
              ".highlight .nb { color: #008000 } /* Name.Builtin */\n",
              ".highlight .nc { color: #0000FF; font-weight: bold } /* Name.Class */\n",
              ".highlight .no { color: #880000 } /* Name.Constant */\n",
              ".highlight .nd { color: #AA22FF } /* Name.Decorator */\n",
              ".highlight .ni { color: #999999; font-weight: bold } /* Name.Entity */\n",
              ".highlight .ne { color: #D2413A; font-weight: bold } /* Name.Exception */\n",
              ".highlight .nf { color: #0000FF } /* Name.Function */\n",
              ".highlight .nl { color: #A0A000 } /* Name.Label */\n",
              ".highlight .nn { color: #0000FF; font-weight: bold } /* Name.Namespace */\n",
              ".highlight .nt { color: #008000; font-weight: bold } /* Name.Tag */\n",
              ".highlight .nv { color: #19177C } /* Name.Variable */\n",
              ".highlight .ow { color: #AA22FF; font-weight: bold } /* Operator.Word */\n",
              ".highlight .w { color: #bbbbbb } /* Text.Whitespace */\n",
              ".highlight .mb { color: #666666 } /* Literal.Number.Bin */\n",
              ".highlight .mf { color: #666666 } /* Literal.Number.Float */\n",
              ".highlight .mh { color: #666666 } /* Literal.Number.Hex */\n",
              ".highlight .mi { color: #666666 } /* Literal.Number.Integer */\n",
              ".highlight .mo { color: #666666 } /* Literal.Number.Oct */\n",
              ".highlight .sa { color: #BA2121 } /* Literal.String.Affix */\n",
              ".highlight .sb { color: #BA2121 } /* Literal.String.Backtick */\n",
              ".highlight .sc { color: #BA2121 } /* Literal.String.Char */\n",
              ".highlight .dl { color: #BA2121 } /* Literal.String.Delimiter */\n",
              ".highlight .sd { color: #BA2121; font-style: italic } /* Literal.String.Doc */\n",
              ".highlight .s2 { color: #BA2121 } /* Literal.String.Double */\n",
              ".highlight .se { color: #BB6622; font-weight: bold } /* Literal.String.Escape */\n",
              ".highlight .sh { color: #BA2121 } /* Literal.String.Heredoc */\n",
              ".highlight .si { color: #BB6688; font-weight: bold } /* Literal.String.Interpol */\n",
              ".highlight .sx { color: #008000 } /* Literal.String.Other */\n",
              ".highlight .sr { color: #BB6688 } /* Literal.String.Regex */\n",
              ".highlight .s1 { color: #BA2121 } /* Literal.String.Single */\n",
              ".highlight .ss { color: #19177C } /* Literal.String.Symbol */\n",
              ".highlight .bp { color: #008000 } /* Name.Builtin.Pseudo */\n",
              ".highlight .fm { color: #0000FF } /* Name.Function.Magic */\n",
              ".highlight .vc { color: #19177C } /* Name.Variable.Class */\n",
              ".highlight .vg { color: #19177C } /* Name.Variable.Global */\n",
              ".highlight .vi { color: #19177C } /* Name.Variable.Instance */\n",
              ".highlight .vm { color: #19177C } /* Name.Variable.Magic */\n",
              ".highlight .il { color: #666666 } /* Literal.Number.Integer.Long */</style><div class=\"highlight\"><pre><span></span><span class=\"nd\">@tvm</span><span class=\"o\">.</span><span class=\"n\">script</span><span class=\"o\">.</span><span class=\"n\">ir_module</span>\n",
              "<span class=\"k\">class</span> <span class=\"nc\">Module</span><span class=\"p\">:</span>\n",
              "    <span class=\"nd\">@T</span><span class=\"o\">.</span><span class=\"n\">prim_func</span>\n",
              "    <span class=\"k\">def</span> <span class=\"nf\">bmm_relu</span><span class=\"p\">(</span><span class=\"n\">A</span><span class=\"p\">:</span> <span class=\"n\">T</span><span class=\"o\">.</span><span class=\"n\">Buffer</span><span class=\"p\">[(</span><span class=\"mi\">16</span><span class=\"p\">,</span> <span class=\"mi\">128</span><span class=\"p\">,</span> <span class=\"mi\">128</span><span class=\"p\">),</span> <span class=\"s2\">&quot;float32&quot;</span><span class=\"p\">],</span> <span class=\"n\">B</span><span class=\"p\">:</span> <span class=\"n\">T</span><span class=\"o\">.</span><span class=\"n\">Buffer</span><span class=\"p\">[(</span><span class=\"mi\">16</span><span class=\"p\">,</span> <span class=\"mi\">128</span><span class=\"p\">,</span> <span class=\"mi\">128</span><span class=\"p\">),</span> <span class=\"s2\">&quot;float32&quot;</span><span class=\"p\">],</span> <span class=\"n\">C</span><span class=\"p\">:</span> <span class=\"n\">T</span><span class=\"o\">.</span><span class=\"n\">Buffer</span><span class=\"p\">[(</span><span class=\"mi\">16</span><span class=\"p\">,</span> <span class=\"mi\">128</span><span class=\"p\">,</span> <span class=\"mi\">128</span><span class=\"p\">),</span> <span class=\"s2\">&quot;float32&quot;</span><span class=\"p\">])</span> <span class=\"o\">-&gt;</span> <span class=\"kc\">None</span><span class=\"p\">:</span>\n",
              "        <span class=\"c1\"># function attr dict</span>\n",
              "        <span class=\"n\">T</span><span class=\"o\">.</span><span class=\"n\">func_attr</span><span class=\"p\">({</span><span class=\"s2\">&quot;global_symbol&quot;</span><span class=\"p\">:</span> <span class=\"s2\">&quot;bmm_relu&quot;</span><span class=\"p\">,</span> <span class=\"s2\">&quot;tir.noalias&quot;</span><span class=\"p\">:</span> <span class=\"kc\">True</span><span class=\"p\">})</span>\n",
              "        <span class=\"c1\"># body</span>\n",
              "        <span class=\"c1\"># with T.block(&quot;root&quot;)</span>\n",
              "        <span class=\"n\">Y</span> <span class=\"o\">=</span> <span class=\"n\">T</span><span class=\"o\">.</span><span class=\"n\">alloc_buffer</span><span class=\"p\">([</span><span class=\"mi\">16</span><span class=\"p\">,</span> <span class=\"mi\">128</span><span class=\"p\">,</span> <span class=\"mi\">128</span><span class=\"p\">],</span> <span class=\"n\">dtype</span><span class=\"o\">=</span><span class=\"s2\">&quot;float32&quot;</span><span class=\"p\">)</span>\n",
              "        <span class=\"k\">for</span> <span class=\"n\">i0</span><span class=\"p\">,</span> <span class=\"n\">i1</span><span class=\"p\">,</span> <span class=\"n\">i2_0</span> <span class=\"ow\">in</span> <span class=\"n\">T</span><span class=\"o\">.</span><span class=\"n\">grid</span><span class=\"p\">(</span><span class=\"mi\">16</span><span class=\"p\">,</span> <span class=\"mi\">128</span><span class=\"p\">,</span> <span class=\"mi\">16</span><span class=\"p\">):</span>\n",
              "            <span class=\"k\">for</span> <span class=\"n\">i3_0</span><span class=\"p\">,</span> <span class=\"n\">i3_1</span><span class=\"p\">,</span> <span class=\"n\">i2_1</span> <span class=\"ow\">in</span> <span class=\"n\">T</span><span class=\"o\">.</span><span class=\"n\">grid</span><span class=\"p\">(</span><span class=\"mi\">32</span><span class=\"p\">,</span> <span class=\"mi\">4</span><span class=\"p\">,</span> <span class=\"mi\">8</span><span class=\"p\">):</span>\n",
              "                <span class=\"k\">with</span> <span class=\"n\">T</span><span class=\"o\">.</span><span class=\"n\">block</span><span class=\"p\">(</span><span class=\"s2\">&quot;Y&quot;</span><span class=\"p\">):</span>\n",
              "                    <span class=\"n\">n</span><span class=\"p\">,</span> <span class=\"n\">i</span> <span class=\"o\">=</span> <span class=\"n\">T</span><span class=\"o\">.</span><span class=\"n\">axis</span><span class=\"o\">.</span><span class=\"n\">remap</span><span class=\"p\">(</span><span class=\"s2\">&quot;SS&quot;</span><span class=\"p\">,</span> <span class=\"p\">[</span><span class=\"n\">i0</span><span class=\"p\">,</span> <span class=\"n\">i1</span><span class=\"p\">])</span>\n",
              "                    <span class=\"n\">j</span> <span class=\"o\">=</span> <span class=\"n\">T</span><span class=\"o\">.</span><span class=\"n\">axis</span><span class=\"o\">.</span><span class=\"n\">spatial</span><span class=\"p\">(</span><span class=\"mi\">128</span><span class=\"p\">,</span> <span class=\"n\">i2_0</span> <span class=\"o\">*</span> <span class=\"mi\">8</span> <span class=\"o\">+</span> <span class=\"n\">i2_1</span><span class=\"p\">)</span>\n",
              "                    <span class=\"n\">k</span> <span class=\"o\">=</span> <span class=\"n\">T</span><span class=\"o\">.</span><span class=\"n\">axis</span><span class=\"o\">.</span><span class=\"n\">reduce</span><span class=\"p\">(</span><span class=\"mi\">128</span><span class=\"p\">,</span> <span class=\"n\">i3_0</span> <span class=\"o\">*</span> <span class=\"mi\">4</span> <span class=\"o\">+</span> <span class=\"n\">i3_1</span><span class=\"p\">)</span>\n",
              "                    <span class=\"n\">T</span><span class=\"o\">.</span><span class=\"n\">reads</span><span class=\"p\">(</span><span class=\"n\">A</span><span class=\"p\">[</span><span class=\"n\">n</span><span class=\"p\">,</span> <span class=\"n\">i</span><span class=\"p\">,</span> <span class=\"n\">k</span><span class=\"p\">],</span> <span class=\"n\">B</span><span class=\"p\">[</span><span class=\"n\">n</span><span class=\"p\">,</span> <span class=\"n\">k</span><span class=\"p\">,</span> <span class=\"n\">j</span><span class=\"p\">])</span>\n",
              "                    <span class=\"n\">T</span><span class=\"o\">.</span><span class=\"n\">writes</span><span class=\"p\">(</span><span class=\"n\">Y</span><span class=\"p\">[</span><span class=\"n\">n</span><span class=\"p\">,</span> <span class=\"n\">i</span><span class=\"p\">,</span> <span class=\"n\">j</span><span class=\"p\">])</span>\n",
              "                    <span class=\"k\">with</span> <span class=\"n\">T</span><span class=\"o\">.</span><span class=\"n\">init</span><span class=\"p\">():</span>\n",
              "                        <span class=\"n\">Y</span><span class=\"p\">[</span><span class=\"n\">n</span><span class=\"p\">,</span> <span class=\"n\">i</span><span class=\"p\">,</span> <span class=\"n\">j</span><span class=\"p\">]</span> <span class=\"o\">=</span> <span class=\"n\">T</span><span class=\"o\">.</span><span class=\"n\">float32</span><span class=\"p\">(</span><span class=\"mi\">0</span><span class=\"p\">)</span>\n",
              "                    <span class=\"n\">Y</span><span class=\"p\">[</span><span class=\"n\">n</span><span class=\"p\">,</span> <span class=\"n\">i</span><span class=\"p\">,</span> <span class=\"n\">j</span><span class=\"p\">]</span> <span class=\"o\">=</span> <span class=\"n\">Y</span><span class=\"p\">[</span><span class=\"n\">n</span><span class=\"p\">,</span> <span class=\"n\">i</span><span class=\"p\">,</span> <span class=\"n\">j</span><span class=\"p\">]</span> <span class=\"o\">+</span> <span class=\"n\">A</span><span class=\"p\">[</span><span class=\"n\">n</span><span class=\"p\">,</span> <span class=\"n\">i</span><span class=\"p\">,</span> <span class=\"n\">k</span><span class=\"p\">]</span> <span class=\"o\">*</span> <span class=\"n\">B</span><span class=\"p\">[</span><span class=\"n\">n</span><span class=\"p\">,</span> <span class=\"n\">k</span><span class=\"p\">,</span> <span class=\"n\">j</span><span class=\"p\">]</span>\n",
              "            <span class=\"k\">for</span> <span class=\"n\">ax0</span> <span class=\"ow\">in</span> <span class=\"n\">T</span><span class=\"o\">.</span><span class=\"n\">serial</span><span class=\"p\">(</span><span class=\"mi\">8</span><span class=\"p\">):</span>\n",
              "                <span class=\"k\">with</span> <span class=\"n\">T</span><span class=\"o\">.</span><span class=\"n\">block</span><span class=\"p\">(</span><span class=\"s2\">&quot;C&quot;</span><span class=\"p\">):</span>\n",
              "                    <span class=\"n\">n</span><span class=\"p\">,</span> <span class=\"n\">i</span> <span class=\"o\">=</span> <span class=\"n\">T</span><span class=\"o\">.</span><span class=\"n\">axis</span><span class=\"o\">.</span><span class=\"n\">remap</span><span class=\"p\">(</span><span class=\"s2\">&quot;SS&quot;</span><span class=\"p\">,</span> <span class=\"p\">[</span><span class=\"n\">i0</span><span class=\"p\">,</span> <span class=\"n\">i1</span><span class=\"p\">])</span>\n",
              "                    <span class=\"n\">j</span> <span class=\"o\">=</span> <span class=\"n\">T</span><span class=\"o\">.</span><span class=\"n\">axis</span><span class=\"o\">.</span><span class=\"n\">spatial</span><span class=\"p\">(</span><span class=\"mi\">128</span><span class=\"p\">,</span> <span class=\"n\">i2_0</span> <span class=\"o\">*</span> <span class=\"mi\">8</span> <span class=\"o\">+</span> <span class=\"n\">ax0</span><span class=\"p\">)</span>\n",
              "                    <span class=\"n\">T</span><span class=\"o\">.</span><span class=\"n\">reads</span><span class=\"p\">(</span><span class=\"n\">Y</span><span class=\"p\">[</span><span class=\"n\">n</span><span class=\"p\">,</span> <span class=\"n\">i</span><span class=\"p\">,</span> <span class=\"n\">j</span><span class=\"p\">])</span>\n",
              "                    <span class=\"n\">T</span><span class=\"o\">.</span><span class=\"n\">writes</span><span class=\"p\">(</span><span class=\"n\">C</span><span class=\"p\">[</span><span class=\"n\">n</span><span class=\"p\">,</span> <span class=\"n\">i</span><span class=\"p\">,</span> <span class=\"n\">j</span><span class=\"p\">])</span>\n",
              "                    <span class=\"n\">C</span><span class=\"p\">[</span><span class=\"n\">n</span><span class=\"p\">,</span> <span class=\"n\">i</span><span class=\"p\">,</span> <span class=\"n\">j</span><span class=\"p\">]</span> <span class=\"o\">=</span> <span class=\"n\">T</span><span class=\"o\">.</span><span class=\"n\">max</span><span class=\"p\">(</span><span class=\"n\">Y</span><span class=\"p\">[</span><span class=\"n\">n</span><span class=\"p\">,</span> <span class=\"n\">i</span><span class=\"p\">,</span> <span class=\"n\">j</span><span class=\"p\">],</span> <span class=\"n\">T</span><span class=\"o\">.</span><span class=\"n\">float32</span><span class=\"p\">(</span><span class=\"mi\">0</span><span class=\"p\">))</span>\n",
              "    \n",
              "</pre></div>\n",
              "\n"
            ]
          },
          "metadata": {},
          "execution_count": 26
        }
      ]
    },
    {
      "cell_type": "code",
      "source": [
        "# Step 4. decompose reduction\n",
        "sch.parallel(b) # decompose_reduction will break block, so ahead run it\n",
        "Y_init = sch.decompose_reduction(Y, k0)\n",
        "IPython.display.HTML(code2html(sch.mod.script()))"
      ],
      "metadata": {
        "colab": {
          "base_uri": "https://localhost:8080/",
          "height": 627
        },
        "id": "ugGWWJsuZD1_",
        "outputId": "d2c127d8-cbfa-4106-9374-b0cae5e8dd5f"
      },
      "execution_count": 27,
      "outputs": [
        {
          "output_type": "execute_result",
          "data": {
            "text/plain": [
              "<IPython.core.display.HTML object>"
            ],
            "text/html": [
              "<style>.highlight .hll { background-color: #ffffcc }\n",
              ".highlight  { background: #f8f8f8; }\n",
              ".highlight .c { color: #408080; font-style: italic } /* Comment */\n",
              ".highlight .err { border: 1px solid #FF0000 } /* Error */\n",
              ".highlight .k { color: #008000; font-weight: bold } /* Keyword */\n",
              ".highlight .o { color: #666666 } /* Operator */\n",
              ".highlight .ch { color: #408080; font-style: italic } /* Comment.Hashbang */\n",
              ".highlight .cm { color: #408080; font-style: italic } /* Comment.Multiline */\n",
              ".highlight .cp { color: #BC7A00 } /* Comment.Preproc */\n",
              ".highlight .cpf { color: #408080; font-style: italic } /* Comment.PreprocFile */\n",
              ".highlight .c1 { color: #408080; font-style: italic } /* Comment.Single */\n",
              ".highlight .cs { color: #408080; font-style: italic } /* Comment.Special */\n",
              ".highlight .gd { color: #A00000 } /* Generic.Deleted */\n",
              ".highlight .ge { font-style: italic } /* Generic.Emph */\n",
              ".highlight .gr { color: #FF0000 } /* Generic.Error */\n",
              ".highlight .gh { color: #000080; font-weight: bold } /* Generic.Heading */\n",
              ".highlight .gi { color: #00A000 } /* Generic.Inserted */\n",
              ".highlight .go { color: #888888 } /* Generic.Output */\n",
              ".highlight .gp { color: #000080; font-weight: bold } /* Generic.Prompt */\n",
              ".highlight .gs { font-weight: bold } /* Generic.Strong */\n",
              ".highlight .gu { color: #800080; font-weight: bold } /* Generic.Subheading */\n",
              ".highlight .gt { color: #0044DD } /* Generic.Traceback */\n",
              ".highlight .kc { color: #008000; font-weight: bold } /* Keyword.Constant */\n",
              ".highlight .kd { color: #008000; font-weight: bold } /* Keyword.Declaration */\n",
              ".highlight .kn { color: #008000; font-weight: bold } /* Keyword.Namespace */\n",
              ".highlight .kp { color: #008000 } /* Keyword.Pseudo */\n",
              ".highlight .kr { color: #008000; font-weight: bold } /* Keyword.Reserved */\n",
              ".highlight .kt { color: #B00040 } /* Keyword.Type */\n",
              ".highlight .m { color: #666666 } /* Literal.Number */\n",
              ".highlight .s { color: #BA2121 } /* Literal.String */\n",
              ".highlight .na { color: #7D9029 } /* Name.Attribute */\n",
              ".highlight .nb { color: #008000 } /* Name.Builtin */\n",
              ".highlight .nc { color: #0000FF; font-weight: bold } /* Name.Class */\n",
              ".highlight .no { color: #880000 } /* Name.Constant */\n",
              ".highlight .nd { color: #AA22FF } /* Name.Decorator */\n",
              ".highlight .ni { color: #999999; font-weight: bold } /* Name.Entity */\n",
              ".highlight .ne { color: #D2413A; font-weight: bold } /* Name.Exception */\n",
              ".highlight .nf { color: #0000FF } /* Name.Function */\n",
              ".highlight .nl { color: #A0A000 } /* Name.Label */\n",
              ".highlight .nn { color: #0000FF; font-weight: bold } /* Name.Namespace */\n",
              ".highlight .nt { color: #008000; font-weight: bold } /* Name.Tag */\n",
              ".highlight .nv { color: #19177C } /* Name.Variable */\n",
              ".highlight .ow { color: #AA22FF; font-weight: bold } /* Operator.Word */\n",
              ".highlight .w { color: #bbbbbb } /* Text.Whitespace */\n",
              ".highlight .mb { color: #666666 } /* Literal.Number.Bin */\n",
              ".highlight .mf { color: #666666 } /* Literal.Number.Float */\n",
              ".highlight .mh { color: #666666 } /* Literal.Number.Hex */\n",
              ".highlight .mi { color: #666666 } /* Literal.Number.Integer */\n",
              ".highlight .mo { color: #666666 } /* Literal.Number.Oct */\n",
              ".highlight .sa { color: #BA2121 } /* Literal.String.Affix */\n",
              ".highlight .sb { color: #BA2121 } /* Literal.String.Backtick */\n",
              ".highlight .sc { color: #BA2121 } /* Literal.String.Char */\n",
              ".highlight .dl { color: #BA2121 } /* Literal.String.Delimiter */\n",
              ".highlight .sd { color: #BA2121; font-style: italic } /* Literal.String.Doc */\n",
              ".highlight .s2 { color: #BA2121 } /* Literal.String.Double */\n",
              ".highlight .se { color: #BB6622; font-weight: bold } /* Literal.String.Escape */\n",
              ".highlight .sh { color: #BA2121 } /* Literal.String.Heredoc */\n",
              ".highlight .si { color: #BB6688; font-weight: bold } /* Literal.String.Interpol */\n",
              ".highlight .sx { color: #008000 } /* Literal.String.Other */\n",
              ".highlight .sr { color: #BB6688 } /* Literal.String.Regex */\n",
              ".highlight .s1 { color: #BA2121 } /* Literal.String.Single */\n",
              ".highlight .ss { color: #19177C } /* Literal.String.Symbol */\n",
              ".highlight .bp { color: #008000 } /* Name.Builtin.Pseudo */\n",
              ".highlight .fm { color: #0000FF } /* Name.Function.Magic */\n",
              ".highlight .vc { color: #19177C } /* Name.Variable.Class */\n",
              ".highlight .vg { color: #19177C } /* Name.Variable.Global */\n",
              ".highlight .vi { color: #19177C } /* Name.Variable.Instance */\n",
              ".highlight .vm { color: #19177C } /* Name.Variable.Magic */\n",
              ".highlight .il { color: #666666 } /* Literal.Number.Integer.Long */</style><div class=\"highlight\"><pre><span></span><span class=\"nd\">@tvm</span><span class=\"o\">.</span><span class=\"n\">script</span><span class=\"o\">.</span><span class=\"n\">ir_module</span>\n",
              "<span class=\"k\">class</span> <span class=\"nc\">Module</span><span class=\"p\">:</span>\n",
              "    <span class=\"nd\">@T</span><span class=\"o\">.</span><span class=\"n\">prim_func</span>\n",
              "    <span class=\"k\">def</span> <span class=\"nf\">bmm_relu</span><span class=\"p\">(</span><span class=\"n\">A</span><span class=\"p\">:</span> <span class=\"n\">T</span><span class=\"o\">.</span><span class=\"n\">Buffer</span><span class=\"p\">[(</span><span class=\"mi\">16</span><span class=\"p\">,</span> <span class=\"mi\">128</span><span class=\"p\">,</span> <span class=\"mi\">128</span><span class=\"p\">),</span> <span class=\"s2\">&quot;float32&quot;</span><span class=\"p\">],</span> <span class=\"n\">B</span><span class=\"p\">:</span> <span class=\"n\">T</span><span class=\"o\">.</span><span class=\"n\">Buffer</span><span class=\"p\">[(</span><span class=\"mi\">16</span><span class=\"p\">,</span> <span class=\"mi\">128</span><span class=\"p\">,</span> <span class=\"mi\">128</span><span class=\"p\">),</span> <span class=\"s2\">&quot;float32&quot;</span><span class=\"p\">],</span> <span class=\"n\">C</span><span class=\"p\">:</span> <span class=\"n\">T</span><span class=\"o\">.</span><span class=\"n\">Buffer</span><span class=\"p\">[(</span><span class=\"mi\">16</span><span class=\"p\">,</span> <span class=\"mi\">128</span><span class=\"p\">,</span> <span class=\"mi\">128</span><span class=\"p\">),</span> <span class=\"s2\">&quot;float32&quot;</span><span class=\"p\">])</span> <span class=\"o\">-&gt;</span> <span class=\"kc\">None</span><span class=\"p\">:</span>\n",
              "        <span class=\"c1\"># function attr dict</span>\n",
              "        <span class=\"n\">T</span><span class=\"o\">.</span><span class=\"n\">func_attr</span><span class=\"p\">({</span><span class=\"s2\">&quot;global_symbol&quot;</span><span class=\"p\">:</span> <span class=\"s2\">&quot;bmm_relu&quot;</span><span class=\"p\">,</span> <span class=\"s2\">&quot;tir.noalias&quot;</span><span class=\"p\">:</span> <span class=\"kc\">True</span><span class=\"p\">})</span>\n",
              "        <span class=\"c1\"># body</span>\n",
              "        <span class=\"c1\"># with T.block(&quot;root&quot;)</span>\n",
              "        <span class=\"n\">Y</span> <span class=\"o\">=</span> <span class=\"n\">T</span><span class=\"o\">.</span><span class=\"n\">alloc_buffer</span><span class=\"p\">([</span><span class=\"mi\">16</span><span class=\"p\">,</span> <span class=\"mi\">128</span><span class=\"p\">,</span> <span class=\"mi\">128</span><span class=\"p\">],</span> <span class=\"n\">dtype</span><span class=\"o\">=</span><span class=\"s2\">&quot;float32&quot;</span><span class=\"p\">)</span>\n",
              "        <span class=\"k\">for</span> <span class=\"n\">i0</span> <span class=\"ow\">in</span> <span class=\"n\">T</span><span class=\"o\">.</span><span class=\"n\">parallel</span><span class=\"p\">(</span><span class=\"mi\">16</span><span class=\"p\">):</span>\n",
              "            <span class=\"k\">for</span> <span class=\"n\">i1</span><span class=\"p\">,</span> <span class=\"n\">i2_0</span> <span class=\"ow\">in</span> <span class=\"n\">T</span><span class=\"o\">.</span><span class=\"n\">grid</span><span class=\"p\">(</span><span class=\"mi\">128</span><span class=\"p\">,</span> <span class=\"mi\">16</span><span class=\"p\">):</span>\n",
              "                <span class=\"k\">for</span> <span class=\"n\">i2_1_init</span> <span class=\"ow\">in</span> <span class=\"n\">T</span><span class=\"o\">.</span><span class=\"n\">serial</span><span class=\"p\">(</span><span class=\"mi\">8</span><span class=\"p\">):</span>\n",
              "                    <span class=\"k\">with</span> <span class=\"n\">T</span><span class=\"o\">.</span><span class=\"n\">block</span><span class=\"p\">(</span><span class=\"s2\">&quot;Y_init&quot;</span><span class=\"p\">):</span>\n",
              "                        <span class=\"n\">n</span><span class=\"p\">,</span> <span class=\"n\">i</span> <span class=\"o\">=</span> <span class=\"n\">T</span><span class=\"o\">.</span><span class=\"n\">axis</span><span class=\"o\">.</span><span class=\"n\">remap</span><span class=\"p\">(</span><span class=\"s2\">&quot;SS&quot;</span><span class=\"p\">,</span> <span class=\"p\">[</span><span class=\"n\">i0</span><span class=\"p\">,</span> <span class=\"n\">i1</span><span class=\"p\">])</span>\n",
              "                        <span class=\"n\">j</span> <span class=\"o\">=</span> <span class=\"n\">T</span><span class=\"o\">.</span><span class=\"n\">axis</span><span class=\"o\">.</span><span class=\"n\">spatial</span><span class=\"p\">(</span><span class=\"mi\">128</span><span class=\"p\">,</span> <span class=\"n\">i2_0</span> <span class=\"o\">*</span> <span class=\"mi\">8</span> <span class=\"o\">+</span> <span class=\"n\">i2_1_init</span><span class=\"p\">)</span>\n",
              "                        <span class=\"n\">T</span><span class=\"o\">.</span><span class=\"n\">reads</span><span class=\"p\">()</span>\n",
              "                        <span class=\"n\">T</span><span class=\"o\">.</span><span class=\"n\">writes</span><span class=\"p\">(</span><span class=\"n\">Y</span><span class=\"p\">[</span><span class=\"n\">n</span><span class=\"p\">,</span> <span class=\"n\">i</span><span class=\"p\">,</span> <span class=\"n\">j</span><span class=\"p\">])</span>\n",
              "                        <span class=\"n\">Y</span><span class=\"p\">[</span><span class=\"n\">n</span><span class=\"p\">,</span> <span class=\"n\">i</span><span class=\"p\">,</span> <span class=\"n\">j</span><span class=\"p\">]</span> <span class=\"o\">=</span> <span class=\"n\">T</span><span class=\"o\">.</span><span class=\"n\">float32</span><span class=\"p\">(</span><span class=\"mi\">0</span><span class=\"p\">)</span>\n",
              "                <span class=\"k\">for</span> <span class=\"n\">i3_0</span><span class=\"p\">,</span> <span class=\"n\">i3_1</span><span class=\"p\">,</span> <span class=\"n\">i2_1</span> <span class=\"ow\">in</span> <span class=\"n\">T</span><span class=\"o\">.</span><span class=\"n\">grid</span><span class=\"p\">(</span><span class=\"mi\">32</span><span class=\"p\">,</span> <span class=\"mi\">4</span><span class=\"p\">,</span> <span class=\"mi\">8</span><span class=\"p\">):</span>\n",
              "                    <span class=\"k\">with</span> <span class=\"n\">T</span><span class=\"o\">.</span><span class=\"n\">block</span><span class=\"p\">(</span><span class=\"s2\">&quot;Y_update&quot;</span><span class=\"p\">):</span>\n",
              "                        <span class=\"n\">n</span><span class=\"p\">,</span> <span class=\"n\">i</span> <span class=\"o\">=</span> <span class=\"n\">T</span><span class=\"o\">.</span><span class=\"n\">axis</span><span class=\"o\">.</span><span class=\"n\">remap</span><span class=\"p\">(</span><span class=\"s2\">&quot;SS&quot;</span><span class=\"p\">,</span> <span class=\"p\">[</span><span class=\"n\">i0</span><span class=\"p\">,</span> <span class=\"n\">i1</span><span class=\"p\">])</span>\n",
              "                        <span class=\"n\">j</span> <span class=\"o\">=</span> <span class=\"n\">T</span><span class=\"o\">.</span><span class=\"n\">axis</span><span class=\"o\">.</span><span class=\"n\">spatial</span><span class=\"p\">(</span><span class=\"mi\">128</span><span class=\"p\">,</span> <span class=\"n\">i2_0</span> <span class=\"o\">*</span> <span class=\"mi\">8</span> <span class=\"o\">+</span> <span class=\"n\">i2_1</span><span class=\"p\">)</span>\n",
              "                        <span class=\"n\">k</span> <span class=\"o\">=</span> <span class=\"n\">T</span><span class=\"o\">.</span><span class=\"n\">axis</span><span class=\"o\">.</span><span class=\"n\">reduce</span><span class=\"p\">(</span><span class=\"mi\">128</span><span class=\"p\">,</span> <span class=\"n\">i3_0</span> <span class=\"o\">*</span> <span class=\"mi\">4</span> <span class=\"o\">+</span> <span class=\"n\">i3_1</span><span class=\"p\">)</span>\n",
              "                        <span class=\"n\">T</span><span class=\"o\">.</span><span class=\"n\">reads</span><span class=\"p\">(</span><span class=\"n\">Y</span><span class=\"p\">[</span><span class=\"n\">n</span><span class=\"p\">,</span> <span class=\"n\">i</span><span class=\"p\">,</span> <span class=\"n\">j</span><span class=\"p\">],</span> <span class=\"n\">A</span><span class=\"p\">[</span><span class=\"n\">n</span><span class=\"p\">,</span> <span class=\"n\">i</span><span class=\"p\">,</span> <span class=\"n\">k</span><span class=\"p\">],</span> <span class=\"n\">B</span><span class=\"p\">[</span><span class=\"n\">n</span><span class=\"p\">,</span> <span class=\"n\">k</span><span class=\"p\">,</span> <span class=\"n\">j</span><span class=\"p\">])</span>\n",
              "                        <span class=\"n\">T</span><span class=\"o\">.</span><span class=\"n\">writes</span><span class=\"p\">(</span><span class=\"n\">Y</span><span class=\"p\">[</span><span class=\"n\">n</span><span class=\"p\">,</span> <span class=\"n\">i</span><span class=\"p\">,</span> <span class=\"n\">j</span><span class=\"p\">])</span>\n",
              "                        <span class=\"n\">Y</span><span class=\"p\">[</span><span class=\"n\">n</span><span class=\"p\">,</span> <span class=\"n\">i</span><span class=\"p\">,</span> <span class=\"n\">j</span><span class=\"p\">]</span> <span class=\"o\">=</span> <span class=\"n\">Y</span><span class=\"p\">[</span><span class=\"n\">n</span><span class=\"p\">,</span> <span class=\"n\">i</span><span class=\"p\">,</span> <span class=\"n\">j</span><span class=\"p\">]</span> <span class=\"o\">+</span> <span class=\"n\">A</span><span class=\"p\">[</span><span class=\"n\">n</span><span class=\"p\">,</span> <span class=\"n\">i</span><span class=\"p\">,</span> <span class=\"n\">k</span><span class=\"p\">]</span> <span class=\"o\">*</span> <span class=\"n\">B</span><span class=\"p\">[</span><span class=\"n\">n</span><span class=\"p\">,</span> <span class=\"n\">k</span><span class=\"p\">,</span> <span class=\"n\">j</span><span class=\"p\">]</span>\n",
              "                <span class=\"k\">for</span> <span class=\"n\">ax0</span> <span class=\"ow\">in</span> <span class=\"n\">T</span><span class=\"o\">.</span><span class=\"n\">serial</span><span class=\"p\">(</span><span class=\"mi\">8</span><span class=\"p\">):</span>\n",
              "                    <span class=\"k\">with</span> <span class=\"n\">T</span><span class=\"o\">.</span><span class=\"n\">block</span><span class=\"p\">(</span><span class=\"s2\">&quot;C&quot;</span><span class=\"p\">):</span>\n",
              "                        <span class=\"n\">n</span><span class=\"p\">,</span> <span class=\"n\">i</span> <span class=\"o\">=</span> <span class=\"n\">T</span><span class=\"o\">.</span><span class=\"n\">axis</span><span class=\"o\">.</span><span class=\"n\">remap</span><span class=\"p\">(</span><span class=\"s2\">&quot;SS&quot;</span><span class=\"p\">,</span> <span class=\"p\">[</span><span class=\"n\">i0</span><span class=\"p\">,</span> <span class=\"n\">i1</span><span class=\"p\">])</span>\n",
              "                        <span class=\"n\">j</span> <span class=\"o\">=</span> <span class=\"n\">T</span><span class=\"o\">.</span><span class=\"n\">axis</span><span class=\"o\">.</span><span class=\"n\">spatial</span><span class=\"p\">(</span><span class=\"mi\">128</span><span class=\"p\">,</span> <span class=\"n\">i2_0</span> <span class=\"o\">*</span> <span class=\"mi\">8</span> <span class=\"o\">+</span> <span class=\"n\">ax0</span><span class=\"p\">)</span>\n",
              "                        <span class=\"n\">T</span><span class=\"o\">.</span><span class=\"n\">reads</span><span class=\"p\">(</span><span class=\"n\">Y</span><span class=\"p\">[</span><span class=\"n\">n</span><span class=\"p\">,</span> <span class=\"n\">i</span><span class=\"p\">,</span> <span class=\"n\">j</span><span class=\"p\">])</span>\n",
              "                        <span class=\"n\">T</span><span class=\"o\">.</span><span class=\"n\">writes</span><span class=\"p\">(</span><span class=\"n\">C</span><span class=\"p\">[</span><span class=\"n\">n</span><span class=\"p\">,</span> <span class=\"n\">i</span><span class=\"p\">,</span> <span class=\"n\">j</span><span class=\"p\">])</span>\n",
              "                        <span class=\"n\">C</span><span class=\"p\">[</span><span class=\"n\">n</span><span class=\"p\">,</span> <span class=\"n\">i</span><span class=\"p\">,</span> <span class=\"n\">j</span><span class=\"p\">]</span> <span class=\"o\">=</span> <span class=\"n\">T</span><span class=\"o\">.</span><span class=\"n\">max</span><span class=\"p\">(</span><span class=\"n\">Y</span><span class=\"p\">[</span><span class=\"n\">n</span><span class=\"p\">,</span> <span class=\"n\">i</span><span class=\"p\">,</span> <span class=\"n\">j</span><span class=\"p\">],</span> <span class=\"n\">T</span><span class=\"o\">.</span><span class=\"n\">float32</span><span class=\"p\">(</span><span class=\"mi\">0</span><span class=\"p\">))</span>\n",
              "    \n",
              "</pre></div>\n",
              "\n"
            ]
          },
          "metadata": {},
          "execution_count": 27
        }
      ]
    },
    {
      "cell_type": "code",
      "source": [
        "# Step 5. vectorize / parallel / unroll\n",
        "Yn, Yb, Yj0, Yj1 = sch.get_loops(Y_init)\n",
        "_, _, _, Cj1, = sch.get_loops(C)\n",
        "sch.vectorize(Yj1)\n",
        "sch.vectorize(Cj1)\n",
        "# sch.parallel(b) # must before decompose_reduction \n",
        "sch.unroll(k1)\n",
        "IPython.display.HTML(code2html(sch.mod.script()))"
      ],
      "metadata": {
        "colab": {
          "base_uri": "https://localhost:8080/",
          "height": 662
        },
        "id": "3-AInL-QZGHp",
        "outputId": "f0494322-48a6-4ff4-ad85-d4c063cabfe8"
      },
      "execution_count": 28,
      "outputs": [
        {
          "output_type": "execute_result",
          "data": {
            "text/plain": [
              "<IPython.core.display.HTML object>"
            ],
            "text/html": [
              "<style>.highlight .hll { background-color: #ffffcc }\n",
              ".highlight  { background: #f8f8f8; }\n",
              ".highlight .c { color: #408080; font-style: italic } /* Comment */\n",
              ".highlight .err { border: 1px solid #FF0000 } /* Error */\n",
              ".highlight .k { color: #008000; font-weight: bold } /* Keyword */\n",
              ".highlight .o { color: #666666 } /* Operator */\n",
              ".highlight .ch { color: #408080; font-style: italic } /* Comment.Hashbang */\n",
              ".highlight .cm { color: #408080; font-style: italic } /* Comment.Multiline */\n",
              ".highlight .cp { color: #BC7A00 } /* Comment.Preproc */\n",
              ".highlight .cpf { color: #408080; font-style: italic } /* Comment.PreprocFile */\n",
              ".highlight .c1 { color: #408080; font-style: italic } /* Comment.Single */\n",
              ".highlight .cs { color: #408080; font-style: italic } /* Comment.Special */\n",
              ".highlight .gd { color: #A00000 } /* Generic.Deleted */\n",
              ".highlight .ge { font-style: italic } /* Generic.Emph */\n",
              ".highlight .gr { color: #FF0000 } /* Generic.Error */\n",
              ".highlight .gh { color: #000080; font-weight: bold } /* Generic.Heading */\n",
              ".highlight .gi { color: #00A000 } /* Generic.Inserted */\n",
              ".highlight .go { color: #888888 } /* Generic.Output */\n",
              ".highlight .gp { color: #000080; font-weight: bold } /* Generic.Prompt */\n",
              ".highlight .gs { font-weight: bold } /* Generic.Strong */\n",
              ".highlight .gu { color: #800080; font-weight: bold } /* Generic.Subheading */\n",
              ".highlight .gt { color: #0044DD } /* Generic.Traceback */\n",
              ".highlight .kc { color: #008000; font-weight: bold } /* Keyword.Constant */\n",
              ".highlight .kd { color: #008000; font-weight: bold } /* Keyword.Declaration */\n",
              ".highlight .kn { color: #008000; font-weight: bold } /* Keyword.Namespace */\n",
              ".highlight .kp { color: #008000 } /* Keyword.Pseudo */\n",
              ".highlight .kr { color: #008000; font-weight: bold } /* Keyword.Reserved */\n",
              ".highlight .kt { color: #B00040 } /* Keyword.Type */\n",
              ".highlight .m { color: #666666 } /* Literal.Number */\n",
              ".highlight .s { color: #BA2121 } /* Literal.String */\n",
              ".highlight .na { color: #7D9029 } /* Name.Attribute */\n",
              ".highlight .nb { color: #008000 } /* Name.Builtin */\n",
              ".highlight .nc { color: #0000FF; font-weight: bold } /* Name.Class */\n",
              ".highlight .no { color: #880000 } /* Name.Constant */\n",
              ".highlight .nd { color: #AA22FF } /* Name.Decorator */\n",
              ".highlight .ni { color: #999999; font-weight: bold } /* Name.Entity */\n",
              ".highlight .ne { color: #D2413A; font-weight: bold } /* Name.Exception */\n",
              ".highlight .nf { color: #0000FF } /* Name.Function */\n",
              ".highlight .nl { color: #A0A000 } /* Name.Label */\n",
              ".highlight .nn { color: #0000FF; font-weight: bold } /* Name.Namespace */\n",
              ".highlight .nt { color: #008000; font-weight: bold } /* Name.Tag */\n",
              ".highlight .nv { color: #19177C } /* Name.Variable */\n",
              ".highlight .ow { color: #AA22FF; font-weight: bold } /* Operator.Word */\n",
              ".highlight .w { color: #bbbbbb } /* Text.Whitespace */\n",
              ".highlight .mb { color: #666666 } /* Literal.Number.Bin */\n",
              ".highlight .mf { color: #666666 } /* Literal.Number.Float */\n",
              ".highlight .mh { color: #666666 } /* Literal.Number.Hex */\n",
              ".highlight .mi { color: #666666 } /* Literal.Number.Integer */\n",
              ".highlight .mo { color: #666666 } /* Literal.Number.Oct */\n",
              ".highlight .sa { color: #BA2121 } /* Literal.String.Affix */\n",
              ".highlight .sb { color: #BA2121 } /* Literal.String.Backtick */\n",
              ".highlight .sc { color: #BA2121 } /* Literal.String.Char */\n",
              ".highlight .dl { color: #BA2121 } /* Literal.String.Delimiter */\n",
              ".highlight .sd { color: #BA2121; font-style: italic } /* Literal.String.Doc */\n",
              ".highlight .s2 { color: #BA2121 } /* Literal.String.Double */\n",
              ".highlight .se { color: #BB6622; font-weight: bold } /* Literal.String.Escape */\n",
              ".highlight .sh { color: #BA2121 } /* Literal.String.Heredoc */\n",
              ".highlight .si { color: #BB6688; font-weight: bold } /* Literal.String.Interpol */\n",
              ".highlight .sx { color: #008000 } /* Literal.String.Other */\n",
              ".highlight .sr { color: #BB6688 } /* Literal.String.Regex */\n",
              ".highlight .s1 { color: #BA2121 } /* Literal.String.Single */\n",
              ".highlight .ss { color: #19177C } /* Literal.String.Symbol */\n",
              ".highlight .bp { color: #008000 } /* Name.Builtin.Pseudo */\n",
              ".highlight .fm { color: #0000FF } /* Name.Function.Magic */\n",
              ".highlight .vc { color: #19177C } /* Name.Variable.Class */\n",
              ".highlight .vg { color: #19177C } /* Name.Variable.Global */\n",
              ".highlight .vi { color: #19177C } /* Name.Variable.Instance */\n",
              ".highlight .vm { color: #19177C } /* Name.Variable.Magic */\n",
              ".highlight .il { color: #666666 } /* Literal.Number.Integer.Long */</style><div class=\"highlight\"><pre><span></span><span class=\"nd\">@tvm</span><span class=\"o\">.</span><span class=\"n\">script</span><span class=\"o\">.</span><span class=\"n\">ir_module</span>\n",
              "<span class=\"k\">class</span> <span class=\"nc\">Module</span><span class=\"p\">:</span>\n",
              "    <span class=\"nd\">@T</span><span class=\"o\">.</span><span class=\"n\">prim_func</span>\n",
              "    <span class=\"k\">def</span> <span class=\"nf\">bmm_relu</span><span class=\"p\">(</span><span class=\"n\">A</span><span class=\"p\">:</span> <span class=\"n\">T</span><span class=\"o\">.</span><span class=\"n\">Buffer</span><span class=\"p\">[(</span><span class=\"mi\">16</span><span class=\"p\">,</span> <span class=\"mi\">128</span><span class=\"p\">,</span> <span class=\"mi\">128</span><span class=\"p\">),</span> <span class=\"s2\">&quot;float32&quot;</span><span class=\"p\">],</span> <span class=\"n\">B</span><span class=\"p\">:</span> <span class=\"n\">T</span><span class=\"o\">.</span><span class=\"n\">Buffer</span><span class=\"p\">[(</span><span class=\"mi\">16</span><span class=\"p\">,</span> <span class=\"mi\">128</span><span class=\"p\">,</span> <span class=\"mi\">128</span><span class=\"p\">),</span> <span class=\"s2\">&quot;float32&quot;</span><span class=\"p\">],</span> <span class=\"n\">C</span><span class=\"p\">:</span> <span class=\"n\">T</span><span class=\"o\">.</span><span class=\"n\">Buffer</span><span class=\"p\">[(</span><span class=\"mi\">16</span><span class=\"p\">,</span> <span class=\"mi\">128</span><span class=\"p\">,</span> <span class=\"mi\">128</span><span class=\"p\">),</span> <span class=\"s2\">&quot;float32&quot;</span><span class=\"p\">])</span> <span class=\"o\">-&gt;</span> <span class=\"kc\">None</span><span class=\"p\">:</span>\n",
              "        <span class=\"c1\"># function attr dict</span>\n",
              "        <span class=\"n\">T</span><span class=\"o\">.</span><span class=\"n\">func_attr</span><span class=\"p\">({</span><span class=\"s2\">&quot;global_symbol&quot;</span><span class=\"p\">:</span> <span class=\"s2\">&quot;bmm_relu&quot;</span><span class=\"p\">,</span> <span class=\"s2\">&quot;tir.noalias&quot;</span><span class=\"p\">:</span> <span class=\"kc\">True</span><span class=\"p\">})</span>\n",
              "        <span class=\"c1\"># body</span>\n",
              "        <span class=\"c1\"># with T.block(&quot;root&quot;)</span>\n",
              "        <span class=\"n\">Y</span> <span class=\"o\">=</span> <span class=\"n\">T</span><span class=\"o\">.</span><span class=\"n\">alloc_buffer</span><span class=\"p\">([</span><span class=\"mi\">16</span><span class=\"p\">,</span> <span class=\"mi\">128</span><span class=\"p\">,</span> <span class=\"mi\">128</span><span class=\"p\">],</span> <span class=\"n\">dtype</span><span class=\"o\">=</span><span class=\"s2\">&quot;float32&quot;</span><span class=\"p\">)</span>\n",
              "        <span class=\"k\">for</span> <span class=\"n\">i0</span> <span class=\"ow\">in</span> <span class=\"n\">T</span><span class=\"o\">.</span><span class=\"n\">parallel</span><span class=\"p\">(</span><span class=\"mi\">16</span><span class=\"p\">):</span>\n",
              "            <span class=\"k\">for</span> <span class=\"n\">i1</span><span class=\"p\">,</span> <span class=\"n\">i2_0</span> <span class=\"ow\">in</span> <span class=\"n\">T</span><span class=\"o\">.</span><span class=\"n\">grid</span><span class=\"p\">(</span><span class=\"mi\">128</span><span class=\"p\">,</span> <span class=\"mi\">16</span><span class=\"p\">):</span>\n",
              "                <span class=\"k\">for</span> <span class=\"n\">i2_1_init</span> <span class=\"ow\">in</span> <span class=\"n\">T</span><span class=\"o\">.</span><span class=\"n\">vectorized</span><span class=\"p\">(</span><span class=\"mi\">8</span><span class=\"p\">):</span>\n",
              "                    <span class=\"k\">with</span> <span class=\"n\">T</span><span class=\"o\">.</span><span class=\"n\">block</span><span class=\"p\">(</span><span class=\"s2\">&quot;Y_init&quot;</span><span class=\"p\">):</span>\n",
              "                        <span class=\"n\">n</span><span class=\"p\">,</span> <span class=\"n\">i</span> <span class=\"o\">=</span> <span class=\"n\">T</span><span class=\"o\">.</span><span class=\"n\">axis</span><span class=\"o\">.</span><span class=\"n\">remap</span><span class=\"p\">(</span><span class=\"s2\">&quot;SS&quot;</span><span class=\"p\">,</span> <span class=\"p\">[</span><span class=\"n\">i0</span><span class=\"p\">,</span> <span class=\"n\">i1</span><span class=\"p\">])</span>\n",
              "                        <span class=\"n\">j</span> <span class=\"o\">=</span> <span class=\"n\">T</span><span class=\"o\">.</span><span class=\"n\">axis</span><span class=\"o\">.</span><span class=\"n\">spatial</span><span class=\"p\">(</span><span class=\"mi\">128</span><span class=\"p\">,</span> <span class=\"n\">i2_0</span> <span class=\"o\">*</span> <span class=\"mi\">8</span> <span class=\"o\">+</span> <span class=\"n\">i2_1_init</span><span class=\"p\">)</span>\n",
              "                        <span class=\"n\">T</span><span class=\"o\">.</span><span class=\"n\">reads</span><span class=\"p\">()</span>\n",
              "                        <span class=\"n\">T</span><span class=\"o\">.</span><span class=\"n\">writes</span><span class=\"p\">(</span><span class=\"n\">Y</span><span class=\"p\">[</span><span class=\"n\">n</span><span class=\"p\">,</span> <span class=\"n\">i</span><span class=\"p\">,</span> <span class=\"n\">j</span><span class=\"p\">])</span>\n",
              "                        <span class=\"n\">Y</span><span class=\"p\">[</span><span class=\"n\">n</span><span class=\"p\">,</span> <span class=\"n\">i</span><span class=\"p\">,</span> <span class=\"n\">j</span><span class=\"p\">]</span> <span class=\"o\">=</span> <span class=\"n\">T</span><span class=\"o\">.</span><span class=\"n\">float32</span><span class=\"p\">(</span><span class=\"mi\">0</span><span class=\"p\">)</span>\n",
              "                <span class=\"k\">for</span> <span class=\"n\">i3_0</span> <span class=\"ow\">in</span> <span class=\"n\">T</span><span class=\"o\">.</span><span class=\"n\">serial</span><span class=\"p\">(</span><span class=\"mi\">32</span><span class=\"p\">):</span>\n",
              "                    <span class=\"k\">for</span> <span class=\"n\">i3_1</span> <span class=\"ow\">in</span> <span class=\"n\">T</span><span class=\"o\">.</span><span class=\"n\">unroll</span><span class=\"p\">(</span><span class=\"mi\">4</span><span class=\"p\">):</span>\n",
              "                        <span class=\"k\">for</span> <span class=\"n\">i2_1</span> <span class=\"ow\">in</span> <span class=\"n\">T</span><span class=\"o\">.</span><span class=\"n\">serial</span><span class=\"p\">(</span><span class=\"mi\">8</span><span class=\"p\">):</span>\n",
              "                            <span class=\"k\">with</span> <span class=\"n\">T</span><span class=\"o\">.</span><span class=\"n\">block</span><span class=\"p\">(</span><span class=\"s2\">&quot;Y_update&quot;</span><span class=\"p\">):</span>\n",
              "                                <span class=\"n\">n</span><span class=\"p\">,</span> <span class=\"n\">i</span> <span class=\"o\">=</span> <span class=\"n\">T</span><span class=\"o\">.</span><span class=\"n\">axis</span><span class=\"o\">.</span><span class=\"n\">remap</span><span class=\"p\">(</span><span class=\"s2\">&quot;SS&quot;</span><span class=\"p\">,</span> <span class=\"p\">[</span><span class=\"n\">i0</span><span class=\"p\">,</span> <span class=\"n\">i1</span><span class=\"p\">])</span>\n",
              "                                <span class=\"n\">j</span> <span class=\"o\">=</span> <span class=\"n\">T</span><span class=\"o\">.</span><span class=\"n\">axis</span><span class=\"o\">.</span><span class=\"n\">spatial</span><span class=\"p\">(</span><span class=\"mi\">128</span><span class=\"p\">,</span> <span class=\"n\">i2_0</span> <span class=\"o\">*</span> <span class=\"mi\">8</span> <span class=\"o\">+</span> <span class=\"n\">i2_1</span><span class=\"p\">)</span>\n",
              "                                <span class=\"n\">k</span> <span class=\"o\">=</span> <span class=\"n\">T</span><span class=\"o\">.</span><span class=\"n\">axis</span><span class=\"o\">.</span><span class=\"n\">reduce</span><span class=\"p\">(</span><span class=\"mi\">128</span><span class=\"p\">,</span> <span class=\"n\">i3_0</span> <span class=\"o\">*</span> <span class=\"mi\">4</span> <span class=\"o\">+</span> <span class=\"n\">i3_1</span><span class=\"p\">)</span>\n",
              "                                <span class=\"n\">T</span><span class=\"o\">.</span><span class=\"n\">reads</span><span class=\"p\">(</span><span class=\"n\">Y</span><span class=\"p\">[</span><span class=\"n\">n</span><span class=\"p\">,</span> <span class=\"n\">i</span><span class=\"p\">,</span> <span class=\"n\">j</span><span class=\"p\">],</span> <span class=\"n\">A</span><span class=\"p\">[</span><span class=\"n\">n</span><span class=\"p\">,</span> <span class=\"n\">i</span><span class=\"p\">,</span> <span class=\"n\">k</span><span class=\"p\">],</span> <span class=\"n\">B</span><span class=\"p\">[</span><span class=\"n\">n</span><span class=\"p\">,</span> <span class=\"n\">k</span><span class=\"p\">,</span> <span class=\"n\">j</span><span class=\"p\">])</span>\n",
              "                                <span class=\"n\">T</span><span class=\"o\">.</span><span class=\"n\">writes</span><span class=\"p\">(</span><span class=\"n\">Y</span><span class=\"p\">[</span><span class=\"n\">n</span><span class=\"p\">,</span> <span class=\"n\">i</span><span class=\"p\">,</span> <span class=\"n\">j</span><span class=\"p\">])</span>\n",
              "                                <span class=\"n\">Y</span><span class=\"p\">[</span><span class=\"n\">n</span><span class=\"p\">,</span> <span class=\"n\">i</span><span class=\"p\">,</span> <span class=\"n\">j</span><span class=\"p\">]</span> <span class=\"o\">=</span> <span class=\"n\">Y</span><span class=\"p\">[</span><span class=\"n\">n</span><span class=\"p\">,</span> <span class=\"n\">i</span><span class=\"p\">,</span> <span class=\"n\">j</span><span class=\"p\">]</span> <span class=\"o\">+</span> <span class=\"n\">A</span><span class=\"p\">[</span><span class=\"n\">n</span><span class=\"p\">,</span> <span class=\"n\">i</span><span class=\"p\">,</span> <span class=\"n\">k</span><span class=\"p\">]</span> <span class=\"o\">*</span> <span class=\"n\">B</span><span class=\"p\">[</span><span class=\"n\">n</span><span class=\"p\">,</span> <span class=\"n\">k</span><span class=\"p\">,</span> <span class=\"n\">j</span><span class=\"p\">]</span>\n",
              "                <span class=\"k\">for</span> <span class=\"n\">ax0</span> <span class=\"ow\">in</span> <span class=\"n\">T</span><span class=\"o\">.</span><span class=\"n\">vectorized</span><span class=\"p\">(</span><span class=\"mi\">8</span><span class=\"p\">):</span>\n",
              "                    <span class=\"k\">with</span> <span class=\"n\">T</span><span class=\"o\">.</span><span class=\"n\">block</span><span class=\"p\">(</span><span class=\"s2\">&quot;C&quot;</span><span class=\"p\">):</span>\n",
              "                        <span class=\"n\">n</span><span class=\"p\">,</span> <span class=\"n\">i</span> <span class=\"o\">=</span> <span class=\"n\">T</span><span class=\"o\">.</span><span class=\"n\">axis</span><span class=\"o\">.</span><span class=\"n\">remap</span><span class=\"p\">(</span><span class=\"s2\">&quot;SS&quot;</span><span class=\"p\">,</span> <span class=\"p\">[</span><span class=\"n\">i0</span><span class=\"p\">,</span> <span class=\"n\">i1</span><span class=\"p\">])</span>\n",
              "                        <span class=\"n\">j</span> <span class=\"o\">=</span> <span class=\"n\">T</span><span class=\"o\">.</span><span class=\"n\">axis</span><span class=\"o\">.</span><span class=\"n\">spatial</span><span class=\"p\">(</span><span class=\"mi\">128</span><span class=\"p\">,</span> <span class=\"n\">i2_0</span> <span class=\"o\">*</span> <span class=\"mi\">8</span> <span class=\"o\">+</span> <span class=\"n\">ax0</span><span class=\"p\">)</span>\n",
              "                        <span class=\"n\">T</span><span class=\"o\">.</span><span class=\"n\">reads</span><span class=\"p\">(</span><span class=\"n\">Y</span><span class=\"p\">[</span><span class=\"n\">n</span><span class=\"p\">,</span> <span class=\"n\">i</span><span class=\"p\">,</span> <span class=\"n\">j</span><span class=\"p\">])</span>\n",
              "                        <span class=\"n\">T</span><span class=\"o\">.</span><span class=\"n\">writes</span><span class=\"p\">(</span><span class=\"n\">C</span><span class=\"p\">[</span><span class=\"n\">n</span><span class=\"p\">,</span> <span class=\"n\">i</span><span class=\"p\">,</span> <span class=\"n\">j</span><span class=\"p\">])</span>\n",
              "                        <span class=\"n\">C</span><span class=\"p\">[</span><span class=\"n\">n</span><span class=\"p\">,</span> <span class=\"n\">i</span><span class=\"p\">,</span> <span class=\"n\">j</span><span class=\"p\">]</span> <span class=\"o\">=</span> <span class=\"n\">T</span><span class=\"o\">.</span><span class=\"n\">max</span><span class=\"p\">(</span><span class=\"n\">Y</span><span class=\"p\">[</span><span class=\"n\">n</span><span class=\"p\">,</span> <span class=\"n\">i</span><span class=\"p\">,</span> <span class=\"n\">j</span><span class=\"p\">],</span> <span class=\"n\">T</span><span class=\"o\">.</span><span class=\"n\">float32</span><span class=\"p\">(</span><span class=\"mi\">0</span><span class=\"p\">))</span>\n",
              "    \n",
              "</pre></div>\n",
              "\n"
            ]
          },
          "metadata": {},
          "execution_count": 28
        }
      ]
    },
    {
      "cell_type": "code",
      "source": [
        "tvm.ir.assert_structural_equal(sch.mod, TargetModule)\n",
        "print(\"Pass: transform equal TargetModule\")"
      ],
      "metadata": {
        "colab": {
          "base_uri": "https://localhost:8080/"
        },
        "id": "03U5shXSZKjw",
        "outputId": "6e11c154-635a-41c6-9728-291dc9a4594c"
      },
      "execution_count": 29,
      "outputs": [
        {
          "output_type": "stream",
          "name": "stdout",
          "text": [
            "Pass: transform equal TargetModule\n"
          ]
        }
      ]
    },
    {
      "cell_type": "code",
      "source": [
        "# eval performance\n",
        "before_rt_lib = tvm.build(MyBmmRelu, target=\"llvm\")\n",
        "after_rt_lib = tvm.build(sch.mod, target=\"llvm\")\n",
        "a_tvm = tvm.nd.array(np.random.rand(16, 128, 128).astype(\"float32\"))\n",
        "b_tvm = tvm.nd.array(np.random.rand(16, 128, 128).astype(\"float32\"))\n",
        "c_tvm = tvm.nd.array(np.random.rand(16, 128, 128).astype(\"float32\"))\n",
        "after_rt_lib[\"bmm_relu\"](a_tvm, b_tvm, c_tvm)\n",
        "before_timer = before_rt_lib.time_evaluator(\"bmm_relu\", tvm.cpu())\n",
        "print(\"Before transformation:\")\n",
        "print(before_timer(a_tvm, b_tvm, c_tvm))"
      ],
      "metadata": {
        "colab": {
          "base_uri": "https://localhost:8080/"
        },
        "id": "TQkXI3IlZKzp",
        "outputId": "920699bd-85ad-4954-ea69-a431e1cbb99b"
      },
      "execution_count": 30,
      "outputs": [
        {
          "output_type": "stream",
          "name": "stdout",
          "text": [
            "Before transformation:\n",
            "Execution time summary:\n",
            " mean (ms)   median (ms)    max (ms)     min (ms)     std (ms)  \n",
            "  57.3902      57.3902      57.3902      57.3902       0.0000   \n",
            "               \n"
          ]
        }
      ]
    },
    {
      "cell_type": "code",
      "source": [
        "f_timer = after_rt_lib.time_evaluator(\"bmm_relu\", tvm.cpu())\n",
        "print(\"After transformation:\")\n",
        "print(f_timer(a_tvm, b_tvm, c_tvm))"
      ],
      "metadata": {
        "colab": {
          "base_uri": "https://localhost:8080/"
        },
        "id": "6Kd1S5o9ZNiY",
        "outputId": "f00a1c63-b32d-4af2-b815-f32dd34805dc"
      },
      "execution_count": 31,
      "outputs": [
        {
          "output_type": "stream",
          "name": "stdout",
          "text": [
            "After transformation:\n",
            "Execution time summary:\n",
            " mean (ms)   median (ms)    max (ms)     min (ms)     std (ms)  \n",
            "  15.3903      15.3903      15.3903      15.3903       0.0000   \n",
            "               \n"
          ]
        }
      ]
    },
    {
      "cell_type": "code",
      "source": [
        ""
      ],
      "metadata": {
        "id": "UgDs77CbZP6i"
      },
      "execution_count": 31,
      "outputs": []
    }
  ]
}